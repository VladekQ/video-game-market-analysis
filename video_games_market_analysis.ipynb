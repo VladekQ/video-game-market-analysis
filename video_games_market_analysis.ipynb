{
 "cells": [
  {
   "cell_type": "markdown",
   "metadata": {},
   "source": [
    "## Описание проекта"
   ]
  },
  {
   "cell_type": "markdown",
   "metadata": {},
   "source": [
    "Интернет-магазин «Стримчик» продаёт по всему миру компьютерные игры. Из открытых источников доступны исторические данные о продажах игр, оценки пользователей и экспертов, жанры и платформы (например, Xbox или PlayStation). Необходимо выявить определяющие успешность игры закономерности. Это позволит сделать ставку на потенциально популярный продукт и спланировать рекламные кампании.\n",
    "\n",
    "Имеются данные до 2016 года. Представим, что сейчас декабрь 2016 г., и планируется кампания на 2017-й.\n",
    "\n",
    "В наборе данных попадается аббревиатура ESRB (Entertainment Software Rating Board) — это ассоциация, определяющая возрастной рейтинг компьютерных игр. ESRB оценивает игровой контент и присваивает ему подходящую возрастную категорию, например, «Для взрослых», «Для детей младшего возраста» или «Для подростков».\n",
    "\n",
    "<b>Цель:</b> выявить определяющие успешность игры закономерности."
   ]
  },
  {
   "cell_type": "markdown",
   "metadata": {},
   "source": [
    "## Загрузка и обработка данных"
   ]
  },
  {
   "cell_type": "markdown",
   "metadata": {},
   "source": [
    "### Загрузка"
   ]
  },
  {
   "cell_type": "code",
   "execution_count": 5,
   "metadata": {},
   "outputs": [],
   "source": [
    "import pandas as pd\n",
    "import numpy as np\n",
    "import matplotlib.pyplot as plt\n",
    "from scipy import stats as st\n",
    "\n",
    "games = pd.read_csv('games.csv')"
   ]
  },
  {
   "cell_type": "code",
   "execution_count": 6,
   "metadata": {},
   "outputs": [
    {
     "name": "stdout",
     "output_type": "stream",
     "text": [
      "<class 'pandas.core.frame.DataFrame'>\n",
      "RangeIndex: 16715 entries, 0 to 16714\n",
      "Data columns (total 11 columns):\n",
      " #   Column           Non-Null Count  Dtype  \n",
      "---  ------           --------------  -----  \n",
      " 0   Name             16713 non-null  object \n",
      " 1   Platform         16715 non-null  object \n",
      " 2   Year_of_Release  16446 non-null  float64\n",
      " 3   Genre            16713 non-null  object \n",
      " 4   NA_sales         16715 non-null  float64\n",
      " 5   EU_sales         16715 non-null  float64\n",
      " 6   JP_sales         16715 non-null  float64\n",
      " 7   Other_sales      16715 non-null  float64\n",
      " 8   Critic_Score     8137 non-null   float64\n",
      " 9   User_Score       10014 non-null  object \n",
      " 10  Rating           9949 non-null   object \n",
      "dtypes: float64(6), object(5)\n",
      "memory usage: 1.4+ MB\n"
     ]
    },
    {
     "data": {
      "text/html": [
       "<div>\n",
       "<style scoped>\n",
       "    .dataframe tbody tr th:only-of-type {\n",
       "        vertical-align: middle;\n",
       "    }\n",
       "\n",
       "    .dataframe tbody tr th {\n",
       "        vertical-align: top;\n",
       "    }\n",
       "\n",
       "    .dataframe thead th {\n",
       "        text-align: right;\n",
       "    }\n",
       "</style>\n",
       "<table border=\"1\" class=\"dataframe\">\n",
       "  <thead>\n",
       "    <tr style=\"text-align: right;\">\n",
       "      <th></th>\n",
       "      <th>Name</th>\n",
       "      <th>Platform</th>\n",
       "      <th>Year_of_Release</th>\n",
       "      <th>Genre</th>\n",
       "      <th>NA_sales</th>\n",
       "      <th>EU_sales</th>\n",
       "      <th>JP_sales</th>\n",
       "      <th>Other_sales</th>\n",
       "      <th>Critic_Score</th>\n",
       "      <th>User_Score</th>\n",
       "      <th>Rating</th>\n",
       "    </tr>\n",
       "  </thead>\n",
       "  <tbody>\n",
       "    <tr>\n",
       "      <th>0</th>\n",
       "      <td>Wii Sports</td>\n",
       "      <td>Wii</td>\n",
       "      <td>2006.0</td>\n",
       "      <td>Sports</td>\n",
       "      <td>41.36</td>\n",
       "      <td>28.96</td>\n",
       "      <td>3.77</td>\n",
       "      <td>8.45</td>\n",
       "      <td>76.0</td>\n",
       "      <td>8</td>\n",
       "      <td>E</td>\n",
       "    </tr>\n",
       "    <tr>\n",
       "      <th>1</th>\n",
       "      <td>Super Mario Bros.</td>\n",
       "      <td>NES</td>\n",
       "      <td>1985.0</td>\n",
       "      <td>Platform</td>\n",
       "      <td>29.08</td>\n",
       "      <td>3.58</td>\n",
       "      <td>6.81</td>\n",
       "      <td>0.77</td>\n",
       "      <td>NaN</td>\n",
       "      <td>NaN</td>\n",
       "      <td>NaN</td>\n",
       "    </tr>\n",
       "    <tr>\n",
       "      <th>2</th>\n",
       "      <td>Mario Kart Wii</td>\n",
       "      <td>Wii</td>\n",
       "      <td>2008.0</td>\n",
       "      <td>Racing</td>\n",
       "      <td>15.68</td>\n",
       "      <td>12.76</td>\n",
       "      <td>3.79</td>\n",
       "      <td>3.29</td>\n",
       "      <td>82.0</td>\n",
       "      <td>8.3</td>\n",
       "      <td>E</td>\n",
       "    </tr>\n",
       "    <tr>\n",
       "      <th>3</th>\n",
       "      <td>Wii Sports Resort</td>\n",
       "      <td>Wii</td>\n",
       "      <td>2009.0</td>\n",
       "      <td>Sports</td>\n",
       "      <td>15.61</td>\n",
       "      <td>10.93</td>\n",
       "      <td>3.28</td>\n",
       "      <td>2.95</td>\n",
       "      <td>80.0</td>\n",
       "      <td>8</td>\n",
       "      <td>E</td>\n",
       "    </tr>\n",
       "    <tr>\n",
       "      <th>4</th>\n",
       "      <td>Pokemon Red/Pokemon Blue</td>\n",
       "      <td>GB</td>\n",
       "      <td>1996.0</td>\n",
       "      <td>Role-Playing</td>\n",
       "      <td>11.27</td>\n",
       "      <td>8.89</td>\n",
       "      <td>10.22</td>\n",
       "      <td>1.00</td>\n",
       "      <td>NaN</td>\n",
       "      <td>NaN</td>\n",
       "      <td>NaN</td>\n",
       "    </tr>\n",
       "  </tbody>\n",
       "</table>\n",
       "</div>"
      ],
      "text/plain": [
       "                       Name Platform  Year_of_Release         Genre  NA_sales  \\\n",
       "0                Wii Sports      Wii           2006.0        Sports     41.36   \n",
       "1         Super Mario Bros.      NES           1985.0      Platform     29.08   \n",
       "2            Mario Kart Wii      Wii           2008.0        Racing     15.68   \n",
       "3         Wii Sports Resort      Wii           2009.0        Sports     15.61   \n",
       "4  Pokemon Red/Pokemon Blue       GB           1996.0  Role-Playing     11.27   \n",
       "\n",
       "   EU_sales  JP_sales  Other_sales  Critic_Score User_Score Rating  \n",
       "0     28.96      3.77         8.45          76.0          8      E  \n",
       "1      3.58      6.81         0.77           NaN        NaN    NaN  \n",
       "2     12.76      3.79         3.29          82.0        8.3      E  \n",
       "3     10.93      3.28         2.95          80.0          8      E  \n",
       "4      8.89     10.22         1.00           NaN        NaN    NaN  "
      ]
     },
     "execution_count": 6,
     "metadata": {},
     "output_type": "execute_result"
    }
   ],
   "source": [
    "games.info()\n",
    "games.head()"
   ]
  },
  {
   "cell_type": "markdown",
   "metadata": {},
   "source": [
    "### Замена названий столбцов"
   ]
  },
  {
   "cell_type": "markdown",
   "metadata": {},
   "source": [
    "В первую очередь заменим названия столбцов на более удобные для работы"
   ]
  },
  {
   "cell_type": "code",
   "execution_count": 7,
   "metadata": {},
   "outputs": [
    {
     "data": {
      "text/plain": [
       "Index(['name', 'platform', 'year_of_release', 'genre', 'na_sales', 'eu_sales',\n",
       "       'jp_sales', 'other_sales', 'critic_score', 'user_score', 'rating'],\n",
       "      dtype='object')"
      ]
     },
     "execution_count": 7,
     "metadata": {},
     "output_type": "execute_result"
    }
   ],
   "source": [
    "games.columns = list((map(lambda x: x.lower(), games.columns)))\n",
    "games.columns"
   ]
  },
  {
   "cell_type": "markdown",
   "metadata": {},
   "source": [
    "### Преобразование данных к нужным типам"
   ]
  },
  {
   "cell_type": "markdown",
   "metadata": {},
   "source": [
    "Далее преобразуем данные в нужные типы:\n",
    "\n",
    "<b>user_score - float</b>"
   ]
  },
  {
   "cell_type": "code",
   "execution_count": 8,
   "metadata": {
    "scrolled": false
   },
   "outputs": [
    {
     "data": {
      "text/plain": [
       "array(['8', nan, '8.3', '8.5', '6.6', '8.4', '8.6', '7.7', '6.3', '7.4',\n",
       "       '8.2', '9', '7.9', '8.1', '8.7', '7.1', '3.4', '5.3', '4.8', '3.2',\n",
       "       '8.9', '6.4', '7.8', '7.5', '2.6', '7.2', '9.2', '7', '7.3', '4.3',\n",
       "       '7.6', '5.7', '5', '9.1', '6.5', 'tbd', '8.8', '6.9', '9.4', '6.8',\n",
       "       '6.1', '6.7', '5.4', '4', '4.9', '4.5', '9.3', '6.2', '4.2', '6',\n",
       "       '3.7', '4.1', '5.8', '5.6', '5.5', '4.4', '4.6', '5.9', '3.9',\n",
       "       '3.1', '2.9', '5.2', '3.3', '4.7', '5.1', '3.5', '2.5', '1.9', '3',\n",
       "       '2.7', '2.2', '2', '9.5', '2.1', '3.6', '2.8', '1.8', '3.8', '0',\n",
       "       '1.6', '9.6', '2.4', '1.7', '1.1', '0.3', '1.5', '0.7', '1.2',\n",
       "       '2.3', '0.5', '1.3', '0.2', '0.6', '1.4', '0.9', '1', '9.7'],\n",
       "      dtype=object)"
      ]
     },
     "execution_count": 8,
     "metadata": {},
     "output_type": "execute_result"
    }
   ],
   "source": [
    "games['user_score'].unique()"
   ]
  },
  {
   "cell_type": "markdown",
   "metadata": {},
   "source": [
    "Как мы видим, в данном столбце присутствует объект 'tbd', поэтому у столбца тип данных 'object'. 'tbd' означает 'будет решено, определено', соответственно, оценка неизвестна, можем подставить вместо этого значения 'NaN', а потом преобразовать данные в столбце."
   ]
  },
  {
   "cell_type": "code",
   "execution_count": 9,
   "metadata": {},
   "outputs": [
    {
     "data": {
      "text/plain": [
       "dtype('float64')"
      ]
     },
     "execution_count": 9,
     "metadata": {},
     "output_type": "execute_result"
    }
   ],
   "source": [
    "games['user_score'] = games['user_score'].replace('tbd', np.nan).astype('float')\n",
    "games['user_score'].dtype"
   ]
  },
  {
   "cell_type": "markdown",
   "metadata": {},
   "source": [
    "Преобразование типа данных было прозиведено по причине того, что этот столбец означает оценку пользователя в цифрах, а не в строковом формате."
   ]
  },
  {
   "cell_type": "markdown",
   "metadata": {},
   "source": [
    "### Обработка пропущенных значений"
   ]
  },
  {
   "cell_type": "markdown",
   "metadata": {},
   "source": [
    "Этих преобразований типов пока достаточно для дальнейшей работы. \n",
    "\n",
    "<b>Перейдем к пропущенным значениям.</b>\n",
    "\n",
    "Проверим количество пропусков."
   ]
  },
  {
   "cell_type": "code",
   "execution_count": 10,
   "metadata": {},
   "outputs": [
    {
     "data": {
      "text/plain": [
       "name                  2\n",
       "platform              0\n",
       "year_of_release     269\n",
       "genre                 2\n",
       "na_sales              0\n",
       "eu_sales              0\n",
       "jp_sales              0\n",
       "other_sales           0\n",
       "critic_score       8578\n",
       "user_score         9125\n",
       "rating             6766\n",
       "dtype: int64"
      ]
     },
     "execution_count": 10,
     "metadata": {},
     "output_type": "execute_result"
    }
   ],
   "source": [
    "games.isna().sum()"
   ]
  },
  {
   "cell_type": "markdown",
   "metadata": {},
   "source": [
    "#### Столбец 'name'"
   ]
  },
  {
   "cell_type": "markdown",
   "metadata": {},
   "source": [
    "Начнем по порядку:\n",
    "\n",
    "<b>'name' - 2 пропущенных значения.</b>\n",
    "\n",
    "Очевидно, что если мы не знаем название игры, то нет никакого смысла анализировать эти данные, ведь присвоить их будет не к чему. Возможно данные были утеряны.\n",
    "\n",
    "<b>Удаляем эти данные. </b>"
   ]
  },
  {
   "cell_type": "code",
   "execution_count": 11,
   "metadata": {},
   "outputs": [],
   "source": [
    "games = games.dropna(axis=0, subset=['name']).reset_index(drop=True)"
   ]
  },
  {
   "cell_type": "markdown",
   "metadata": {},
   "source": [
    "#### Столбец 'year_of_release'"
   ]
  },
  {
   "cell_type": "markdown",
   "metadata": {},
   "source": [
    "Можно было бы заменить пропущенные годы выпуска относительно платформе, на которую выпускали игру, но разброс слишком большой (сводная таблица представлена ниже), чтобы угадывать эти данные, <b>поэтому удалим их.</b>\n",
    "\n",
    "Причиной пропусков вполне возможно могла оказаться утеря данных."
   ]
  },
  {
   "cell_type": "code",
   "execution_count": 12,
   "metadata": {},
   "outputs": [
    {
     "data": {
      "text/html": [
       "<div>\n",
       "<style scoped>\n",
       "    .dataframe tbody tr th:only-of-type {\n",
       "        vertical-align: middle;\n",
       "    }\n",
       "\n",
       "    .dataframe tbody tr th {\n",
       "        vertical-align: top;\n",
       "    }\n",
       "\n",
       "    .dataframe thead tr th {\n",
       "        text-align: left;\n",
       "    }\n",
       "\n",
       "    .dataframe thead tr:last-of-type th {\n",
       "        text-align: right;\n",
       "    }\n",
       "</style>\n",
       "<table border=\"1\" class=\"dataframe\">\n",
       "  <thead>\n",
       "    <tr>\n",
       "      <th></th>\n",
       "      <th>min</th>\n",
       "      <th>max</th>\n",
       "    </tr>\n",
       "    <tr>\n",
       "      <th></th>\n",
       "      <th>year_of_release</th>\n",
       "      <th>year_of_release</th>\n",
       "    </tr>\n",
       "    <tr>\n",
       "      <th>platform</th>\n",
       "      <th></th>\n",
       "      <th></th>\n",
       "    </tr>\n",
       "  </thead>\n",
       "  <tbody>\n",
       "    <tr>\n",
       "      <th>2600</th>\n",
       "      <td>1980.0</td>\n",
       "      <td>1989.0</td>\n",
       "    </tr>\n",
       "    <tr>\n",
       "      <th>3DO</th>\n",
       "      <td>1994.0</td>\n",
       "      <td>1995.0</td>\n",
       "    </tr>\n",
       "    <tr>\n",
       "      <th>3DS</th>\n",
       "      <td>2011.0</td>\n",
       "      <td>2016.0</td>\n",
       "    </tr>\n",
       "    <tr>\n",
       "      <th>DC</th>\n",
       "      <td>1998.0</td>\n",
       "      <td>2008.0</td>\n",
       "    </tr>\n",
       "    <tr>\n",
       "      <th>DS</th>\n",
       "      <td>1985.0</td>\n",
       "      <td>2013.0</td>\n",
       "    </tr>\n",
       "    <tr>\n",
       "      <th>GB</th>\n",
       "      <td>1988.0</td>\n",
       "      <td>2001.0</td>\n",
       "    </tr>\n",
       "    <tr>\n",
       "      <th>GBA</th>\n",
       "      <td>2000.0</td>\n",
       "      <td>2007.0</td>\n",
       "    </tr>\n",
       "    <tr>\n",
       "      <th>GC</th>\n",
       "      <td>2001.0</td>\n",
       "      <td>2007.0</td>\n",
       "    </tr>\n",
       "    <tr>\n",
       "      <th>GEN</th>\n",
       "      <td>1990.0</td>\n",
       "      <td>1994.0</td>\n",
       "    </tr>\n",
       "    <tr>\n",
       "      <th>GG</th>\n",
       "      <td>1992.0</td>\n",
       "      <td>1992.0</td>\n",
       "    </tr>\n",
       "    <tr>\n",
       "      <th>N64</th>\n",
       "      <td>1996.0</td>\n",
       "      <td>2002.0</td>\n",
       "    </tr>\n",
       "    <tr>\n",
       "      <th>NES</th>\n",
       "      <td>1983.0</td>\n",
       "      <td>1994.0</td>\n",
       "    </tr>\n",
       "    <tr>\n",
       "      <th>NG</th>\n",
       "      <td>1993.0</td>\n",
       "      <td>1996.0</td>\n",
       "    </tr>\n",
       "    <tr>\n",
       "      <th>PC</th>\n",
       "      <td>1985.0</td>\n",
       "      <td>2016.0</td>\n",
       "    </tr>\n",
       "    <tr>\n",
       "      <th>PCFX</th>\n",
       "      <td>1996.0</td>\n",
       "      <td>1996.0</td>\n",
       "    </tr>\n",
       "    <tr>\n",
       "      <th>PS</th>\n",
       "      <td>1994.0</td>\n",
       "      <td>2003.0</td>\n",
       "    </tr>\n",
       "    <tr>\n",
       "      <th>PS2</th>\n",
       "      <td>2000.0</td>\n",
       "      <td>2011.0</td>\n",
       "    </tr>\n",
       "    <tr>\n",
       "      <th>PS3</th>\n",
       "      <td>2006.0</td>\n",
       "      <td>2016.0</td>\n",
       "    </tr>\n",
       "    <tr>\n",
       "      <th>PS4</th>\n",
       "      <td>2013.0</td>\n",
       "      <td>2016.0</td>\n",
       "    </tr>\n",
       "    <tr>\n",
       "      <th>PSP</th>\n",
       "      <td>2004.0</td>\n",
       "      <td>2015.0</td>\n",
       "    </tr>\n",
       "    <tr>\n",
       "      <th>PSV</th>\n",
       "      <td>2011.0</td>\n",
       "      <td>2016.0</td>\n",
       "    </tr>\n",
       "    <tr>\n",
       "      <th>SAT</th>\n",
       "      <td>1994.0</td>\n",
       "      <td>1999.0</td>\n",
       "    </tr>\n",
       "    <tr>\n",
       "      <th>SCD</th>\n",
       "      <td>1993.0</td>\n",
       "      <td>1994.0</td>\n",
       "    </tr>\n",
       "    <tr>\n",
       "      <th>SNES</th>\n",
       "      <td>1990.0</td>\n",
       "      <td>1999.0</td>\n",
       "    </tr>\n",
       "    <tr>\n",
       "      <th>TG16</th>\n",
       "      <td>1995.0</td>\n",
       "      <td>1995.0</td>\n",
       "    </tr>\n",
       "    <tr>\n",
       "      <th>WS</th>\n",
       "      <td>1999.0</td>\n",
       "      <td>2001.0</td>\n",
       "    </tr>\n",
       "    <tr>\n",
       "      <th>Wii</th>\n",
       "      <td>2006.0</td>\n",
       "      <td>2016.0</td>\n",
       "    </tr>\n",
       "    <tr>\n",
       "      <th>WiiU</th>\n",
       "      <td>2012.0</td>\n",
       "      <td>2016.0</td>\n",
       "    </tr>\n",
       "    <tr>\n",
       "      <th>X360</th>\n",
       "      <td>2005.0</td>\n",
       "      <td>2016.0</td>\n",
       "    </tr>\n",
       "    <tr>\n",
       "      <th>XB</th>\n",
       "      <td>2000.0</td>\n",
       "      <td>2008.0</td>\n",
       "    </tr>\n",
       "    <tr>\n",
       "      <th>XOne</th>\n",
       "      <td>2013.0</td>\n",
       "      <td>2016.0</td>\n",
       "    </tr>\n",
       "  </tbody>\n",
       "</table>\n",
       "</div>"
      ],
      "text/plain": [
       "                     min             max\n",
       "         year_of_release year_of_release\n",
       "platform                                \n",
       "2600              1980.0          1989.0\n",
       "3DO               1994.0          1995.0\n",
       "3DS               2011.0          2016.0\n",
       "DC                1998.0          2008.0\n",
       "DS                1985.0          2013.0\n",
       "GB                1988.0          2001.0\n",
       "GBA               2000.0          2007.0\n",
       "GC                2001.0          2007.0\n",
       "GEN               1990.0          1994.0\n",
       "GG                1992.0          1992.0\n",
       "N64               1996.0          2002.0\n",
       "NES               1983.0          1994.0\n",
       "NG                1993.0          1996.0\n",
       "PC                1985.0          2016.0\n",
       "PCFX              1996.0          1996.0\n",
       "PS                1994.0          2003.0\n",
       "PS2               2000.0          2011.0\n",
       "PS3               2006.0          2016.0\n",
       "PS4               2013.0          2016.0\n",
       "PSP               2004.0          2015.0\n",
       "PSV               2011.0          2016.0\n",
       "SAT               1994.0          1999.0\n",
       "SCD               1993.0          1994.0\n",
       "SNES              1990.0          1999.0\n",
       "TG16              1995.0          1995.0\n",
       "WS                1999.0          2001.0\n",
       "Wii               2006.0          2016.0\n",
       "WiiU              2012.0          2016.0\n",
       "X360              2005.0          2016.0\n",
       "XB                2000.0          2008.0\n",
       "XOne              2013.0          2016.0"
      ]
     },
     "execution_count": 12,
     "metadata": {},
     "output_type": "execute_result"
    }
   ],
   "source": [
    "games.pivot_table(index='platform', values='year_of_release', aggfunc=[min, max])"
   ]
  },
  {
   "cell_type": "code",
   "execution_count": 13,
   "metadata": {},
   "outputs": [],
   "source": [
    "games = games.dropna(axis=0, subset=['year_of_release']).reset_index(drop=True)"
   ]
  },
  {
   "cell_type": "markdown",
   "metadata": {},
   "source": [
    "Я удалил эти данные так как в дальнейшем мы будем анализировать игры по годам выпуска, а искаженные данные нам не нужны. Пусть лучше этих игр не будет в списке вовсе.\n",
    "\n",
    "Теперь мы можем преобразовать тип данных в этом столбце к 'int'"
   ]
  },
  {
   "cell_type": "code",
   "execution_count": 14,
   "metadata": {},
   "outputs": [
    {
     "data": {
      "text/plain": [
       "dtype('int32')"
      ]
     },
     "execution_count": 14,
     "metadata": {},
     "output_type": "execute_result"
    }
   ],
   "source": [
    "games['year_of_release'] = games['year_of_release'].astype('int')\n",
    "games['year_of_release'].dtype"
   ]
  },
  {
   "cell_type": "markdown",
   "metadata": {},
   "source": [
    "#### Остальные столбцы"
   ]
  },
  {
   "cell_type": "markdown",
   "metadata": {},
   "source": [
    "Проверим оставшиеся пропущенные значения."
   ]
  },
  {
   "cell_type": "code",
   "execution_count": 15,
   "metadata": {},
   "outputs": [
    {
     "data": {
      "text/plain": [
       "name                  0\n",
       "platform              0\n",
       "year_of_release       0\n",
       "genre                 0\n",
       "na_sales              0\n",
       "eu_sales              0\n",
       "jp_sales              0\n",
       "other_sales           0\n",
       "critic_score       8461\n",
       "user_score         8981\n",
       "rating             6676\n",
       "dtype: int64"
      ]
     },
     "execution_count": 15,
     "metadata": {},
     "output_type": "execute_result"
    }
   ],
   "source": [
    "games.isna().sum()"
   ]
  },
  {
   "cell_type": "markdown",
   "metadata": {},
   "source": [
    "<b>Я считаю, что пропущенные значения в столбцах, которые относятся к \"рейтингу\" и \"отзывам\" стоит оставить, потому что мы практически ничего не можем поделать с этими \"важными\" значениями, кроме как удалить их. Но удалять такое количество данных непозволимо, поэтому оставим их так как есть.</b>\n",
    "\n",
    "Причиной этих пропусков могла оказаться потеря данных, либо же на время выхода игры не было возможности собрать, например, все отзывы пользователей воедино и составить общий портрет. Игра могла быть слишком старой и на то время не давали рейтинги играм."
   ]
  },
  {
   "cell_type": "markdown",
   "metadata": {},
   "source": [
    "### Подсчет суммарных продаж"
   ]
  },
  {
   "cell_type": "code",
   "execution_count": 16,
   "metadata": {},
   "outputs": [],
   "source": [
    "games['all_sales'] = games['na_sales'] + games['eu_sales'] + games['jp_sales'] + games['other_sales']"
   ]
  },
  {
   "cell_type": "markdown",
   "metadata": {},
   "source": [
    "## Исследовательский анализ данных"
   ]
  },
  {
   "cell_type": "markdown",
   "metadata": {},
   "source": [
    "<b>Посмотрим, сколько игр выпускалось в разные годы. \n",
    "    \n",
    "Важны ли данные за все периоды?</b>"
   ]
  },
  {
   "cell_type": "code",
   "execution_count": 17,
   "metadata": {},
   "outputs": [
    {
     "data": {
      "image/png": "[encoded data removed]",
      "text/plain": [
       "<Figure size 432x288 with 1 Axes>"
      ]
     },
     "metadata": {
      "needs_background": "light"
     },
     "output_type": "display_data"
    }
   ],
   "source": [
    "games.pivot_table(index='year_of_release', values='name', aggfunc='count').plot(kind='bar', title='Количество выпущенных игр (по годам)');"
   ]
  },
  {
   "cell_type": "code",
   "execution_count": 18,
   "metadata": {},
   "outputs": [
    {
     "data": {
      "text/html": [
       "<div>\n",
       "<style scoped>\n",
       "    .dataframe tbody tr th:only-of-type {\n",
       "        vertical-align: middle;\n",
       "    }\n",
       "\n",
       "    .dataframe tbody tr th {\n",
       "        vertical-align: top;\n",
       "    }\n",
       "\n",
       "    .dataframe thead th {\n",
       "        text-align: right;\n",
       "    }\n",
       "</style>\n",
       "<table border=\"1\" class=\"dataframe\">\n",
       "  <thead>\n",
       "    <tr style=\"text-align: right;\">\n",
       "      <th></th>\n",
       "      <th>name</th>\n",
       "    </tr>\n",
       "    <tr>\n",
       "      <th>year_of_release</th>\n",
       "      <th></th>\n",
       "    </tr>\n",
       "  </thead>\n",
       "  <tbody>\n",
       "    <tr>\n",
       "      <th>1980</th>\n",
       "      <td>9</td>\n",
       "    </tr>\n",
       "    <tr>\n",
       "      <th>1981</th>\n",
       "      <td>46</td>\n",
       "    </tr>\n",
       "    <tr>\n",
       "      <th>1982</th>\n",
       "      <td>36</td>\n",
       "    </tr>\n",
       "    <tr>\n",
       "      <th>1983</th>\n",
       "      <td>17</td>\n",
       "    </tr>\n",
       "    <tr>\n",
       "      <th>1984</th>\n",
       "      <td>14</td>\n",
       "    </tr>\n",
       "    <tr>\n",
       "      <th>1985</th>\n",
       "      <td>14</td>\n",
       "    </tr>\n",
       "    <tr>\n",
       "      <th>1986</th>\n",
       "      <td>21</td>\n",
       "    </tr>\n",
       "    <tr>\n",
       "      <th>1987</th>\n",
       "      <td>16</td>\n",
       "    </tr>\n",
       "    <tr>\n",
       "      <th>1988</th>\n",
       "      <td>15</td>\n",
       "    </tr>\n",
       "    <tr>\n",
       "      <th>1989</th>\n",
       "      <td>17</td>\n",
       "    </tr>\n",
       "    <tr>\n",
       "      <th>1990</th>\n",
       "      <td>16</td>\n",
       "    </tr>\n",
       "    <tr>\n",
       "      <th>1991</th>\n",
       "      <td>41</td>\n",
       "    </tr>\n",
       "    <tr>\n",
       "      <th>1992</th>\n",
       "      <td>43</td>\n",
       "    </tr>\n",
       "    <tr>\n",
       "      <th>1993</th>\n",
       "      <td>60</td>\n",
       "    </tr>\n",
       "    <tr>\n",
       "      <th>1994</th>\n",
       "      <td>121</td>\n",
       "    </tr>\n",
       "    <tr>\n",
       "      <th>1995</th>\n",
       "      <td>219</td>\n",
       "    </tr>\n",
       "    <tr>\n",
       "      <th>1996</th>\n",
       "      <td>263</td>\n",
       "    </tr>\n",
       "    <tr>\n",
       "      <th>1997</th>\n",
       "      <td>289</td>\n",
       "    </tr>\n",
       "    <tr>\n",
       "      <th>1998</th>\n",
       "      <td>379</td>\n",
       "    </tr>\n",
       "    <tr>\n",
       "      <th>1999</th>\n",
       "      <td>338</td>\n",
       "    </tr>\n",
       "    <tr>\n",
       "      <th>2000</th>\n",
       "      <td>350</td>\n",
       "    </tr>\n",
       "    <tr>\n",
       "      <th>2001</th>\n",
       "      <td>482</td>\n",
       "    </tr>\n",
       "    <tr>\n",
       "      <th>2002</th>\n",
       "      <td>829</td>\n",
       "    </tr>\n",
       "    <tr>\n",
       "      <th>2003</th>\n",
       "      <td>775</td>\n",
       "    </tr>\n",
       "    <tr>\n",
       "      <th>2004</th>\n",
       "      <td>762</td>\n",
       "    </tr>\n",
       "    <tr>\n",
       "      <th>2005</th>\n",
       "      <td>939</td>\n",
       "    </tr>\n",
       "    <tr>\n",
       "      <th>2006</th>\n",
       "      <td>1006</td>\n",
       "    </tr>\n",
       "    <tr>\n",
       "      <th>2007</th>\n",
       "      <td>1197</td>\n",
       "    </tr>\n",
       "    <tr>\n",
       "      <th>2008</th>\n",
       "      <td>1427</td>\n",
       "    </tr>\n",
       "    <tr>\n",
       "      <th>2009</th>\n",
       "      <td>1426</td>\n",
       "    </tr>\n",
       "    <tr>\n",
       "      <th>2010</th>\n",
       "      <td>1255</td>\n",
       "    </tr>\n",
       "    <tr>\n",
       "      <th>2011</th>\n",
       "      <td>1136</td>\n",
       "    </tr>\n",
       "    <tr>\n",
       "      <th>2012</th>\n",
       "      <td>653</td>\n",
       "    </tr>\n",
       "    <tr>\n",
       "      <th>2013</th>\n",
       "      <td>544</td>\n",
       "    </tr>\n",
       "    <tr>\n",
       "      <th>2014</th>\n",
       "      <td>581</td>\n",
       "    </tr>\n",
       "    <tr>\n",
       "      <th>2015</th>\n",
       "      <td>606</td>\n",
       "    </tr>\n",
       "    <tr>\n",
       "      <th>2016</th>\n",
       "      <td>502</td>\n",
       "    </tr>\n",
       "  </tbody>\n",
       "</table>\n",
       "</div>"
      ],
      "text/plain": [
       "                 name\n",
       "year_of_release      \n",
       "1980                9\n",
       "1981               46\n",
       "1982               36\n",
       "1983               17\n",
       "1984               14\n",
       "1985               14\n",
       "1986               21\n",
       "1987               16\n",
       "1988               15\n",
       "1989               17\n",
       "1990               16\n",
       "1991               41\n",
       "1992               43\n",
       "1993               60\n",
       "1994              121\n",
       "1995              219\n",
       "1996              263\n",
       "1997              289\n",
       "1998              379\n",
       "1999              338\n",
       "2000              350\n",
       "2001              482\n",
       "2002              829\n",
       "2003              775\n",
       "2004              762\n",
       "2005              939\n",
       "2006             1006\n",
       "2007             1197\n",
       "2008             1427\n",
       "2009             1426\n",
       "2010             1255\n",
       "2011             1136\n",
       "2012              653\n",
       "2013              544\n",
       "2014              581\n",
       "2015              606\n",
       "2016              502"
      ]
     },
     "execution_count": 18,
     "metadata": {},
     "output_type": "execute_result"
    }
   ],
   "source": [
    "games.pivot_table(index='year_of_release', values='name', aggfunc='count')"
   ]
  },
  {
   "cell_type": "markdown",
   "metadata": {},
   "source": [
    "Как мы можем наблюдать в таблице, до 1994 года количество выпущенных игр не доходило даже до 100, в то время как в 2002 году выпустили уже 829 игр, а в 2008 аж 1427 игр.\n",
    "\n",
    "<b>Основываясь на этом, можно сказать, что данные с 1980 по 1993 гг. являются не такими важными, как за последующие года.</b>"
   ]
  },
  {
   "cell_type": "markdown",
   "metadata": {},
   "source": [
    "<b>------------------------------------------------------------------------------------------------------------------------------------------------------------------------------------------------------------------</b>"
   ]
  },
  {
   "cell_type": "markdown",
   "metadata": {},
   "source": [
    "<b>Посмотрим, как менялись продажи по платформам. Выберем платформы с наибольшими суммарными продажами (5) и построим распределение по годам. \n",
    "    \n",
    "За какой характерный срок появляются новые и исчезают старые платформы?</b>"
   ]
  },
  {
   "cell_type": "code",
   "execution_count": 19,
   "metadata": {},
   "outputs": [
    {
     "data": {
      "text/html": [
       "<div>\n",
       "<style scoped>\n",
       "    .dataframe tbody tr th:only-of-type {\n",
       "        vertical-align: middle;\n",
       "    }\n",
       "\n",
       "    .dataframe tbody tr th {\n",
       "        vertical-align: top;\n",
       "    }\n",
       "\n",
       "    .dataframe thead th {\n",
       "        text-align: right;\n",
       "    }\n",
       "</style>\n",
       "<table border=\"1\" class=\"dataframe\">\n",
       "  <thead>\n",
       "    <tr style=\"text-align: right;\">\n",
       "      <th></th>\n",
       "      <th>all_sales</th>\n",
       "    </tr>\n",
       "    <tr>\n",
       "      <th>platform</th>\n",
       "      <th></th>\n",
       "    </tr>\n",
       "  </thead>\n",
       "  <tbody>\n",
       "    <tr>\n",
       "      <th>PS2</th>\n",
       "      <td>1233.56</td>\n",
       "    </tr>\n",
       "    <tr>\n",
       "      <th>X360</th>\n",
       "      <td>961.24</td>\n",
       "    </tr>\n",
       "    <tr>\n",
       "      <th>PS3</th>\n",
       "      <td>931.34</td>\n",
       "    </tr>\n",
       "    <tr>\n",
       "      <th>Wii</th>\n",
       "      <td>891.18</td>\n",
       "    </tr>\n",
       "    <tr>\n",
       "      <th>DS</th>\n",
       "      <td>802.78</td>\n",
       "    </tr>\n",
       "  </tbody>\n",
       "</table>\n",
       "</div>"
      ],
      "text/plain": [
       "          all_sales\n",
       "platform           \n",
       "PS2         1233.56\n",
       "X360         961.24\n",
       "PS3          931.34\n",
       "Wii          891.18\n",
       "DS           802.78"
      ]
     },
     "execution_count": 19,
     "metadata": {},
     "output_type": "execute_result"
    }
   ],
   "source": [
    "games['all_sales'] = games['na_sales'] + games['eu_sales'] + games['jp_sales'] + games['other_sales']\n",
    "platform_sales = games.pivot_table(index='platform', values='all_sales', aggfunc='sum').sort_values(by='all_sales', ascending=False).head(5)\n",
    "platform_sales"
   ]
  },
  {
   "cell_type": "code",
   "execution_count": 20,
   "metadata": {},
   "outputs": [
    {
     "data": {
      "image/png": "[encoded data removed]",
      "text/plain": [
       "<Figure size 720x1296 with 5 Axes>"
      ]
     },
     "metadata": {
      "needs_background": "light"
     },
     "output_type": "display_data"
    }
   ],
   "source": [
    "top_platforms = list(platform_sales.index)\n",
    "fig, axs = plt.subplots(5, 1, figsize=(10, 18))\n",
    "ax = 0\n",
    "for platform in top_platforms:\n",
    "    games.query('platform == @platform')['year_of_release'].plot(kind='hist', title=platform, color='pink', ax = axs[ax]);\n",
    "    ax += 1"
   ]
  },
  {
   "cell_type": "markdown",
   "metadata": {},
   "source": [
    "Основываясь на гистограммах распределения, можно заметить, что продолжительность существования платформы на рынке примерно <b>10 лет.</b> Это и есть характерный срок."
   ]
  },
  {
   "cell_type": "markdown",
   "metadata": {},
   "source": [
    "<b>------------------------------------------------------------------------------------------------------------------------------------------------------------------------------------------------------------------</b>"
   ]
  },
  {
   "cell_type": "markdown",
   "metadata": {},
   "source": [
    "<b>Возьмем данные за соответствующий актуальный период. Актуальный период определим в результате исследования предыдущих вопросов. Основной фактор — эти данные помогут построить прогноз на 2017 год.</b>"
   ]
  },
  {
   "cell_type": "code",
   "execution_count": 21,
   "metadata": {},
   "outputs": [
    {
     "data": {
      "image/png": "[encoded data removed]",
      "text/plain": [
       "<Figure size 432x288 with 1 Axes>"
      ]
     },
     "metadata": {
      "needs_background": "light"
     },
     "output_type": "display_data"
    }
   ],
   "source": [
    "games.pivot_table(index='year_of_release', values='all_sales', aggfunc='sum').plot(kind='bar', color='pink', title='Глобальные продажи по годам');"
   ]
  },
  {
   "cell_type": "markdown",
   "metadata": {},
   "source": [
    "Основываясь на этой диаграмме можно увидеть, что рынок стабилизировался в 2012 году и последующие года глобальные продажи оставались стабильными, возможно тренды поменялись. \n",
    "\n",
    "<b>Возьмем актуальный период с 2012 по 2016 гг.</b>"
   ]
  },
  {
   "cell_type": "markdown",
   "metadata": {},
   "source": [
    "<b>------------------------------------------------------------------------------------------------------------------------------------------------------------------------------------------------------------------</b>"
   ]
  },
  {
   "cell_type": "markdown",
   "metadata": {},
   "source": [
    "<b>Не будем учитывать в работе данные за предыдущие годы.</b>"
   ]
  },
  {
   "cell_type": "code",
   "execution_count": 22,
   "metadata": {},
   "outputs": [
    {
     "data": {
      "text/html": [
       "<div>\n",
       "<style scoped>\n",
       "    .dataframe tbody tr th:only-of-type {\n",
       "        vertical-align: middle;\n",
       "    }\n",
       "\n",
       "    .dataframe tbody tr th {\n",
       "        vertical-align: top;\n",
       "    }\n",
       "\n",
       "    .dataframe thead th {\n",
       "        text-align: right;\n",
       "    }\n",
       "</style>\n",
       "<table border=\"1\" class=\"dataframe\">\n",
       "  <thead>\n",
       "    <tr style=\"text-align: right;\">\n",
       "      <th></th>\n",
       "      <th>name</th>\n",
       "      <th>platform</th>\n",
       "      <th>year_of_release</th>\n",
       "      <th>genre</th>\n",
       "      <th>na_sales</th>\n",
       "      <th>eu_sales</th>\n",
       "      <th>jp_sales</th>\n",
       "      <th>other_sales</th>\n",
       "      <th>critic_score</th>\n",
       "      <th>user_score</th>\n",
       "      <th>rating</th>\n",
       "      <th>all_sales</th>\n",
       "    </tr>\n",
       "  </thead>\n",
       "  <tbody>\n",
       "    <tr>\n",
       "      <th>0</th>\n",
       "      <td>Grand Theft Auto V</td>\n",
       "      <td>PS3</td>\n",
       "      <td>2013</td>\n",
       "      <td>Action</td>\n",
       "      <td>7.02</td>\n",
       "      <td>9.09</td>\n",
       "      <td>0.98</td>\n",
       "      <td>3.96</td>\n",
       "      <td>97.0</td>\n",
       "      <td>8.2</td>\n",
       "      <td>M</td>\n",
       "      <td>21.05</td>\n",
       "    </tr>\n",
       "    <tr>\n",
       "      <th>1</th>\n",
       "      <td>Grand Theft Auto V</td>\n",
       "      <td>X360</td>\n",
       "      <td>2013</td>\n",
       "      <td>Action</td>\n",
       "      <td>9.66</td>\n",
       "      <td>5.14</td>\n",
       "      <td>0.06</td>\n",
       "      <td>1.41</td>\n",
       "      <td>97.0</td>\n",
       "      <td>8.1</td>\n",
       "      <td>M</td>\n",
       "      <td>16.27</td>\n",
       "    </tr>\n",
       "    <tr>\n",
       "      <th>2</th>\n",
       "      <td>Call of Duty: Black Ops 3</td>\n",
       "      <td>PS4</td>\n",
       "      <td>2015</td>\n",
       "      <td>Shooter</td>\n",
       "      <td>6.03</td>\n",
       "      <td>5.86</td>\n",
       "      <td>0.36</td>\n",
       "      <td>2.38</td>\n",
       "      <td>NaN</td>\n",
       "      <td>NaN</td>\n",
       "      <td>NaN</td>\n",
       "      <td>14.63</td>\n",
       "    </tr>\n",
       "    <tr>\n",
       "      <th>3</th>\n",
       "      <td>Pokemon X/Pokemon Y</td>\n",
       "      <td>3DS</td>\n",
       "      <td>2013</td>\n",
       "      <td>Role-Playing</td>\n",
       "      <td>5.28</td>\n",
       "      <td>4.19</td>\n",
       "      <td>4.35</td>\n",
       "      <td>0.78</td>\n",
       "      <td>NaN</td>\n",
       "      <td>NaN</td>\n",
       "      <td>NaN</td>\n",
       "      <td>14.60</td>\n",
       "    </tr>\n",
       "    <tr>\n",
       "      <th>4</th>\n",
       "      <td>Call of Duty: Black Ops II</td>\n",
       "      <td>PS3</td>\n",
       "      <td>2012</td>\n",
       "      <td>Shooter</td>\n",
       "      <td>4.99</td>\n",
       "      <td>5.73</td>\n",
       "      <td>0.65</td>\n",
       "      <td>2.42</td>\n",
       "      <td>83.0</td>\n",
       "      <td>5.3</td>\n",
       "      <td>M</td>\n",
       "      <td>13.79</td>\n",
       "    </tr>\n",
       "  </tbody>\n",
       "</table>\n",
       "</div>"
      ],
      "text/plain": [
       "                         name platform  year_of_release         genre  \\\n",
       "0          Grand Theft Auto V      PS3             2013        Action   \n",
       "1          Grand Theft Auto V     X360             2013        Action   \n",
       "2   Call of Duty: Black Ops 3      PS4             2015       Shooter   \n",
       "3         Pokemon X/Pokemon Y      3DS             2013  Role-Playing   \n",
       "4  Call of Duty: Black Ops II      PS3             2012       Shooter   \n",
       "\n",
       "   na_sales  eu_sales  jp_sales  other_sales  critic_score  user_score rating  \\\n",
       "0      7.02      9.09      0.98         3.96          97.0         8.2      M   \n",
       "1      9.66      5.14      0.06         1.41          97.0         8.1      M   \n",
       "2      6.03      5.86      0.36         2.38           NaN         NaN    NaN   \n",
       "3      5.28      4.19      4.35         0.78           NaN         NaN    NaN   \n",
       "4      4.99      5.73      0.65         2.42          83.0         5.3      M   \n",
       "\n",
       "   all_sales  \n",
       "0      21.05  \n",
       "1      16.27  \n",
       "2      14.63  \n",
       "3      14.60  \n",
       "4      13.79  "
      ]
     },
     "execution_count": 22,
     "metadata": {},
     "output_type": "execute_result"
    }
   ],
   "source": [
    "games = games.query('year_of_release >= 2012').reset_index(drop=True)\n",
    "games.head()"
   ]
  },
  {
   "cell_type": "markdown",
   "metadata": {},
   "source": [
    "<b>------------------------------------------------------------------------------------------------------------------------------------------------------------------------------------------------------------------</b>"
   ]
  },
  {
   "cell_type": "markdown",
   "metadata": {},
   "source": [
    "<b>Какие платформы лидируют по продажам, растут или падают? Выберем несколько потенциально прибыльных платформ.</b>"
   ]
  },
  {
   "cell_type": "code",
   "execution_count": 23,
   "metadata": {},
   "outputs": [
    {
     "data": {
      "text/html": [
       "<div>\n",
       "<style scoped>\n",
       "    .dataframe tbody tr th:only-of-type {\n",
       "        vertical-align: middle;\n",
       "    }\n",
       "\n",
       "    .dataframe tbody tr th {\n",
       "        vertical-align: top;\n",
       "    }\n",
       "\n",
       "    .dataframe thead th {\n",
       "        text-align: right;\n",
       "    }\n",
       "</style>\n",
       "<table border=\"1\" class=\"dataframe\">\n",
       "  <thead>\n",
       "    <tr style=\"text-align: right;\">\n",
       "      <th></th>\n",
       "      <th>all_sales</th>\n",
       "    </tr>\n",
       "    <tr>\n",
       "      <th>platform</th>\n",
       "      <th></th>\n",
       "    </tr>\n",
       "  </thead>\n",
       "  <tbody>\n",
       "    <tr>\n",
       "      <th>PS4</th>\n",
       "      <td>314.14</td>\n",
       "    </tr>\n",
       "    <tr>\n",
       "      <th>PS3</th>\n",
       "      <td>288.79</td>\n",
       "    </tr>\n",
       "    <tr>\n",
       "      <th>X360</th>\n",
       "      <td>236.54</td>\n",
       "    </tr>\n",
       "    <tr>\n",
       "      <th>3DS</th>\n",
       "      <td>194.61</td>\n",
       "    </tr>\n",
       "    <tr>\n",
       "      <th>XOne</th>\n",
       "      <td>159.32</td>\n",
       "    </tr>\n",
       "    <tr>\n",
       "      <th>WiiU</th>\n",
       "      <td>82.19</td>\n",
       "    </tr>\n",
       "    <tr>\n",
       "      <th>PC</th>\n",
       "      <td>62.65</td>\n",
       "    </tr>\n",
       "    <tr>\n",
       "      <th>PSV</th>\n",
       "      <td>49.18</td>\n",
       "    </tr>\n",
       "    <tr>\n",
       "      <th>Wii</th>\n",
       "      <td>35.37</td>\n",
       "    </tr>\n",
       "    <tr>\n",
       "      <th>DS</th>\n",
       "      <td>12.55</td>\n",
       "    </tr>\n",
       "  </tbody>\n",
       "</table>\n",
       "</div>"
      ],
      "text/plain": [
       "          all_sales\n",
       "platform           \n",
       "PS4          314.14\n",
       "PS3          288.79\n",
       "X360         236.54\n",
       "3DS          194.61\n",
       "XOne         159.32\n",
       "WiiU          82.19\n",
       "PC            62.65\n",
       "PSV           49.18\n",
       "Wii           35.37\n",
       "DS            12.55"
      ]
     },
     "execution_count": 23,
     "metadata": {},
     "output_type": "execute_result"
    }
   ],
   "source": [
    "platform_sales = games.pivot_table(index='platform', values='all_sales', aggfunc='sum').sort_values(by='all_sales', ascending=False).head(10)\n",
    "platform_sales"
   ]
  },
  {
   "cell_type": "code",
   "execution_count": 24,
   "metadata": {
    "scrolled": false
   },
   "outputs": [
    {
     "data": {
      "image/png": "[encoded data removed]",
      "text/plain": [
       "<Figure size 1296x1008 with 10 Axes>"
      ]
     },
     "metadata": {
      "needs_background": "light"
     },
     "output_type": "display_data"
    }
   ],
   "source": [
    "fig, axs = plt.subplots(2, 5, figsize=(18, 14))\n",
    "ax = ((0, 0), (0, 1), (0, 2), (0, 3), (0, 4), (1, 0), (1, 1), (1, 2), (1, 3), (1, 4))\n",
    "i = 0\n",
    "top_platforms = list(platform_sales.index)\n",
    "for platform in top_platforms:\n",
    "    games.query('platform == @platform').pivot_table(index='year_of_release', values='all_sales', aggfunc='sum').plot(kind='bar', title=platform, color='pink', ax=axs[ax[i]]);\n",
    "    i += 1"
   ]
  },
  {
   "cell_type": "markdown",
   "metadata": {},
   "source": [
    "Основываясь на графиках, можно заметить, что продажи большинства лидирующих платформ стремительно снижаются с каждым годом, но исключениями являются платформы <b>PS4, XOne</b> так как они самые новые и лидирующие по характеристикам. Также на плаву остается и 3DS."
   ]
  },
  {
   "cell_type": "markdown",
   "metadata": {},
   "source": [
    "<b>Потенциально прибыльные платформы:</b>\n",
    "\n",
    "    PS4\n",
    "    Xbox One\n",
    "    3DS"
   ]
  },
  {
   "cell_type": "markdown",
   "metadata": {},
   "source": [
    "<b>------------------------------------------------------------------------------------------------------------------------------------------------------------------------------------------------------------------</b>"
   ]
  },
  {
   "cell_type": "markdown",
   "metadata": {},
   "source": [
    "<b>Постройте график «ящик с усами» по глобальным продажам игр в разбивке по платформам. Опишите результат.</b>"
   ]
  },
  {
   "cell_type": "code",
   "execution_count": 25,
   "metadata": {},
   "outputs": [
    {
     "data": {
      "image/png": "[encoded data removed]",
      "text/plain": [
       "<Figure size 1008x576 with 1 Axes>"
      ]
     },
     "metadata": {
      "needs_background": "light"
     },
     "output_type": "display_data"
    }
   ],
   "source": [
    "import warnings\n",
    "warnings.filterwarnings('ignore')\n",
    "\n",
    "games.boxplot(column='all_sales', by='platform', figsize=(14, 8));"
   ]
  },
  {
   "cell_type": "markdown",
   "metadata": {},
   "source": [
    "Основываясь на графиках можно сделать следующие выводы:\n",
    "\n",
    "- Глобальные продажи игр на всех платформах в основном не превышают 1 млн. копий\n",
    "\n",
    "- Многие платформы имеют выбросы, эти игры можно назвать хитами\n",
    "\n",
    "- Наибольший выброс присутствует у платформы PS3, одна игра разошлась в тираже больше 20 млн. копий\n",
    "\n",
    "- Платформа PSP не прославилась большим количеством выбросов или бестселлеров\n",
    "\n",
    "- Основные платформы, где больше всего бестселлеров (выбросов): 3DS, PS3, PS4, Xbox 360, Xbox One"
   ]
  },
  {
   "cell_type": "markdown",
   "metadata": {},
   "source": [
    "<b>------------------------------------------------------------------------------------------------------------------------------------------------------------------------------------------------------------------</b>"
   ]
  },
  {
   "cell_type": "markdown",
   "metadata": {},
   "source": [
    "<b>Посмотрим, как влияют на продажи внутри одной популярной платформы отзывы пользователей и критиков. Построим диаграмму рассеяния и посчитаем корреляцию между отзывами и продажами. Сформулируем выводы.</b>"
   ]
  },
  {
   "cell_type": "code",
   "execution_count": 26,
   "metadata": {},
   "outputs": [
    {
     "data": {
      "image/png": "[encoded data removed]",
      "text/plain": [
       "<Figure size 1008x360 with 2 Axes>"
      ]
     },
     "metadata": {
      "needs_background": "light"
     },
     "output_type": "display_data"
    }
   ],
   "source": [
    "fig, axs = plt.subplots(1, 2, figsize=(14, 5))\n",
    "games.query('platform == \"PS3\"').plot(kind='scatter', x='critic_score', y='all_sales', title='Диграмма рассеяния отзывов критиков PS3', color='pink', ax=axs[0]);\n",
    "games.query('platform == \"X360\"').plot(kind='scatter', x='critic_score', y='all_sales', title='Диграмма рассеяния отзывов критиков Xbox 360', color='pink', ax=axs[1]);"
   ]
  },
  {
   "cell_type": "code",
   "execution_count": 27,
   "metadata": {},
   "outputs": [
    {
     "name": "stdout",
     "output_type": "stream",
     "text": [
      "Корреляция между отзывами пользователей и глобальными продажами PS3: -0.005\n",
      "\n",
      "Корреляция между отзывами критиков и глобальными продажами PS3: 0.331\n"
     ]
    }
   ],
   "source": [
    "print('Корреляция между отзывами пользователей и глобальными продажами PS3: {:.3f}'.format(\n",
    "games.query('platform == \"PS3\"')['user_score'].corr(\n",
    "    games.query('platform == \"PS3\"')['all_sales']\n",
    "    )))\n",
    "print()\n",
    "print('Корреляция между отзывами критиков и глобальными продажами PS3: {:.3f}'.format(\n",
    "games.query('platform == \"PS3\"')['critic_score'].corr(\n",
    "    games.query('platform == \"PS3\"')['all_sales']\n",
    "    )))\n"
   ]
  },
  {
   "cell_type": "markdown",
   "metadata": {},
   "source": [
    "- Судя по всему, отзывы пользователей слабо влияют на глобальные продажи игр, а <b>отзывы критиков достаточно сильно влияют на глобальные продажи, это вполне логично</b>\n",
    "\n",
    "\n",
    "- Большинство игр имеют оценку выше 5 (по 10 бальной шкале) и выше 50 (по 100 бальной шкале)"
   ]
  },
  {
   "cell_type": "markdown",
   "metadata": {},
   "source": [
    "<b>------------------------------------------------------------------------------------------------------------------------------------------------------------------------------------------------------------------</b>"
   ]
  },
  {
   "cell_type": "markdown",
   "metadata": {},
   "source": [
    "<b>Соотнесем выводы с продажами игр на других платформах.</b>"
   ]
  },
  {
   "cell_type": "markdown",
   "metadata": {},
   "source": [
    "Рассмотрим влияют ли также отзывы критиков на глобальные продажи игр на другие платформы."
   ]
  },
  {
   "cell_type": "code",
   "execution_count": 28,
   "metadata": {},
   "outputs": [
    {
     "name": "stdout",
     "output_type": "stream",
     "text": [
      "Корреляция между отзывами пользователей и глобальными продажами X360: 0.006\n",
      "Корреляция между отзывами критиков и глобальными продажами X360: 0.361\n",
      "\n",
      "Корреляция между отзывами пользователей и глобальными продажами PS4: -0.032\n",
      "Корреляция между отзывами критиков и глобальными продажами PS4: 0.407\n",
      "\n",
      "Корреляция между отзывами пользователей и глобальными продажами Xbox One: -0.069\n",
      "Корреляция между отзывами критиков и глобальными продажами Xbox One: 0.417\n"
     ]
    }
   ],
   "source": [
    "print('Корреляция между отзывами пользователей и глобальными продажами X360: {:.3f}'.format(\n",
    "games.query('platform == \"X360\"')['user_score'].corr(\n",
    "    games.query('platform == \"X360\"')['all_sales']\n",
    "    )))\n",
    "print('Корреляция между отзывами критиков и глобальными продажами X360: {:.3f}'.format(\n",
    "games.query('platform == \"X360\"')['critic_score'].corr(\n",
    "    games.query('platform == \"X360\"')['all_sales']\n",
    "    )))\n",
    "print()\n",
    "print('Корреляция между отзывами пользователей и глобальными продажами PS4: {:.3f}'.format(\n",
    "games.query('platform == \"PS4\"')['user_score'].corr(\n",
    "    games.query('platform == \"PS4\"')['all_sales']\n",
    "    )))\n",
    "print('Корреляция между отзывами критиков и глобальными продажами PS4: {:.3f}'.format(\n",
    "games.query('platform == \"PS4\"')['critic_score'].corr(\n",
    "    games.query('platform == \"PS4\"')['all_sales']\n",
    "    )))\n",
    "print()\n",
    "print('Корреляция между отзывами пользователей и глобальными продажами Xbox One: {:.3f}'.format(\n",
    "games.query('platform == \"XOne\"')['user_score'].corr(\n",
    "    games.query('platform == \"XOne\"')['all_sales']\n",
    "    )))\n",
    "print('Корреляция между отзывами критиков и глобальными продажами Xbox One: {:.3f}'.format(\n",
    "games.query('platform == \"XOne\"')['critic_score'].corr(\n",
    "    games.query('platform == \"XOne\"')['all_sales']\n",
    "    )))"
   ]
  },
  {
   "cell_type": "markdown",
   "metadata": {},
   "source": [
    "Корреляция на самых популярных платформах практически одинаковая.\n",
    "\n",
    "Теперь рассмотрим рассеяние оценок для других платформ."
   ]
  },
  {
   "cell_type": "code",
   "execution_count": 29,
   "metadata": {},
   "outputs": [
    {
     "data": {
      "image/png": "[encoded data removed]",
      "text/plain": [
       "<Figure size 1008x360 with 2 Axes>"
      ]
     },
     "metadata": {
      "needs_background": "light"
     },
     "output_type": "display_data"
    }
   ],
   "source": [
    "fig, axs = plt.subplots(1, 2, figsize=(14, 5))\n",
    "games.query('platform == \"PS4\"').plot(kind='scatter', x='user_score', y='all_sales', title='Диграмма рассеяния отзывов пользователей PS4', color='pink', ax=axs[0]);\n",
    "games.query('platform == \"XOne\"').plot(kind='scatter', x='user_score', y='all_sales', title='Диграмма рассеяния отзывов пользователей Xbox One', color='pink', ax=axs[1]);"
   ]
  },
  {
   "cell_type": "code",
   "execution_count": 30,
   "metadata": {},
   "outputs": [
    {
     "data": {
      "image/png": "[encoded data removed]",
      "text/plain": [
       "<Figure size 1008x360 with 2 Axes>"
      ]
     },
     "metadata": {
      "needs_background": "light"
     },
     "output_type": "display_data"
    }
   ],
   "source": [
    "fig, axs = plt.subplots(1, 2, figsize=(14, 5))\n",
    "games.query('platform == \"PS4\"').plot(kind='scatter', x='critic_score', y='all_sales', title='Диграмма рассеяния отзывов критиков PS4', color='pink', ax=axs[0]);\n",
    "games.query('platform == \"XOne\"').plot(kind='scatter', x='critic_score', y='all_sales', title='Диграмма рассеяния отзывов критиков Xbox One', color='pink', ax=axs[1]);"
   ]
  },
  {
   "cell_type": "markdown",
   "metadata": {},
   "source": [
    "Опять же у большинства игр оценка выше 5 по 10 бальной шкале и выше 50 по 100 бальной шкале.\n",
    "\n",
    "Выводы соответствуют и другим платформам."
   ]
  },
  {
   "cell_type": "markdown",
   "metadata": {},
   "source": [
    "<b>------------------------------------------------------------------------------------------------------------------------------------------------------------------------------------------------------------------</b>"
   ]
  },
  {
   "cell_type": "markdown",
   "metadata": {},
   "source": [
    "<b>Посмотрим на общее распределение игр по жанрам. Что можно сказать о самых прибыльных жанрах? Выделяются ли жанры с высокими и низкими продажами?</b>"
   ]
  },
  {
   "cell_type": "code",
   "execution_count": 31,
   "metadata": {},
   "outputs": [
    {
     "name": "stdout",
     "output_type": "stream",
     "text": [
      "              count\n",
      "genre              \n",
      "Action         1031\n",
      "Role-Playing    370\n",
      "Adventure       302\n",
      "Sports          268\n",
      "Shooter         235\n",
      "Misc            192\n",
      "Racing          115\n",
      "Fighting        109\n",
      "Platform         85\n",
      "Simulation       80\n",
      "Strategy         71\n",
      "Puzzle           28\n",
      "\n",
      "\n",
      "              income\n",
      "genre               \n",
      "Action        441.12\n",
      "Shooter       304.73\n",
      "Role-Playing  192.80\n",
      "Sports        181.07\n",
      "Misc           85.04\n",
      "Platform       61.00\n",
      "Racing         53.50\n",
      "Fighting       44.49\n",
      "Simulation     35.12\n",
      "Adventure      29.43\n",
      "Strategy       13.34\n",
      "Puzzle          4.89\n"
     ]
    },
    {
     "data": {
      "image/png": "[encoded data removed]",
      "text/plain": [
       "<Figure size 1008x360 with 2 Axes>"
      ]
     },
     "metadata": {
      "needs_background": "light"
     },
     "output_type": "display_data"
    }
   ],
   "source": [
    "fig, axs = plt.subplots(1, 2, figsize=(14, 5))\n",
    "games.pivot_table(index='genre', values='all_sales', aggfunc='count').plot(kind='bar', color='pink', title='Кол-во игр по жанрам', ax=axs[0]);\n",
    "games.pivot_table(index='genre', values='all_sales', aggfunc='sum').plot(kind='bar', color='pink', title='Прибыль по жанрам', ax=axs[1]);\n",
    "\n",
    "count_genres = games.pivot_table(index='genre', values='all_sales', aggfunc='count').sort_values(by='all_sales', ascending=False)\n",
    "income_genres = games.pivot_table(index='genre', values='all_sales', aggfunc='sum').sort_values(by='all_sales', ascending=False)\n",
    "count_genres.columns = ['count']\n",
    "income_genres.columns = ['income']\n",
    "print(count_genres, end='\\n\\n\\n')\n",
    "print(income_genres)"
   ]
  },
  {
   "cell_type": "code",
   "execution_count": 32,
   "metadata": {
    "scrolled": true
   },
   "outputs": [
    {
     "data": {
      "image/png": "[encoded data removed]",
      "text/plain": [
       "<Figure size 432x288 with 1 Axes>"
      ]
     },
     "metadata": {
      "needs_background": "light"
     },
     "output_type": "display_data"
    }
   ],
   "source": [
    "games.pivot_table(index='genre', values='all_sales', aggfunc='median').plot(kind='bar', color='pink', title='Медиана прибыли по жанрам');"
   ]
  },
  {
   "cell_type": "markdown",
   "metadata": {},
   "source": [
    "Жанр Shooter лидирует по медиане глобальных продаж. А жанр Action спустился на 4-е место по этому показателю."
   ]
  },
  {
   "cell_type": "markdown",
   "metadata": {},
   "source": [
    "<b>Самый прибыльный жанр: \n",
    "    Shooter</b>\n",
    "\n",
    "<b>Наибольшее количество игр жанра: \n",
    "    Action</b>\n",
    "\n",
    "<b>Топ 5 прибыльных жанров:\n",
    "    \n",
    "    Action\n",
    "    Shooter\n",
    "    Sports\n",
    "    Misc\n",
    "    Role-Playing</b>\n",
    "    \n",
    "<b>Топ 5 жанров по количеству игр:\n",
    "    \n",
    "    Action\n",
    "    Misc\n",
    "    Sports\n",
    "    Adventure\n",
    "    Role-Playing\n",
    "    \n",
    "Что можно сказать о самых прибыльных жанрах?:\n",
    "    \n",
    "    Самые прибыльные жанры: Action, Shooter, Sports. Это вполне логично, ведь это соответствует интересам людей и в реальной жизни, пользователям хочется действий, экшена, пострелять, побегать, поучавствовать в глобальном спортивном соревновании и тому подобное.\n",
    "    \n",
    "Выделяются ли жанры с высокими и низкими продажами?:\n",
    "    \n",
    "    Можно сказать, что самый прибыльный жанр Action достаточно сильно выделяется на фоне других, прибыль этого жанра в 1.5 раза больше, чем от следующего по прибыли жанра. Это происходит по причине того, что игр в жанре Action было выпущено в 2 раза больше, чем следующего по количеству игр жанра. Но если посмотреть на медианные значения, то прибыльным жанром является Shooter.\n",
    "    \n",
    "    Жанр с самой низкой прибылью: Puzzle. Его продажи с 2012 года составили всего 4.89 единиц, что является очень низким показателем. "
   ]
  },
  {
   "cell_type": "markdown",
   "metadata": {},
   "source": [
    "<b>------------------------------------------------------------------------------------------------------------------------------------------------------------------------------------------------------------------</b>"
   ]
  },
  {
   "cell_type": "markdown",
   "metadata": {},
   "source": [
    "## Портрет пользователя каждого региона"
   ]
  },
  {
   "cell_type": "markdown",
   "metadata": {},
   "source": [
    "Определим для пользователя каждого региона (NA, EU, JP):\n",
    "\n",
    "\n",
    "- Самые популярные платформы (топ-5). Опишем различия в долях продаж.\n",
    "- Самые популярные жанры (топ-5). Поясним разницу.\n",
    "- Влияет ли рейтинг ESRB на продажи в отдельном регионе?"
   ]
  },
  {
   "cell_type": "markdown",
   "metadata": {},
   "source": [
    "<b>Самые популярные платформы (топ-5). Опишем различия в долях продаж.</b>"
   ]
  },
  {
   "cell_type": "code",
   "execution_count": 33,
   "metadata": {},
   "outputs": [
    {
     "data": {
      "text/html": [
       "<style type=\"text/css\">\n",
       "#T_a4dfb_ th {\n",
       "  background-color: pink;\n",
       "}\n",
       "</style>\n",
       "<table id=\"T_a4dfb_\">\n",
       "  <thead>\n",
       "    <tr>\n",
       "      <th class=\"blank level0\" >&nbsp;</th>\n",
       "      <th class=\"col_heading level0 col0\" >Sales in North America</th>\n",
       "      <th class=\"col_heading level0 col1\" >% of North America sales</th>\n",
       "      <th class=\"col_heading level0 col2\" >Sales in Europe</th>\n",
       "      <th class=\"col_heading level0 col3\" >% of Europe sales</th>\n",
       "      <th class=\"col_heading level0 col4\" >Sales in Japan</th>\n",
       "      <th class=\"col_heading level0 col5\" >% of Japan sales</th>\n",
       "    </tr>\n",
       "    <tr>\n",
       "      <th class=\"index_name level0\" >platform</th>\n",
       "      <th class=\"blank col0\" >&nbsp;</th>\n",
       "      <th class=\"blank col1\" >&nbsp;</th>\n",
       "      <th class=\"blank col2\" >&nbsp;</th>\n",
       "      <th class=\"blank col3\" >&nbsp;</th>\n",
       "      <th class=\"blank col4\" >&nbsp;</th>\n",
       "      <th class=\"blank col5\" >&nbsp;</th>\n",
       "    </tr>\n",
       "  </thead>\n",
       "  <tbody>\n",
       "    <tr>\n",
       "      <th id=\"T_a4dfb_level0_row0\" class=\"row_heading level0 row0\" >X360</th>\n",
       "      <td id=\"T_a4dfb_row0_col0\" class=\"data row0 col0\" >140.050000</td>\n",
       "      <td id=\"T_a4dfb_row0_col1\" class=\"data row0 col1\" >27.98%</td>\n",
       "      <td id=\"T_a4dfb_row0_col2\" class=\"data row0 col2\" >74.520000</td>\n",
       "      <td id=\"T_a4dfb_row0_col3\" class=\"data row0 col3\" >17.88%</td>\n",
       "      <td id=\"T_a4dfb_row0_col4\" class=\"data row0 col4\" >Not in Top-5</td>\n",
       "      <td id=\"T_a4dfb_row0_col5\" class=\"data row0 col5\" >Not in Top-5</td>\n",
       "    </tr>\n",
       "    <tr>\n",
       "      <th id=\"T_a4dfb_level0_row1\" class=\"row_heading level0 row1\" >PS4</th>\n",
       "      <td id=\"T_a4dfb_row1_col0\" class=\"data row1 col0\" >108.740000</td>\n",
       "      <td id=\"T_a4dfb_row1_col1\" class=\"data row1 col1\" >21.72%</td>\n",
       "      <td id=\"T_a4dfb_row1_col2\" class=\"data row1 col2\" >141.090000</td>\n",
       "      <td id=\"T_a4dfb_row1_col3\" class=\"data row1 col3\" >33.86%</td>\n",
       "      <td id=\"T_a4dfb_row1_col4\" class=\"data row1 col4\" >15.960000</td>\n",
       "      <td id=\"T_a4dfb_row1_col5\" class=\"data row1 col5\" >9.22%</td>\n",
       "    </tr>\n",
       "    <tr>\n",
       "      <th id=\"T_a4dfb_level0_row2\" class=\"row_heading level0 row2\" >PS3</th>\n",
       "      <td id=\"T_a4dfb_row2_col0\" class=\"data row2 col0\" >103.380000</td>\n",
       "      <td id=\"T_a4dfb_row2_col1\" class=\"data row2 col1\" >20.65%</td>\n",
       "      <td id=\"T_a4dfb_row2_col2\" class=\"data row2 col2\" >106.860000</td>\n",
       "      <td id=\"T_a4dfb_row2_col3\" class=\"data row2 col3\" >25.64%</td>\n",
       "      <td id=\"T_a4dfb_row2_col4\" class=\"data row2 col4\" >35.290000</td>\n",
       "      <td id=\"T_a4dfb_row2_col5\" class=\"data row2 col5\" >20.39%</td>\n",
       "    </tr>\n",
       "    <tr>\n",
       "      <th id=\"T_a4dfb_level0_row3\" class=\"row_heading level0 row3\" >XOne</th>\n",
       "      <td id=\"T_a4dfb_row3_col0\" class=\"data row3 col0\" >93.120000</td>\n",
       "      <td id=\"T_a4dfb_row3_col1\" class=\"data row3 col1\" >18.6%</td>\n",
       "      <td id=\"T_a4dfb_row3_col2\" class=\"data row3 col2\" >51.590000</td>\n",
       "      <td id=\"T_a4dfb_row3_col3\" class=\"data row3 col3\" >12.38%</td>\n",
       "      <td id=\"T_a4dfb_row3_col4\" class=\"data row3 col4\" >Not in Top-5</td>\n",
       "      <td id=\"T_a4dfb_row3_col5\" class=\"data row3 col5\" >Not in Top-5</td>\n",
       "    </tr>\n",
       "    <tr>\n",
       "      <th id=\"T_a4dfb_level0_row4\" class=\"row_heading level0 row4\" >3DS</th>\n",
       "      <td id=\"T_a4dfb_row4_col0\" class=\"data row4 col0\" >55.310000</td>\n",
       "      <td id=\"T_a4dfb_row4_col1\" class=\"data row4 col1\" >11.05%</td>\n",
       "      <td id=\"T_a4dfb_row4_col2\" class=\"data row4 col2\" >42.640000</td>\n",
       "      <td id=\"T_a4dfb_row4_col3\" class=\"data row4 col3\" >10.23%</td>\n",
       "      <td id=\"T_a4dfb_row4_col4\" class=\"data row4 col4\" >87.790000</td>\n",
       "      <td id=\"T_a4dfb_row4_col5\" class=\"data row4 col5\" >50.72%</td>\n",
       "    </tr>\n",
       "    <tr>\n",
       "      <th id=\"T_a4dfb_level0_row5\" class=\"row_heading level0 row5\" >PSV</th>\n",
       "      <td id=\"T_a4dfb_row5_col0\" class=\"data row5 col0\" >Not in Top-5</td>\n",
       "      <td id=\"T_a4dfb_row5_col1\" class=\"data row5 col1\" >Not in Top-5</td>\n",
       "      <td id=\"T_a4dfb_row5_col2\" class=\"data row5 col2\" >Not in Top-5</td>\n",
       "      <td id=\"T_a4dfb_row5_col3\" class=\"data row5 col3\" >Not in Top-5</td>\n",
       "      <td id=\"T_a4dfb_row5_col4\" class=\"data row5 col4\" >21.040000</td>\n",
       "      <td id=\"T_a4dfb_row5_col5\" class=\"data row5 col5\" >12.16%</td>\n",
       "    </tr>\n",
       "    <tr>\n",
       "      <th id=\"T_a4dfb_level0_row6\" class=\"row_heading level0 row6\" >WiiU</th>\n",
       "      <td id=\"T_a4dfb_row6_col0\" class=\"data row6 col0\" >Not in Top-5</td>\n",
       "      <td id=\"T_a4dfb_row6_col1\" class=\"data row6 col1\" >Not in Top-5</td>\n",
       "      <td id=\"T_a4dfb_row6_col2\" class=\"data row6 col2\" >Not in Top-5</td>\n",
       "      <td id=\"T_a4dfb_row6_col3\" class=\"data row6 col3\" >Not in Top-5</td>\n",
       "      <td id=\"T_a4dfb_row6_col4\" class=\"data row6 col4\" >13.010000</td>\n",
       "      <td id=\"T_a4dfb_row6_col5\" class=\"data row6 col5\" >7.52%</td>\n",
       "    </tr>\n",
       "  </tbody>\n",
       "</table>\n"
      ],
      "text/plain": [
       "<pandas.io.formats.style.Styler at 0x2a10d0aa388>"
      ]
     },
     "execution_count": 33,
     "metadata": {},
     "output_type": "execute_result"
    },
    {
     "data": {
      "image/png": "[encoded data removed]",
      "text/plain": [
       "<Figure size 1008x360 with 3 Axes>"
      ]
     },
     "metadata": {
      "needs_background": "light"
     },
     "output_type": "display_data"
    }
   ],
   "source": [
    "fig, axs = plt.subplots(1, 3, figsize=(14, 5))\n",
    "top_platforms_na = games.pivot_table(index='platform', values='na_sales', aggfunc='sum').sort_values(by='na_sales', ascending=False).head(5)\n",
    "top_platforms_eu = games.pivot_table(index='platform', values='eu_sales', aggfunc='sum').sort_values(by='eu_sales', ascending=False).head(5)\n",
    "top_platforms_jp = games.pivot_table(index='platform', values='jp_sales', aggfunc='sum').sort_values(by='jp_sales', ascending=False).head(5)\n",
    "top_platforms_na['% of NA sales'] = round((top_platforms_na['na_sales'] / top_platforms_na['na_sales'].sum() * 100), 2).astype(str) + '%'\n",
    "top_platforms_eu['% of EU sales'] = round((top_platforms_eu['eu_sales'] / top_platforms_eu['eu_sales'].sum() * 100), 2).astype(str) + '%'\n",
    "top_platforms_jp['% of JP sales'] = round((top_platforms_jp['jp_sales'] / top_platforms_jp['jp_sales'].sum() * 100), 2).astype(str) + '%'\n",
    "top_platforms_na.plot(kind='bar', color='pink', title='Прибыль по платформам в регионе NA', ax = axs[0]);\n",
    "top_platforms_eu.plot(kind='bar', color='pink', title='Прибыль по платформам в регионе EU', ax = axs[1]);\n",
    "top_platforms_jp.plot(kind='bar', color='pink', title='Прибыль по платформам в регионе JP', ax = axs[2]);\n",
    "top_platforms = top_platforms_na.merge(top_platforms_eu, how='outer', on='platform').merge(top_platforms_jp, how='outer', on='platform')\n",
    "top_platforms.columns = ['Sales in North America', '% of North America sales', 'Sales in Europe', '% of Europe sales', 'Sales in Japan', '% of Japan sales']\n",
    "top_platforms = top_platforms.fillna('Not in Top-5')\n",
    "\n",
    "top_platforms.style.set_table_styles(\n",
    "   [{\n",
    "       'selector': 'th',\n",
    "       'props': [('background-color', 'pink')]\n",
    "   }])"
   ]
  },
  {
   "cell_type": "code",
   "execution_count": 34,
   "metadata": {},
   "outputs": [
    {
     "data": {
      "text/html": [
       "<div>\n",
       "<style scoped>\n",
       "    .dataframe tbody tr th:only-of-type {\n",
       "        vertical-align: middle;\n",
       "    }\n",
       "\n",
       "    .dataframe tbody tr th {\n",
       "        vertical-align: top;\n",
       "    }\n",
       "\n",
       "    .dataframe thead th {\n",
       "        text-align: right;\n",
       "    }\n",
       "</style>\n",
       "<table border=\"1\" class=\"dataframe\">\n",
       "  <thead>\n",
       "    <tr style=\"text-align: right;\">\n",
       "      <th></th>\n",
       "      <th>na_sales</th>\n",
       "      <th>% of NA sales</th>\n",
       "    </tr>\n",
       "    <tr>\n",
       "      <th>platform</th>\n",
       "      <th></th>\n",
       "      <th></th>\n",
       "    </tr>\n",
       "  </thead>\n",
       "  <tbody>\n",
       "    <tr>\n",
       "      <th>X360</th>\n",
       "      <td>140.05</td>\n",
       "      <td>27.98%</td>\n",
       "    </tr>\n",
       "    <tr>\n",
       "      <th>PS4</th>\n",
       "      <td>108.74</td>\n",
       "      <td>21.72%</td>\n",
       "    </tr>\n",
       "    <tr>\n",
       "      <th>PS3</th>\n",
       "      <td>103.38</td>\n",
       "      <td>20.65%</td>\n",
       "    </tr>\n",
       "    <tr>\n",
       "      <th>XOne</th>\n",
       "      <td>93.12</td>\n",
       "      <td>18.6%</td>\n",
       "    </tr>\n",
       "    <tr>\n",
       "      <th>3DS</th>\n",
       "      <td>55.31</td>\n",
       "      <td>11.05%</td>\n",
       "    </tr>\n",
       "  </tbody>\n",
       "</table>\n",
       "</div>"
      ],
      "text/plain": [
       "          na_sales % of NA sales\n",
       "platform                        \n",
       "X360        140.05        27.98%\n",
       "PS4         108.74        21.72%\n",
       "PS3         103.38        20.65%\n",
       "XOne         93.12         18.6%\n",
       "3DS          55.31        11.05%"
      ]
     },
     "execution_count": 34,
     "metadata": {},
     "output_type": "execute_result"
    }
   ],
   "source": [
    "top_platforms_na"
   ]
  },
  {
   "cell_type": "code",
   "execution_count": 35,
   "metadata": {},
   "outputs": [
    {
     "data": {
      "text/html": [
       "<div>\n",
       "<style scoped>\n",
       "    .dataframe tbody tr th:only-of-type {\n",
       "        vertical-align: middle;\n",
       "    }\n",
       "\n",
       "    .dataframe tbody tr th {\n",
       "        vertical-align: top;\n",
       "    }\n",
       "\n",
       "    .dataframe thead th {\n",
       "        text-align: right;\n",
       "    }\n",
       "</style>\n",
       "<table border=\"1\" class=\"dataframe\">\n",
       "  <thead>\n",
       "    <tr style=\"text-align: right;\">\n",
       "      <th></th>\n",
       "      <th>eu_sales</th>\n",
       "      <th>% of EU sales</th>\n",
       "    </tr>\n",
       "    <tr>\n",
       "      <th>platform</th>\n",
       "      <th></th>\n",
       "      <th></th>\n",
       "    </tr>\n",
       "  </thead>\n",
       "  <tbody>\n",
       "    <tr>\n",
       "      <th>PS4</th>\n",
       "      <td>141.09</td>\n",
       "      <td>33.86%</td>\n",
       "    </tr>\n",
       "    <tr>\n",
       "      <th>PS3</th>\n",
       "      <td>106.86</td>\n",
       "      <td>25.64%</td>\n",
       "    </tr>\n",
       "    <tr>\n",
       "      <th>X360</th>\n",
       "      <td>74.52</td>\n",
       "      <td>17.88%</td>\n",
       "    </tr>\n",
       "    <tr>\n",
       "      <th>XOne</th>\n",
       "      <td>51.59</td>\n",
       "      <td>12.38%</td>\n",
       "    </tr>\n",
       "    <tr>\n",
       "      <th>3DS</th>\n",
       "      <td>42.64</td>\n",
       "      <td>10.23%</td>\n",
       "    </tr>\n",
       "  </tbody>\n",
       "</table>\n",
       "</div>"
      ],
      "text/plain": [
       "          eu_sales % of EU sales\n",
       "platform                        \n",
       "PS4         141.09        33.86%\n",
       "PS3         106.86        25.64%\n",
       "X360         74.52        17.88%\n",
       "XOne         51.59        12.38%\n",
       "3DS          42.64        10.23%"
      ]
     },
     "execution_count": 35,
     "metadata": {},
     "output_type": "execute_result"
    }
   ],
   "source": [
    "top_platforms_eu"
   ]
  },
  {
   "cell_type": "code",
   "execution_count": 36,
   "metadata": {},
   "outputs": [
    {
     "data": {
      "text/html": [
       "<div>\n",
       "<style scoped>\n",
       "    .dataframe tbody tr th:only-of-type {\n",
       "        vertical-align: middle;\n",
       "    }\n",
       "\n",
       "    .dataframe tbody tr th {\n",
       "        vertical-align: top;\n",
       "    }\n",
       "\n",
       "    .dataframe thead th {\n",
       "        text-align: right;\n",
       "    }\n",
       "</style>\n",
       "<table border=\"1\" class=\"dataframe\">\n",
       "  <thead>\n",
       "    <tr style=\"text-align: right;\">\n",
       "      <th></th>\n",
       "      <th>jp_sales</th>\n",
       "      <th>% of JP sales</th>\n",
       "    </tr>\n",
       "    <tr>\n",
       "      <th>platform</th>\n",
       "      <th></th>\n",
       "      <th></th>\n",
       "    </tr>\n",
       "  </thead>\n",
       "  <tbody>\n",
       "    <tr>\n",
       "      <th>3DS</th>\n",
       "      <td>87.79</td>\n",
       "      <td>50.72%</td>\n",
       "    </tr>\n",
       "    <tr>\n",
       "      <th>PS3</th>\n",
       "      <td>35.29</td>\n",
       "      <td>20.39%</td>\n",
       "    </tr>\n",
       "    <tr>\n",
       "      <th>PSV</th>\n",
       "      <td>21.04</td>\n",
       "      <td>12.16%</td>\n",
       "    </tr>\n",
       "    <tr>\n",
       "      <th>PS4</th>\n",
       "      <td>15.96</td>\n",
       "      <td>9.22%</td>\n",
       "    </tr>\n",
       "    <tr>\n",
       "      <th>WiiU</th>\n",
       "      <td>13.01</td>\n",
       "      <td>7.52%</td>\n",
       "    </tr>\n",
       "  </tbody>\n",
       "</table>\n",
       "</div>"
      ],
      "text/plain": [
       "          jp_sales % of JP sales\n",
       "platform                        \n",
       "3DS          87.79        50.72%\n",
       "PS3          35.29        20.39%\n",
       "PSV          21.04        12.16%\n",
       "PS4          15.96         9.22%\n",
       "WiiU         13.01         7.52%"
      ]
     },
     "execution_count": 36,
     "metadata": {},
     "output_type": "execute_result"
    }
   ],
   "source": [
    "top_platforms_jp"
   ]
  },
  {
   "cell_type": "markdown",
   "metadata": {},
   "source": [
    "<b>Вывод:</b> В регионах NA и EU рынок разделили практически на равные между собой части консоли: PS3, Xbox 360, Wii. В регионе JP 1-е и 2-е место по прибыли занимают платформы DS и 3DS, переносные маленькие консоли, а за ними идет консоль PS3.\n",
    "\n",
    "В регионе JP наиболее популярны переносные игровые платформы\n",
    "\n",
    "В регионе NA и EU наиболее популярны консольные платформы"
   ]
  },
  {
   "cell_type": "markdown",
   "metadata": {},
   "source": [
    "-----------------------------------------------------------------------------------------------------------------------"
   ]
  },
  {
   "cell_type": "markdown",
   "metadata": {},
   "source": [
    "<b>Самые популярные жанры (топ-5). Поясним разницу.</b>"
   ]
  },
  {
   "cell_type": "code",
   "execution_count": 37,
   "metadata": {},
   "outputs": [
    {
     "data": {
      "text/html": [
       "<style type=\"text/css\">\n",
       "#T_519f6_ th {\n",
       "  background-color: pink;\n",
       "}\n",
       "</style>\n",
       "<table id=\"T_519f6_\">\n",
       "  <thead>\n",
       "    <tr>\n",
       "      <th class=\"blank level0\" >&nbsp;</th>\n",
       "      <th class=\"col_heading level0 col0\" >Sales in North America</th>\n",
       "      <th class=\"col_heading level0 col1\" >% of North America sales</th>\n",
       "      <th class=\"col_heading level0 col2\" >Sales in Europe</th>\n",
       "      <th class=\"col_heading level0 col3\" >% of Europe sales</th>\n",
       "      <th class=\"col_heading level0 col4\" >Sales in Japan</th>\n",
       "      <th class=\"col_heading level0 col5\" >% of Japan sales</th>\n",
       "    </tr>\n",
       "    <tr>\n",
       "      <th class=\"index_name level0\" >genre</th>\n",
       "      <th class=\"blank col0\" >&nbsp;</th>\n",
       "      <th class=\"blank col1\" >&nbsp;</th>\n",
       "      <th class=\"blank col2\" >&nbsp;</th>\n",
       "      <th class=\"blank col3\" >&nbsp;</th>\n",
       "      <th class=\"blank col4\" >&nbsp;</th>\n",
       "      <th class=\"blank col5\" >&nbsp;</th>\n",
       "    </tr>\n",
       "  </thead>\n",
       "  <tbody>\n",
       "    <tr>\n",
       "      <th id=\"T_519f6_level0_row0\" class=\"row_heading level0 row0\" >Action</th>\n",
       "      <td id=\"T_519f6_row0_col0\" class=\"data row0 col0\" >177.840000</td>\n",
       "      <td id=\"T_519f6_row0_col1\" class=\"data row0 col1\" >35.12%</td>\n",
       "      <td id=\"T_519f6_row0_col2\" class=\"data row0 col2\" >159.340000</td>\n",
       "      <td id=\"T_519f6_row0_col3\" class=\"data row0 col3\" >38.15%</td>\n",
       "      <td id=\"T_519f6_row0_col4\" class=\"data row0 col4\" >52.800000</td>\n",
       "      <td id=\"T_519f6_row0_col5\" class=\"data row0 col5\" >34.98%</td>\n",
       "    </tr>\n",
       "    <tr>\n",
       "      <th id=\"T_519f6_level0_row1\" class=\"row_heading level0 row1\" >Shooter</th>\n",
       "      <td id=\"T_519f6_row1_col0\" class=\"data row1 col0\" >144.770000</td>\n",
       "      <td id=\"T_519f6_row1_col1\" class=\"data row1 col1\" >28.59%</td>\n",
       "      <td id=\"T_519f6_row1_col2\" class=\"data row1 col2\" >113.470000</td>\n",
       "      <td id=\"T_519f6_row1_col3\" class=\"data row1 col3\" >27.16%</td>\n",
       "      <td id=\"T_519f6_row1_col4\" class=\"data row1 col4\" >Not in Top-5</td>\n",
       "      <td id=\"T_519f6_row1_col5\" class=\"data row1 col5\" >Not in Top-5</td>\n",
       "    </tr>\n",
       "    <tr>\n",
       "      <th id=\"T_519f6_level0_row2\" class=\"row_heading level0 row2\" >Sports</th>\n",
       "      <td id=\"T_519f6_row2_col0\" class=\"data row2 col0\" >81.530000</td>\n",
       "      <td id=\"T_519f6_row2_col1\" class=\"data row2 col1\" >16.1%</td>\n",
       "      <td id=\"T_519f6_row2_col2\" class=\"data row2 col2\" >69.090000</td>\n",
       "      <td id=\"T_519f6_row2_col3\" class=\"data row2 col3\" >16.54%</td>\n",
       "      <td id=\"T_519f6_row2_col4\" class=\"data row2 col4\" >Not in Top-5</td>\n",
       "      <td id=\"T_519f6_row2_col5\" class=\"data row2 col5\" >Not in Top-5</td>\n",
       "    </tr>\n",
       "    <tr>\n",
       "      <th id=\"T_519f6_level0_row3\" class=\"row_heading level0 row3\" >Role-Playing</th>\n",
       "      <td id=\"T_519f6_row3_col0\" class=\"data row3 col0\" >64.000000</td>\n",
       "      <td id=\"T_519f6_row3_col1\" class=\"data row3 col1\" >12.64%</td>\n",
       "      <td id=\"T_519f6_row3_col2\" class=\"data row3 col2\" >48.530000</td>\n",
       "      <td id=\"T_519f6_row3_col3\" class=\"data row3 col3\" >11.62%</td>\n",
       "      <td id=\"T_519f6_row3_col4\" class=\"data row3 col4\" >65.440000</td>\n",
       "      <td id=\"T_519f6_row3_col5\" class=\"data row3 col5\" >43.35%</td>\n",
       "    </tr>\n",
       "    <tr>\n",
       "      <th id=\"T_519f6_level0_row4\" class=\"row_heading level0 row4\" >Misc</th>\n",
       "      <td id=\"T_519f6_row4_col0\" class=\"data row4 col0\" >38.190000</td>\n",
       "      <td id=\"T_519f6_row4_col1\" class=\"data row4 col1\" >7.54%</td>\n",
       "      <td id=\"T_519f6_row4_col2\" class=\"data row4 col2\" >Not in Top-5</td>\n",
       "      <td id=\"T_519f6_row4_col3\" class=\"data row4 col3\" >Not in Top-5</td>\n",
       "      <td id=\"T_519f6_row4_col4\" class=\"data row4 col4\" >12.860000</td>\n",
       "      <td id=\"T_519f6_row4_col5\" class=\"data row4 col5\" >8.52%</td>\n",
       "    </tr>\n",
       "    <tr>\n",
       "      <th id=\"T_519f6_level0_row5\" class=\"row_heading level0 row5\" >Racing</th>\n",
       "      <td id=\"T_519f6_row5_col0\" class=\"data row5 col0\" >Not in Top-5</td>\n",
       "      <td id=\"T_519f6_row5_col1\" class=\"data row5 col1\" >Not in Top-5</td>\n",
       "      <td id=\"T_519f6_row5_col2\" class=\"data row5 col2\" >27.290000</td>\n",
       "      <td id=\"T_519f6_row5_col3\" class=\"data row5 col3\" >6.53%</td>\n",
       "      <td id=\"T_519f6_row5_col4\" class=\"data row5 col4\" >Not in Top-5</td>\n",
       "      <td id=\"T_519f6_row5_col5\" class=\"data row5 col5\" >Not in Top-5</td>\n",
       "    </tr>\n",
       "    <tr>\n",
       "      <th id=\"T_519f6_level0_row6\" class=\"row_heading level0 row6\" >Simulation</th>\n",
       "      <td id=\"T_519f6_row6_col0\" class=\"data row6 col0\" >Not in Top-5</td>\n",
       "      <td id=\"T_519f6_row6_col1\" class=\"data row6 col1\" >Not in Top-5</td>\n",
       "      <td id=\"T_519f6_row6_col2\" class=\"data row6 col2\" >Not in Top-5</td>\n",
       "      <td id=\"T_519f6_row6_col3\" class=\"data row6 col3\" >Not in Top-5</td>\n",
       "      <td id=\"T_519f6_row6_col4\" class=\"data row6 col4\" >10.410000</td>\n",
       "      <td id=\"T_519f6_row6_col5\" class=\"data row6 col5\" >6.9%</td>\n",
       "    </tr>\n",
       "    <tr>\n",
       "      <th id=\"T_519f6_level0_row7\" class=\"row_heading level0 row7\" >Fighting</th>\n",
       "      <td id=\"T_519f6_row7_col0\" class=\"data row7 col0\" >Not in Top-5</td>\n",
       "      <td id=\"T_519f6_row7_col1\" class=\"data row7 col1\" >Not in Top-5</td>\n",
       "      <td id=\"T_519f6_row7_col2\" class=\"data row7 col2\" >Not in Top-5</td>\n",
       "      <td id=\"T_519f6_row7_col3\" class=\"data row7 col3\" >Not in Top-5</td>\n",
       "      <td id=\"T_519f6_row7_col4\" class=\"data row7 col4\" >9.440000</td>\n",
       "      <td id=\"T_519f6_row7_col5\" class=\"data row7 col5\" >6.25%</td>\n",
       "    </tr>\n",
       "  </tbody>\n",
       "</table>\n"
      ],
      "text/plain": [
       "<pandas.io.formats.style.Styler at 0x2a10d603708>"
      ]
     },
     "execution_count": 37,
     "metadata": {},
     "output_type": "execute_result"
    },
    {
     "data": {
      "image/png": "[encoded data removed]",
      "text/plain": [
       "<Figure size 1008x360 with 3 Axes>"
      ]
     },
     "metadata": {
      "needs_background": "light"
     },
     "output_type": "display_data"
    }
   ],
   "source": [
    "fig, axs = plt.subplots(1, 3, figsize=(14, 5))\n",
    "income_genres_na = games.pivot_table(index='genre', values='na_sales', aggfunc='sum').sort_values(by='na_sales', ascending=False).head(5)\n",
    "income_genres_eu = games.pivot_table(index='genre', values='eu_sales', aggfunc='sum').sort_values(by='eu_sales', ascending=False).head(5)\n",
    "income_genres_jp = games.pivot_table(index='genre', values='jp_sales', aggfunc='sum').sort_values(by='jp_sales', ascending=False).head(5)\n",
    "income_genres_na['% of NA sales'] = round((income_genres_na['na_sales'] / income_genres_na['na_sales'].sum() * 100), 2).astype(str) + '%'\n",
    "income_genres_eu['% of EU sales'] = round((income_genres_eu['eu_sales'] / income_genres_eu['eu_sales'].sum() * 100), 2).astype(str) + '%'\n",
    "income_genres_jp['% of JP sales'] = round((income_genres_jp['jp_sales'] / income_genres_jp['jp_sales'].sum() * 100), 2).astype(str) + '%'\n",
    "income_genres_na.plot(kind='bar', color='pink', title='Прибыль по жанрам в регионе NA', ax = axs[0]);\n",
    "income_genres_eu.plot(kind='bar', color='pink', title='Прибыль по жанрам в регионе EU', ax = axs[1]);\n",
    "income_genres_jp.plot(kind='bar', color='pink', title='Прибыль по жанрам в регионе JP', ax = axs[2]);\n",
    "income_genres = income_genres_na.merge(income_genres_eu, how='outer', on='genre').merge(income_genres_jp, how='outer', on='genre')\n",
    "income_genres.columns = ['Sales in North America', '% of North America sales', 'Sales in Europe', '% of Europe sales', 'Sales in Japan', '% of Japan sales']\n",
    "income_genres = income_genres.fillna('Not in Top-5')\n",
    "\n",
    "income_genres.style.set_table_styles(\n",
    "   [{\n",
    "       'selector': 'th',\n",
    "       'props': [('background-color', 'pink')]\n",
    "   }])"
   ]
  },
  {
   "cell_type": "code",
   "execution_count": 38,
   "metadata": {},
   "outputs": [
    {
     "data": {
      "text/html": [
       "<div>\n",
       "<style scoped>\n",
       "    .dataframe tbody tr th:only-of-type {\n",
       "        vertical-align: middle;\n",
       "    }\n",
       "\n",
       "    .dataframe tbody tr th {\n",
       "        vertical-align: top;\n",
       "    }\n",
       "\n",
       "    .dataframe thead th {\n",
       "        text-align: right;\n",
       "    }\n",
       "</style>\n",
       "<table border=\"1\" class=\"dataframe\">\n",
       "  <thead>\n",
       "    <tr style=\"text-align: right;\">\n",
       "      <th></th>\n",
       "      <th>na_sales</th>\n",
       "      <th>% of NA sales</th>\n",
       "    </tr>\n",
       "    <tr>\n",
       "      <th>genre</th>\n",
       "      <th></th>\n",
       "      <th></th>\n",
       "    </tr>\n",
       "  </thead>\n",
       "  <tbody>\n",
       "    <tr>\n",
       "      <th>Action</th>\n",
       "      <td>177.84</td>\n",
       "      <td>35.12%</td>\n",
       "    </tr>\n",
       "    <tr>\n",
       "      <th>Shooter</th>\n",
       "      <td>144.77</td>\n",
       "      <td>28.59%</td>\n",
       "    </tr>\n",
       "    <tr>\n",
       "      <th>Sports</th>\n",
       "      <td>81.53</td>\n",
       "      <td>16.1%</td>\n",
       "    </tr>\n",
       "    <tr>\n",
       "      <th>Role-Playing</th>\n",
       "      <td>64.00</td>\n",
       "      <td>12.64%</td>\n",
       "    </tr>\n",
       "    <tr>\n",
       "      <th>Misc</th>\n",
       "      <td>38.19</td>\n",
       "      <td>7.54%</td>\n",
       "    </tr>\n",
       "  </tbody>\n",
       "</table>\n",
       "</div>"
      ],
      "text/plain": [
       "              na_sales % of NA sales\n",
       "genre                               \n",
       "Action          177.84        35.12%\n",
       "Shooter         144.77        28.59%\n",
       "Sports           81.53         16.1%\n",
       "Role-Playing     64.00        12.64%\n",
       "Misc             38.19         7.54%"
      ]
     },
     "execution_count": 38,
     "metadata": {},
     "output_type": "execute_result"
    }
   ],
   "source": [
    "income_genres_na"
   ]
  },
  {
   "cell_type": "code",
   "execution_count": 39,
   "metadata": {},
   "outputs": [
    {
     "data": {
      "text/html": [
       "<div>\n",
       "<style scoped>\n",
       "    .dataframe tbody tr th:only-of-type {\n",
       "        vertical-align: middle;\n",
       "    }\n",
       "\n",
       "    .dataframe tbody tr th {\n",
       "        vertical-align: top;\n",
       "    }\n",
       "\n",
       "    .dataframe thead th {\n",
       "        text-align: right;\n",
       "    }\n",
       "</style>\n",
       "<table border=\"1\" class=\"dataframe\">\n",
       "  <thead>\n",
       "    <tr style=\"text-align: right;\">\n",
       "      <th></th>\n",
       "      <th>eu_sales</th>\n",
       "      <th>% of EU sales</th>\n",
       "    </tr>\n",
       "    <tr>\n",
       "      <th>genre</th>\n",
       "      <th></th>\n",
       "      <th></th>\n",
       "    </tr>\n",
       "  </thead>\n",
       "  <tbody>\n",
       "    <tr>\n",
       "      <th>Action</th>\n",
       "      <td>159.34</td>\n",
       "      <td>38.15%</td>\n",
       "    </tr>\n",
       "    <tr>\n",
       "      <th>Shooter</th>\n",
       "      <td>113.47</td>\n",
       "      <td>27.16%</td>\n",
       "    </tr>\n",
       "    <tr>\n",
       "      <th>Sports</th>\n",
       "      <td>69.09</td>\n",
       "      <td>16.54%</td>\n",
       "    </tr>\n",
       "    <tr>\n",
       "      <th>Role-Playing</th>\n",
       "      <td>48.53</td>\n",
       "      <td>11.62%</td>\n",
       "    </tr>\n",
       "    <tr>\n",
       "      <th>Racing</th>\n",
       "      <td>27.29</td>\n",
       "      <td>6.53%</td>\n",
       "    </tr>\n",
       "  </tbody>\n",
       "</table>\n",
       "</div>"
      ],
      "text/plain": [
       "              eu_sales % of EU sales\n",
       "genre                               \n",
       "Action          159.34        38.15%\n",
       "Shooter         113.47        27.16%\n",
       "Sports           69.09        16.54%\n",
       "Role-Playing     48.53        11.62%\n",
       "Racing           27.29         6.53%"
      ]
     },
     "execution_count": 39,
     "metadata": {},
     "output_type": "execute_result"
    }
   ],
   "source": [
    "income_genres_eu"
   ]
  },
  {
   "cell_type": "code",
   "execution_count": 40,
   "metadata": {},
   "outputs": [
    {
     "data": {
      "text/html": [
       "<div>\n",
       "<style scoped>\n",
       "    .dataframe tbody tr th:only-of-type {\n",
       "        vertical-align: middle;\n",
       "    }\n",
       "\n",
       "    .dataframe tbody tr th {\n",
       "        vertical-align: top;\n",
       "    }\n",
       "\n",
       "    .dataframe thead th {\n",
       "        text-align: right;\n",
       "    }\n",
       "</style>\n",
       "<table border=\"1\" class=\"dataframe\">\n",
       "  <thead>\n",
       "    <tr style=\"text-align: right;\">\n",
       "      <th></th>\n",
       "      <th>jp_sales</th>\n",
       "      <th>% of JP sales</th>\n",
       "    </tr>\n",
       "    <tr>\n",
       "      <th>genre</th>\n",
       "      <th></th>\n",
       "      <th></th>\n",
       "    </tr>\n",
       "  </thead>\n",
       "  <tbody>\n",
       "    <tr>\n",
       "      <th>Role-Playing</th>\n",
       "      <td>65.44</td>\n",
       "      <td>43.35%</td>\n",
       "    </tr>\n",
       "    <tr>\n",
       "      <th>Action</th>\n",
       "      <td>52.80</td>\n",
       "      <td>34.98%</td>\n",
       "    </tr>\n",
       "    <tr>\n",
       "      <th>Misc</th>\n",
       "      <td>12.86</td>\n",
       "      <td>8.52%</td>\n",
       "    </tr>\n",
       "    <tr>\n",
       "      <th>Simulation</th>\n",
       "      <td>10.41</td>\n",
       "      <td>6.9%</td>\n",
       "    </tr>\n",
       "    <tr>\n",
       "      <th>Fighting</th>\n",
       "      <td>9.44</td>\n",
       "      <td>6.25%</td>\n",
       "    </tr>\n",
       "  </tbody>\n",
       "</table>\n",
       "</div>"
      ],
      "text/plain": [
       "              jp_sales % of JP sales\n",
       "genre                               \n",
       "Role-Playing     65.44        43.35%\n",
       "Action           52.80        34.98%\n",
       "Misc             12.86         8.52%\n",
       "Simulation       10.41          6.9%\n",
       "Fighting          9.44         6.25%"
      ]
     },
     "execution_count": 40,
     "metadata": {},
     "output_type": "execute_result"
    }
   ],
   "source": [
    "income_genres_jp"
   ]
  },
  {
   "cell_type": "markdown",
   "metadata": {},
   "source": [
    "<b>Вывод:</b> \n",
    "\n",
    "В регионах NA и EU наиболее популярные жанры: Action, Shooter, Sports\n",
    "\n",
    "В регионе JP все меняется, наиболее популярные жанры: Role-Playing, Action, Misc\n",
    "\n",
    "Основная разница приходится на жанр <b>'Role-Playing'</b>. В регионах NA и EU данный жанр даже не входит в топ-5 жанров, в то время как в регионе JP этот жанр стоит на 1-м месте в топ-5. Также в регионе JP жанр <b>'Adventure'</b> почитают намного больше, чем в регионах NA и EU."
   ]
  },
  {
   "cell_type": "markdown",
   "metadata": {},
   "source": [
    "-----------------------------------------------------------------------------------------------------------------------"
   ]
  },
  {
   "cell_type": "markdown",
   "metadata": {},
   "source": [
    "<b>Влияет ли рейтинг ESRB на продажи в отдельном регионе?</b>"
   ]
  },
  {
   "cell_type": "code",
   "execution_count": 41,
   "metadata": {},
   "outputs": [
    {
     "data": {
      "text/plain": [
       "array(['M', nan, 'E', 'E10+', 'T'], dtype=object)"
      ]
     },
     "execution_count": 41,
     "metadata": {},
     "output_type": "execute_result"
    }
   ],
   "source": [
    "games['rating'].unique()"
   ]
  },
  {
   "cell_type": "markdown",
   "metadata": {},
   "source": [
    "Источник: https://ru.wikipedia.org/wiki/Entertainment_Software_Rating_Board\n",
    "\n",
    "«EC» («Early childhood») — «Для детей младшего возраста»;\n",
    "\n",
    "«E» («Everyone») — «Для всех»;\n",
    "\n",
    "«E10+» («Everyone 10 and older») — «Для всех от 10 лет и старше»;\n",
    "\n",
    "«T» («Teen») — «Подросткам»;\n",
    "\n",
    "«M» («Mature») — «Для взрослых»;\n",
    "\n",
    "«RP» («Rating Pending») — «Рейтинг ожидается».\n",
    "\n",
    "<b>Проведем категоризацию данных.</b>"
   ]
  },
  {
   "cell_type": "code",
   "execution_count": 42,
   "metadata": {},
   "outputs": [
    {
     "data": {
      "text/plain": [
       "0    \"Для взрослых\"\n",
       "1    \"Для взрослых\"\n",
       "2    \"Нет рейтинга\"\n",
       "3    \"Нет рейтинга\"\n",
       "4    \"Для взрослых\"\n",
       "Name: esrb, dtype: object"
      ]
     },
     "execution_count": 42,
     "metadata": {},
     "output_type": "execute_result"
    }
   ],
   "source": [
    "for row in range(games.shape[0]):\n",
    "    if games.loc[row, 'rating'] == 'EC':\n",
    "        games.loc[row, 'esrb'] = '\"Для детей младшего возраста\"'\n",
    "    elif games.loc[row, 'rating'] == 'E':\n",
    "        games.loc[row, 'esrb'] = '\"Для всех\"'\n",
    "    elif games.loc[row, 'rating'] == 'E10':\n",
    "        games.loc[row, 'esrb'] = '\"Для всех от 10 лет и старше\"'\n",
    "    elif games.loc[row, 'rating'] == 'T':\n",
    "        games.loc[row, 'esrb'] = '\"Для подростков\"'\n",
    "    elif games.loc[row, 'rating'] == 'M':\n",
    "        games.loc[row, 'esrb'] = '\"Для взрослых\"'\n",
    "    elif games.loc[row, 'rating'] == 'RP':\n",
    "        games.loc[row, 'esrb'] = '\"Рейтинг ожидается\"'\n",
    "    elif pd.isna(games.loc[row, 'rating']):\n",
    "        games.loc[row, 'esrb'] = '\"Нет рейтинга\"'\n",
    "        \n",
    "games['esrb'].head()"
   ]
  },
  {
   "cell_type": "markdown",
   "metadata": {},
   "source": [
    "Категоризация данных проведена, теперь визуализируем результат."
   ]
  },
  {
   "cell_type": "code",
   "execution_count": 43,
   "metadata": {},
   "outputs": [
    {
     "data": {
      "text/html": [
       "<style type=\"text/css\">\n",
       "#T_850e2_ th {\n",
       "  background-color: pink;\n",
       "}\n",
       "</style>\n",
       "<table id=\"T_850e2_\">\n",
       "  <thead>\n",
       "    <tr>\n",
       "      <th class=\"blank level0\" >&nbsp;</th>\n",
       "      <th class=\"col_heading level0 col0\" >Sales in North America</th>\n",
       "      <th class=\"col_heading level0 col1\" >% of North America sales</th>\n",
       "      <th class=\"col_heading level0 col2\" >Sales in Europe</th>\n",
       "      <th class=\"col_heading level0 col3\" >% of Europe sales</th>\n",
       "      <th class=\"col_heading level0 col4\" >Sales in Japan</th>\n",
       "      <th class=\"col_heading level0 col5\" >% of Japan sales</th>\n",
       "    </tr>\n",
       "    <tr>\n",
       "      <th class=\"index_name level0\" >esrb</th>\n",
       "      <th class=\"blank col0\" >&nbsp;</th>\n",
       "      <th class=\"blank col1\" >&nbsp;</th>\n",
       "      <th class=\"blank col2\" >&nbsp;</th>\n",
       "      <th class=\"blank col3\" >&nbsp;</th>\n",
       "      <th class=\"blank col4\" >&nbsp;</th>\n",
       "      <th class=\"blank col5\" >&nbsp;</th>\n",
       "    </tr>\n",
       "  </thead>\n",
       "  <tbody>\n",
       "    <tr>\n",
       "      <th id=\"T_850e2_level0_row0\" class=\"row_heading level0 row0\" >\"Для взрослых\"</th>\n",
       "      <td id=\"T_850e2_row0_col0\" class=\"data row0 col0\" >231.570000</td>\n",
       "      <td id=\"T_850e2_row0_col1\" class=\"data row0 col1\" >44.94%</td>\n",
       "      <td id=\"T_850e2_row0_col2\" class=\"data row0 col2\" >193.960000</td>\n",
       "      <td id=\"T_850e2_row0_col3\" class=\"data row0 col3\" >42.96%</td>\n",
       "      <td id=\"T_850e2_row0_col4\" class=\"data row0 col4\" >21.200000</td>\n",
       "      <td id=\"T_850e2_row0_col5\" class=\"data row0 col5\" >11.5%</td>\n",
       "    </tr>\n",
       "    <tr>\n",
       "      <th id=\"T_850e2_level0_row1\" class=\"row_heading level0 row1\" >\"Для всех\"</th>\n",
       "      <td id=\"T_850e2_row1_col0\" class=\"data row1 col0\" >114.370000</td>\n",
       "      <td id=\"T_850e2_row1_col1\" class=\"data row1 col1\" >22.2%</td>\n",
       "      <td id=\"T_850e2_row1_col2\" class=\"data row1 col2\" >113.030000</td>\n",
       "      <td id=\"T_850e2_row1_col3\" class=\"data row1 col3\" >25.04%</td>\n",
       "      <td id=\"T_850e2_row1_col4\" class=\"data row1 col4\" >28.330000</td>\n",
       "      <td id=\"T_850e2_row1_col5\" class=\"data row1 col5\" >15.36%</td>\n",
       "    </tr>\n",
       "    <tr>\n",
       "      <th id=\"T_850e2_level0_row2\" class=\"row_heading level0 row2\" >\"Нет рейтинга\"</th>\n",
       "      <td id=\"T_850e2_row2_col0\" class=\"data row2 col0\" >103.310000</td>\n",
       "      <td id=\"T_850e2_row2_col1\" class=\"data row2 col1\" >20.05%</td>\n",
       "      <td id=\"T_850e2_row2_col2\" class=\"data row2 col2\" >91.500000</td>\n",
       "      <td id=\"T_850e2_row2_col3\" class=\"data row2 col3\" >20.27%</td>\n",
       "      <td id=\"T_850e2_row2_col4\" class=\"data row2 col4\" >108.840000</td>\n",
       "      <td id=\"T_850e2_row2_col5\" class=\"data row2 col5\" >59.03%</td>\n",
       "    </tr>\n",
       "    <tr>\n",
       "      <th id=\"T_850e2_level0_row3\" class=\"row_heading level0 row3\" >\"Для подростков\"</th>\n",
       "      <td id=\"T_850e2_row3_col0\" class=\"data row3 col0\" >66.020000</td>\n",
       "      <td id=\"T_850e2_row3_col1\" class=\"data row3 col1\" >12.81%</td>\n",
       "      <td id=\"T_850e2_row3_col2\" class=\"data row3 col2\" >52.960000</td>\n",
       "      <td id=\"T_850e2_row3_col3\" class=\"data row3 col3\" >11.73%</td>\n",
       "      <td id=\"T_850e2_row3_col4\" class=\"data row3 col4\" >26.020000</td>\n",
       "      <td id=\"T_850e2_row3_col5\" class=\"data row3 col5\" >14.11%</td>\n",
       "    </tr>\n",
       "  </tbody>\n",
       "</table>\n"
      ],
      "text/plain": [
       "<pandas.io.formats.style.Styler at 0x2a10d9e69c8>"
      ]
     },
     "execution_count": 43,
     "metadata": {},
     "output_type": "execute_result"
    },
    {
     "data": {
      "image/png": "[encoded data removed]",
      "text/plain": [
       "<Figure size 1152x360 with 3 Axes>"
      ]
     },
     "metadata": {
      "needs_background": "light"
     },
     "output_type": "display_data"
    }
   ],
   "source": [
    "fig, axs = plt.subplots(1, 3, figsize=(16, 5))\n",
    "esrb_na = games.pivot_table(index='esrb', values='na_sales', aggfunc='sum').sort_values(by='na_sales', ascending=False).head(5)\n",
    "esrb_eu = games.pivot_table(index='esrb', values='eu_sales', aggfunc='sum').sort_values(by='eu_sales', ascending=False).head(5)\n",
    "esrb_jp = games.pivot_table(index='esrb', values='jp_sales', aggfunc='sum').sort_values(by='jp_sales', ascending=False).head(5)\n",
    "esrb_na['% of NA sales'] = round((esrb_na['na_sales'] / esrb_na['na_sales'].sum() * 100), 2).astype(str) + '%'\n",
    "esrb_eu['% of EU sales'] = round((esrb_eu['eu_sales'] / esrb_eu['eu_sales'].sum() * 100), 2).astype(str) + '%'\n",
    "esrb_jp['% of JP sales'] = round((esrb_jp['jp_sales'] / esrb_jp['jp_sales'].sum() * 100), 2).astype(str) + '%'\n",
    "esrb_na.plot(kind='bar', color='pink', title='Прибыль по жанрам в регионе NA', ax = axs[0]);\n",
    "esrb_eu.plot(kind='bar', color='pink', title='Прибыль по жанрам в регионе EU', ax = axs[1]);\n",
    "esrb_jp.plot(kind='bar', color='pink', title='Прибыль по жанрам в регионе JP', ax = axs[2]);\n",
    "esrb = esrb_na.merge(esrb_eu, how='outer', on='esrb').merge(esrb_jp, how='outer', on='esrb')\n",
    "esrb.columns = ['Sales in North America', '% of North America sales', 'Sales in Europe', '% of Europe sales', 'Sales in Japan', '% of Japan sales']\n",
    "\n",
    "esrb.style.set_table_styles(\n",
    "   [{\n",
    "       'selector': 'th',\n",
    "       'props': [('background-color', 'pink')]\n",
    "   }])"
   ]
  },
  {
   "cell_type": "code",
   "execution_count": 44,
   "metadata": {},
   "outputs": [
    {
     "data": {
      "text/html": [
       "<div>\n",
       "<style scoped>\n",
       "    .dataframe tbody tr th:only-of-type {\n",
       "        vertical-align: middle;\n",
       "    }\n",
       "\n",
       "    .dataframe tbody tr th {\n",
       "        vertical-align: top;\n",
       "    }\n",
       "\n",
       "    .dataframe thead th {\n",
       "        text-align: right;\n",
       "    }\n",
       "</style>\n",
       "<table border=\"1\" class=\"dataframe\">\n",
       "  <thead>\n",
       "    <tr style=\"text-align: right;\">\n",
       "      <th></th>\n",
       "      <th>na_sales</th>\n",
       "      <th>% of NA sales</th>\n",
       "    </tr>\n",
       "    <tr>\n",
       "      <th>esrb</th>\n",
       "      <th></th>\n",
       "      <th></th>\n",
       "    </tr>\n",
       "  </thead>\n",
       "  <tbody>\n",
       "    <tr>\n",
       "      <th>\"Для взрослых\"</th>\n",
       "      <td>231.57</td>\n",
       "      <td>44.94%</td>\n",
       "    </tr>\n",
       "    <tr>\n",
       "      <th>\"Для всех\"</th>\n",
       "      <td>114.37</td>\n",
       "      <td>22.2%</td>\n",
       "    </tr>\n",
       "    <tr>\n",
       "      <th>\"Нет рейтинга\"</th>\n",
       "      <td>103.31</td>\n",
       "      <td>20.05%</td>\n",
       "    </tr>\n",
       "    <tr>\n",
       "      <th>\"Для подростков\"</th>\n",
       "      <td>66.02</td>\n",
       "      <td>12.81%</td>\n",
       "    </tr>\n",
       "  </tbody>\n",
       "</table>\n",
       "</div>"
      ],
      "text/plain": [
       "                  na_sales % of NA sales\n",
       "esrb                                    \n",
       "\"Для взрослых\"      231.57        44.94%\n",
       "\"Для всех\"          114.37         22.2%\n",
       "\"Нет рейтинга\"      103.31        20.05%\n",
       "\"Для подростков\"     66.02        12.81%"
      ]
     },
     "execution_count": 44,
     "metadata": {},
     "output_type": "execute_result"
    }
   ],
   "source": [
    "esrb_na"
   ]
  },
  {
   "cell_type": "code",
   "execution_count": 45,
   "metadata": {},
   "outputs": [
    {
     "data": {
      "text/html": [
       "<div>\n",
       "<style scoped>\n",
       "    .dataframe tbody tr th:only-of-type {\n",
       "        vertical-align: middle;\n",
       "    }\n",
       "\n",
       "    .dataframe tbody tr th {\n",
       "        vertical-align: top;\n",
       "    }\n",
       "\n",
       "    .dataframe thead th {\n",
       "        text-align: right;\n",
       "    }\n",
       "</style>\n",
       "<table border=\"1\" class=\"dataframe\">\n",
       "  <thead>\n",
       "    <tr style=\"text-align: right;\">\n",
       "      <th></th>\n",
       "      <th>eu_sales</th>\n",
       "      <th>% of EU sales</th>\n",
       "    </tr>\n",
       "    <tr>\n",
       "      <th>esrb</th>\n",
       "      <th></th>\n",
       "      <th></th>\n",
       "    </tr>\n",
       "  </thead>\n",
       "  <tbody>\n",
       "    <tr>\n",
       "      <th>\"Для взрослых\"</th>\n",
       "      <td>193.96</td>\n",
       "      <td>42.96%</td>\n",
       "    </tr>\n",
       "    <tr>\n",
       "      <th>\"Для всех\"</th>\n",
       "      <td>113.03</td>\n",
       "      <td>25.04%</td>\n",
       "    </tr>\n",
       "    <tr>\n",
       "      <th>\"Нет рейтинга\"</th>\n",
       "      <td>91.50</td>\n",
       "      <td>20.27%</td>\n",
       "    </tr>\n",
       "    <tr>\n",
       "      <th>\"Для подростков\"</th>\n",
       "      <td>52.96</td>\n",
       "      <td>11.73%</td>\n",
       "    </tr>\n",
       "  </tbody>\n",
       "</table>\n",
       "</div>"
      ],
      "text/plain": [
       "                  eu_sales % of EU sales\n",
       "esrb                                    \n",
       "\"Для взрослых\"      193.96        42.96%\n",
       "\"Для всех\"          113.03        25.04%\n",
       "\"Нет рейтинга\"       91.50        20.27%\n",
       "\"Для подростков\"     52.96        11.73%"
      ]
     },
     "execution_count": 45,
     "metadata": {},
     "output_type": "execute_result"
    }
   ],
   "source": [
    "esrb_eu"
   ]
  },
  {
   "cell_type": "code",
   "execution_count": 46,
   "metadata": {},
   "outputs": [
    {
     "data": {
      "text/html": [
       "<div>\n",
       "<style scoped>\n",
       "    .dataframe tbody tr th:only-of-type {\n",
       "        vertical-align: middle;\n",
       "    }\n",
       "\n",
       "    .dataframe tbody tr th {\n",
       "        vertical-align: top;\n",
       "    }\n",
       "\n",
       "    .dataframe thead th {\n",
       "        text-align: right;\n",
       "    }\n",
       "</style>\n",
       "<table border=\"1\" class=\"dataframe\">\n",
       "  <thead>\n",
       "    <tr style=\"text-align: right;\">\n",
       "      <th></th>\n",
       "      <th>jp_sales</th>\n",
       "      <th>% of JP sales</th>\n",
       "    </tr>\n",
       "    <tr>\n",
       "      <th>esrb</th>\n",
       "      <th></th>\n",
       "      <th></th>\n",
       "    </tr>\n",
       "  </thead>\n",
       "  <tbody>\n",
       "    <tr>\n",
       "      <th>\"Нет рейтинга\"</th>\n",
       "      <td>108.84</td>\n",
       "      <td>59.03%</td>\n",
       "    </tr>\n",
       "    <tr>\n",
       "      <th>\"Для всех\"</th>\n",
       "      <td>28.33</td>\n",
       "      <td>15.36%</td>\n",
       "    </tr>\n",
       "    <tr>\n",
       "      <th>\"Для подростков\"</th>\n",
       "      <td>26.02</td>\n",
       "      <td>14.11%</td>\n",
       "    </tr>\n",
       "    <tr>\n",
       "      <th>\"Для взрослых\"</th>\n",
       "      <td>21.20</td>\n",
       "      <td>11.5%</td>\n",
       "    </tr>\n",
       "  </tbody>\n",
       "</table>\n",
       "</div>"
      ],
      "text/plain": [
       "                  jp_sales % of JP sales\n",
       "esrb                                    \n",
       "\"Нет рейтинга\"      108.84        59.03%\n",
       "\"Для всех\"           28.33        15.36%\n",
       "\"Для подростков\"     26.02        14.11%\n",
       "\"Для взрослых\"       21.20         11.5%"
      ]
     },
     "execution_count": 46,
     "metadata": {},
     "output_type": "execute_result"
    }
   ],
   "source": [
    "esrb_jp"
   ]
  },
  {
   "cell_type": "markdown",
   "metadata": {},
   "source": [
    "<b>Вывод:</b> В регионах NA и EU по продажам лидируют игры, которые обозначены рейтингом \"Для взрослых\". В регионе NA, EU и JP 2-е место занимает рейтинг \"Для всех\". В регионе JP 1-е место занимают игры с отсутствующим рейтингом с долей 59%. Видимо в регионе JP игры реже подвергаются присвоению рейтингов, или же в Японии популярны те игры, которым не присваивают рейтинги ESRB."
   ]
  },
  {
   "cell_type": "markdown",
   "metadata": {},
   "source": [
    "## Проверка гипотез"
   ]
  },
  {
   "cell_type": "markdown",
   "metadata": {},
   "source": [
    "Главная цель проекта: выявить определяющие успех игры закономерности.\n",
    "\n",
    "Для начала проверим различия пользовательских рейтингов популярных платформ: Xbox One и PC.\n",
    "\n",
    "Составим нулевую гипотезу: \n",
    "    \n",
    "H0 - Средние пользовательские рейтинги платформ Xbox One и PC <b>одинаковые</b>\n",
    "\n",
    "Соответственно, альтернативная гипотеза будет выглядеть следующим образом:\n",
    "\n",
    "H1 - Средние пользовательские рейтинги платформ Xbox One и PC <b>не одинаковые</b>\n",
    "\n",
    "Проверим следующие гипотезы:\n",
    "\n",
    "    H0 - Средние пользовательские рейтинги платформ Xbox One и PC одинаковые;\n",
    "    H1 - Средние пользовательские рейтинги платформ Xbox One и PC не одинаковые.\n",
    "    \n",
    "Для проверки гипотез используем t-критерий Стьюдента, так как он чаще всего используется для проверки гипотез о равности средних значений в двух выборках. Пороговое значение уровня значимости зададим 0.05"
   ]
  },
  {
   "cell_type": "code",
   "execution_count": 52,
   "metadata": {},
   "outputs": [
    {
     "name": "stdout",
     "output_type": "stream",
     "text": [
      "p-значение: 0.5535080500643661\n",
      "Отвергнуть нулевую гипотезу не удалось\n"
     ]
    }
   ],
   "source": [
    "# Выберем только те игры, где пользовательский рейтинг не равняется NaN\n",
    "\n",
    "games_xone = games[(games['platform'] == 'XOne') * (games['user_score'].isnull() == False)]\n",
    "games_pc = games[(games['platform'] == 'PC') * (games['user_score'].isnull() == False)]\n",
    "\n",
    "alpha = 0.05\n",
    "\n",
    "result = st.ttest_ind(games_xone['user_score'], games_pc['user_score'])\n",
    "\n",
    "print('p-значение: {}'.format(result.pvalue))\n",
    "\n",
    "if result.pvalue < alpha:\n",
    "    print('Отвергаем нулевую гипотезу')\n",
    "else:\n",
    "    print('Отвергнуть нулевую гипотезу не удалось')"
   ]
  },
  {
   "cell_type": "markdown",
   "metadata": {},
   "source": [
    "<b>Вывод:</b> Отвергнуть нулевую гипотезу не удалось, соответственно, <b>есть основания полагать, что \"Средние пользовательские рейтинги платформ Xbox One и PC одинаковые\".</b>"
   ]
  },
  {
   "cell_type": "markdown",
   "metadata": {},
   "source": [
    "--------------------------------------------------------------------------------------------------------------------------"
   ]
  },
  {
   "cell_type": "markdown",
   "metadata": {},
   "source": [
    "Далее проверим различия пользовательских рейтингов среди популярных жанров: Action и Sports.\n",
    "\n",
    "Составим нулевую гипотезу: \n",
    "    \n",
    "H0 - Средние пользовательские рейтинги жанров Action (англ. «действие», экшен-игры) и Sports (англ. «спортивные соревнования») <b>разные.</b>\n",
    "\n",
    "Соответственно, альтернативная гипотеза будет выглядеть следующим образом:\n",
    "\n",
    "H1 - Средние пользовательские рейтинги жанров Action (англ. «действие», экшен-игры) и Sports (англ. «спортивные соревнования») <b>не разные.</b>\n",
    "\n",
    "Проверим следующие гипотезы:\n",
    "\n",
    "    H0 - Средние пользовательские рейтинги жанров Action (англ. «действие», экшен-игры) и Sports (англ. «спортивные соревнования») разные.\n",
    "    H1 - Средние пользовательские рейтинги жанров Action (англ. «действие», экшен-игры) и Sports (англ. «спортивные соревнования») не разные."
   ]
  },
  {
   "cell_type": "code",
   "execution_count": 55,
   "metadata": {},
   "outputs": [
    {
     "name": "stdout",
     "output_type": "stream",
     "text": [
      "p-значение: 3.7163089460934874e-26\n",
      "Отвергаем нулевую гипотезу\n"
     ]
    }
   ],
   "source": [
    "games_action = games[(games['genre'] == 'Action') & (games['user_score'].isnull() == False)]\n",
    "games_sports = games[(games['genre'] == 'Sports') & (games['user_score'].isnull() == False)]\n",
    "\n",
    "alpha = 0.05\n",
    "\n",
    "result = st.ttest_ind(games_action['user_score'], games_sports['user_score'])\n",
    "\n",
    "print('p-значение: {}'.format(result.pvalue))\n",
    "\n",
    "if result.pvalue < alpha:\n",
    "    print('Отвергаем нулевую гипотезу')\n",
    "else:\n",
    "    print('Отвергнуть нулевую гипотезу не удалось')"
   ]
  },
  {
   "cell_type": "markdown",
   "metadata": {},
   "source": [
    "Уровень значимости получился: 1.08 * 10 ** -12\n",
    "\n",
    "Соответственно, <b>есть основания полагать, что \"Средние пользовательские рейтинги жанров Action (англ. «действие», экшен-игры) и Sports (англ. «спортивные соревнования») не разные\".</b>"
   ]
  },
  {
   "cell_type": "markdown",
   "metadata": {},
   "source": [
    "## Общий вывод"
   ]
  },
  {
   "cell_type": "markdown",
   "metadata": {},
   "source": [
    "<b>1.</b> Изначально, в данных имелись пропущенные значения в столбцах: 'name', 'genre', 'year_of_release', 'critic_score', 'user_score', 'rating'. Мы избавились от пропущенных значений в столбцах 'name', 'genre', 'year_of_release' путем удаления этих данных. А в столбцах 'critic_score', 'user_score', 'rating' мы оставили пропущенные значения.\n",
    "\n",
    "-------------------------------------------------------------------------------------------------------------------------------\n",
    "\n",
    "<b>2.</b> Далее мы подсчитали суммарные продажи во всем мире для дальнейшего анализа данных.\n",
    "\n",
    "-------------------------------------------------------------------------------------------------------------------------------\n",
    "\n",
    "<b>3.</b> После проведения исследовательского анализа данных мы смогли сделать следующие выводы:\n",
    "\n",
    "- Данные с 1980 по 1993 гг. являются не такими важными, как за последующие года;\n",
    "\n",
    "\n",
    "- Продолжительность существования платформы на рынке примерно <b>10 лет;</b>\n",
    "\n",
    "\n",
    "- Актуальный период для данных, которые помогут построить прогноз на 2017 год: <b>2012-2016 гг;</b>\n",
    "\n",
    "\n",
    "- Потенциально прибыльные платформы: <b>PS4, Xbox One, 3DS;</b>\n",
    "\n",
    "\n",
    "- Основываясь на \"ящиках с усами\":\n",
    "\n",
    "    - Глобальные продажи игр на всех платформах в основном не превышают 1 млн. копий\n",
    "\n",
    "    - Многие платформы имеют выбросы, эти игры можно назвать хитами\n",
    "\n",
    "    - Наибольший выброс присутствует у платформы PS3, одна игра разошлась в тираже больше 20 млн. копий\n",
    "\n",
    "    - Платформа PSP не прославилась большим количеством выбросов или бестселлеров\n",
    "\n",
    "    - Основные платформы, где больше всего бестселлеров (выбросов): 3DS, PS3, PS4, Xbox 360, Xbox One\n",
    "    \n",
    "    \n",
    "- Отзывы пользователей слабо влияют на глобальные продажи игр, а <b>отзывы критиков достаточно сильно влияют на глобальные продажи, это вполне логично</b>;\n",
    "\n",
    "\n",
    "- Глобальные продажи игр на PS3 могут доходить до 20 единиц, но это редкие случаи;\n",
    "\n",
    "\n",
    "- Большинство игр имеют оценку выше 5 (по 10 бальной шкале) и выше 50 (по 100 бальной шкале);\n",
    "\n",
    "- Самый прибыльный жанр: Shooter\n",
    "\n",
    "- Наибольшее количество игр жанра: Action\n",
    "\n",
    "- <b>Топ 5 прибыльных жанров:\n",
    "    \n",
    "        \n",
    "        Action\n",
    "        Shooter\n",
    "        Sports\n",
    "        Misc\n",
    "        Role-Playing</b>\n",
    "    \n",
    "- <b>Топ 5 жанров по количеству игр:\n",
    "    \n",
    "    \n",
    "        Action\n",
    "        Misc\n",
    "        Sports\n",
    "        Adventure\n",
    "        Role-Playing\n",
    "    \n",
    "-------------------------------------------------------------------------------------------------------------------------------\n",
    "\n",
    "<b>4.</b> При составлении портрета пользователя каждого региона были сделаны следующие выводы:\n",
    "    \n",
    "- В регионе JP наиболее популярны переносные игровые платформы;\n",
    "\n",
    "    \n",
    "- В регионе NA и EU наиболее популярны консольные платформы;\n",
    "    \n",
    "    \n",
    "- В регионах NA и EU наиболее популярные жанры: Action, Shooter, Sports;\n",
    "\n",
    "    \n",
    "- В регионе JP все меняется, наиболее популярные жанры: Role-Playing, Action, Misc;\n",
    "\n",
    "\n",
    "- В регионе NA и EU по продажам лидируют игры, которые обозначены рейтингом \"Для взрослых\";\n",
    "    \n",
    "    \n",
    "- В регионе JP по продажам лидируют игры, которые не обозначены рейтингом.\n",
    "    \n",
    "-------------------------------------------------------------------------------------------------------------------------------\n",
    "    \n",
    "<b>5.</b> Проверка гипотез показала, что:\n",
    "    \n",
    "\n",
    "- есть основания полагать, что \"Средние пользовательские рейтинги платформ Xbox One и PC одинаковые\";\n",
    "    \n",
    "    \n",
    "- есть основания полагать, что \"Средние пользовательские рейтинги жанров Action (англ. «действие», экшен-игры) и Sports (англ. «спортивные соревнования») не разные\".\n",
    "    \n",
    "-------------------------------------------------------------------------------------------------------------------------------\n",
    "    \n",
    "<b>Общий вывод:</b> \n",
    "    \n",
    "Я считаю, что успешная игра в 2017 году должна быть выпущена на платформы: PS4, Xbox One, 3DS и принадлежать одному из жанров: Action, Shooter, Sports, а также должна получить рейтинг ESRB - \"Для взрослых\", \"Для всех\" или не иметь рейтинга ESRB вовсе."
   ]
  }
 ],
 "metadata": {
  "ExecuteTimeLog": [
   {
    "duration": 123,
    "start_time": "2021-08-09T16:42:37.950Z"
   },
   {
    "duration": 869,
    "start_time": "2021-08-09T16:45:09.986Z"
   },
   {
    "duration": 47,
    "start_time": "2021-08-09T16:45:15.853Z"
   },
   {
    "duration": 15,
    "start_time": "2021-08-09T16:45:26.584Z"
   },
   {
    "duration": 29,
    "start_time": "2021-08-09T16:45:32.312Z"
   },
   {
    "duration": 19,
    "start_time": "2021-08-09T16:46:46.242Z"
   },
   {
    "duration": 29,
    "start_time": "2021-08-09T16:47:17.107Z"
   },
   {
    "duration": 474,
    "start_time": "2021-08-09T16:48:56.108Z"
   },
   {
    "duration": 394,
    "start_time": "2021-08-09T16:49:45.437Z"
   },
   {
    "duration": 373,
    "start_time": "2021-08-09T16:49:49.741Z"
   },
   {
    "duration": 6,
    "start_time": "2021-08-09T16:50:03.653Z"
   },
   {
    "duration": 5,
    "start_time": "2021-08-09T16:50:14.022Z"
   },
   {
    "duration": 386,
    "start_time": "2021-08-09T16:50:33.518Z"
   },
   {
    "duration": 394,
    "start_time": "2021-08-09T16:50:57.271Z"
   },
   {
    "duration": 5,
    "start_time": "2021-08-09T16:52:02.304Z"
   },
   {
    "duration": 7,
    "start_time": "2021-08-09T16:52:06.384Z"
   },
   {
    "duration": 20,
    "start_time": "2021-08-09T16:52:17.784Z"
   },
   {
    "duration": 7,
    "start_time": "2021-08-09T16:52:23.960Z"
   },
   {
    "duration": 9,
    "start_time": "2021-08-09T16:53:25.649Z"
   },
   {
    "duration": 400,
    "start_time": "2021-08-09T16:59:15.751Z"
   },
   {
    "duration": 404,
    "start_time": "2021-08-09T16:59:30.496Z"
   },
   {
    "duration": 35,
    "start_time": "2021-08-09T16:59:55.980Z"
   },
   {
    "duration": 30,
    "start_time": "2021-08-09T16:59:59.937Z"
   },
   {
    "duration": 443,
    "start_time": "2021-08-09T17:00:13.256Z"
   },
   {
    "duration": 22,
    "start_time": "2021-08-09T17:00:25.160Z"
   },
   {
    "duration": 1585,
    "start_time": "2021-08-09T17:00:31.672Z"
   },
   {
    "duration": 397,
    "start_time": "2021-08-09T17:01:40.691Z"
   },
   {
    "duration": 20,
    "start_time": "2021-08-09T17:01:46.771Z"
   },
   {
    "duration": 391,
    "start_time": "2021-08-09T17:03:15.675Z"
   },
   {
    "duration": 7,
    "start_time": "2021-08-09T17:03:50.980Z"
   },
   {
    "duration": 7,
    "start_time": "2021-08-09T17:05:27.111Z"
   },
   {
    "duration": 9,
    "start_time": "2021-08-09T17:05:30.114Z"
   },
   {
    "duration": 47,
    "start_time": "2021-08-09T17:07:16.592Z"
   },
   {
    "duration": 30,
    "start_time": "2021-08-09T17:07:17.258Z"
   },
   {
    "duration": 8,
    "start_time": "2021-08-09T17:07:18.144Z"
   },
   {
    "duration": 8,
    "start_time": "2021-08-09T17:07:19.016Z"
   },
   {
    "duration": 22,
    "start_time": "2021-08-09T17:07:21.126Z"
   },
   {
    "duration": 47,
    "start_time": "2021-08-09T17:07:45.865Z"
   },
   {
    "duration": 33,
    "start_time": "2021-08-09T17:07:46.048Z"
   },
   {
    "duration": 7,
    "start_time": "2021-08-09T17:07:47.335Z"
   },
   {
    "duration": 7,
    "start_time": "2021-08-09T17:07:48.144Z"
   },
   {
    "duration": 33,
    "start_time": "2021-08-09T17:08:01.321Z"
   },
   {
    "duration": 1559,
    "start_time": "2021-08-09T17:10:03.715Z"
   },
   {
    "duration": 124,
    "start_time": "2021-08-09T17:10:07.468Z"
   },
   {
    "duration": 401,
    "start_time": "2021-08-09T17:10:10.147Z"
   },
   {
    "duration": 47,
    "start_time": "2021-08-09T17:11:47.640Z"
   },
   {
    "duration": 37,
    "start_time": "2021-08-09T17:11:48.248Z"
   },
   {
    "duration": 7,
    "start_time": "2021-08-09T17:11:49.295Z"
   },
   {
    "duration": 7,
    "start_time": "2021-08-09T17:11:50.855Z"
   },
   {
    "duration": 20,
    "start_time": "2021-08-09T17:12:17.225Z"
   },
   {
    "duration": 500,
    "start_time": "2021-08-09T17:12:39.817Z"
   },
   {
    "duration": 396,
    "start_time": "2021-08-09T17:12:44.641Z"
   },
   {
    "duration": 476,
    "start_time": "2021-08-09T17:12:55.425Z"
   },
   {
    "duration": 11,
    "start_time": "2021-08-09T17:13:02.386Z"
   },
   {
    "duration": 15,
    "start_time": "2021-08-09T17:13:07.713Z"
   },
   {
    "duration": 33,
    "start_time": "2021-08-09T17:14:07.794Z"
   },
   {
    "duration": 12,
    "start_time": "2021-08-09T17:14:21.978Z"
   },
   {
    "duration": 12,
    "start_time": "2021-08-09T17:14:49.996Z"
   },
   {
    "duration": 14,
    "start_time": "2021-08-09T17:17:46.750Z"
   },
   {
    "duration": 17,
    "start_time": "2021-08-09T17:17:51.957Z"
   },
   {
    "duration": 20,
    "start_time": "2021-08-09T17:17:57.190Z"
   },
   {
    "duration": 19,
    "start_time": "2021-08-09T17:19:01.088Z"
   },
   {
    "duration": 11,
    "start_time": "2021-08-09T17:19:24.568Z"
   },
   {
    "duration": 11,
    "start_time": "2021-08-09T17:19:49.393Z"
   },
   {
    "duration": 11,
    "start_time": "2021-08-09T17:20:39.793Z"
   },
   {
    "duration": 12,
    "start_time": "2021-08-09T17:23:15.404Z"
   },
   {
    "duration": 9,
    "start_time": "2021-08-09T17:23:56.533Z"
   },
   {
    "duration": 6,
    "start_time": "2021-08-09T17:24:03.518Z"
   },
   {
    "duration": 20,
    "start_time": "2021-08-09T17:24:07.357Z"
   },
   {
    "duration": 19,
    "start_time": "2021-08-09T17:24:09.981Z"
   },
   {
    "duration": 10,
    "start_time": "2021-08-09T17:24:27.349Z"
   },
   {
    "duration": 476,
    "start_time": "2021-08-09T17:25:20.974Z"
   },
   {
    "duration": 21,
    "start_time": "2021-08-09T17:25:37.919Z"
   },
   {
    "duration": 465,
    "start_time": "2021-08-09T17:25:57.095Z"
   },
   {
    "duration": 21,
    "start_time": "2021-08-09T17:26:11.312Z"
   },
   {
    "duration": 29,
    "start_time": "2021-08-09T17:26:17.423Z"
   },
   {
    "duration": 21,
    "start_time": "2021-08-09T17:27:33.723Z"
   },
   {
    "duration": 13,
    "start_time": "2021-08-09T17:29:25.363Z"
   },
   {
    "duration": 12,
    "start_time": "2021-08-09T17:29:59.907Z"
   },
   {
    "duration": 6,
    "start_time": "2021-08-09T17:38:56.221Z"
   },
   {
    "duration": 6,
    "start_time": "2021-08-09T17:39:02.621Z"
   },
   {
    "duration": 10,
    "start_time": "2021-08-09T17:39:10.949Z"
   },
   {
    "duration": 382,
    "start_time": "2021-08-09T17:39:42.982Z"
   },
   {
    "duration": 86,
    "start_time": "2021-08-09T17:40:02.894Z"
   },
   {
    "duration": 8,
    "start_time": "2021-08-09T17:40:07.158Z"
   },
   {
    "duration": 16,
    "start_time": "2021-08-09T17:40:13.822Z"
   },
   {
    "duration": 37,
    "start_time": "2021-08-09T17:41:09.695Z"
   },
   {
    "duration": 37,
    "start_time": "2021-08-09T17:42:00.530Z"
   },
   {
    "duration": 12,
    "start_time": "2021-08-09T17:42:11.648Z"
   },
   {
    "duration": 11,
    "start_time": "2021-08-09T17:42:15.753Z"
   },
   {
    "duration": 37,
    "start_time": "2021-08-09T17:46:35.790Z"
   },
   {
    "duration": 10,
    "start_time": "2021-08-09T17:47:45.406Z"
   },
   {
    "duration": 11,
    "start_time": "2021-08-09T17:52:13.859Z"
   },
   {
    "duration": 130,
    "start_time": "2021-08-09T17:53:12.820Z"
   },
   {
    "duration": 7,
    "start_time": "2021-08-09T17:53:51.805Z"
   },
   {
    "duration": 12,
    "start_time": "2021-08-09T17:53:56.708Z"
   },
   {
    "duration": 6,
    "start_time": "2021-08-09T18:01:57.381Z"
   },
   {
    "duration": 27,
    "start_time": "2021-08-09T18:07:55.604Z"
   },
   {
    "duration": 47,
    "start_time": "2021-08-09T18:07:58.140Z"
   },
   {
    "duration": 395,
    "start_time": "2021-08-09T18:08:07.156Z"
   },
   {
    "duration": 522,
    "start_time": "2021-08-09T18:10:18.663Z"
   },
   {
    "duration": 116,
    "start_time": "2021-08-09T18:10:38.824Z"
   },
   {
    "duration": 377,
    "start_time": "2021-08-09T18:10:41.526Z"
   },
   {
    "duration": 9254,
    "start_time": "2021-08-09T18:11:03.497Z"
   },
   {
    "duration": 12,
    "start_time": "2021-08-09T18:11:51.385Z"
   },
   {
    "duration": 40,
    "start_time": "2021-08-09T18:12:18.193Z"
   },
   {
    "duration": 29,
    "start_time": "2021-08-09T18:12:33.978Z"
   },
   {
    "duration": 401,
    "start_time": "2021-08-09T18:14:34.107Z"
   },
   {
    "duration": 463,
    "start_time": "2021-08-09T18:14:48.901Z"
   },
   {
    "duration": 24,
    "start_time": "2021-08-09T18:14:53.531Z"
   },
   {
    "duration": 20,
    "start_time": "2021-08-09T18:15:02.740Z"
   },
   {
    "duration": 35,
    "start_time": "2021-08-09T18:15:24.372Z"
   },
   {
    "duration": 10,
    "start_time": "2021-08-09T18:15:39.302Z"
   },
   {
    "duration": 386,
    "start_time": "2021-08-09T18:16:44.637Z"
   },
   {
    "duration": 427,
    "start_time": "2021-08-09T18:16:50.198Z"
   },
   {
    "duration": 475,
    "start_time": "2021-08-09T18:17:46.774Z"
   },
   {
    "duration": 36,
    "start_time": "2021-08-09T18:17:50.022Z"
   },
   {
    "duration": 24,
    "start_time": "2021-08-09T18:18:06.959Z"
   },
   {
    "duration": 735,
    "start_time": "2021-08-09T18:19:21.152Z"
   },
   {
    "duration": 576,
    "start_time": "2021-08-09T18:19:42.753Z"
   },
   {
    "duration": 557,
    "start_time": "2021-08-09T18:19:49.953Z"
   },
   {
    "duration": 24,
    "start_time": "2021-08-09T18:19:53.465Z"
   },
   {
    "duration": 417,
    "start_time": "2021-08-09T18:20:04.777Z"
   },
   {
    "duration": 555,
    "start_time": "2021-08-09T18:20:11.089Z"
   },
   {
    "duration": 560,
    "start_time": "2021-08-09T18:20:25.810Z"
   },
   {
    "duration": 30,
    "start_time": "2021-08-09T18:26:14.487Z"
   },
   {
    "duration": 440,
    "start_time": "2021-08-09T18:26:27.209Z"
   },
   {
    "duration": 29,
    "start_time": "2021-08-09T18:26:35.816Z"
   },
   {
    "duration": 28,
    "start_time": "2021-08-09T18:27:47.859Z"
   },
   {
    "duration": 22,
    "start_time": "2021-08-09T18:28:01.635Z"
   },
   {
    "duration": 23,
    "start_time": "2021-08-09T18:28:15.362Z"
   },
   {
    "duration": 405,
    "start_time": "2021-08-09T18:28:33.458Z"
   },
   {
    "duration": 24,
    "start_time": "2021-08-09T18:28:46.147Z"
   },
   {
    "duration": 23,
    "start_time": "2021-08-09T18:29:07.947Z"
   },
   {
    "duration": 25,
    "start_time": "2021-08-09T18:30:21.100Z"
   },
   {
    "duration": 1227,
    "start_time": "2021-08-09T18:30:41.171Z"
   },
   {
    "duration": 6,
    "start_time": "2021-08-09T18:30:49.260Z"
   },
   {
    "duration": 42,
    "start_time": "2021-08-09T18:31:54.118Z"
   },
   {
    "duration": 1155,
    "start_time": "2021-08-09T18:32:54.097Z"
   },
   {
    "duration": 527,
    "start_time": "2021-08-09T18:33:15.031Z"
   },
   {
    "duration": 304,
    "start_time": "2021-08-09T18:33:29.207Z"
   },
   {
    "duration": 4982,
    "start_time": "2021-08-09T18:33:53.384Z"
   },
   {
    "duration": 409,
    "start_time": "2021-08-09T18:34:21.065Z"
   },
   {
    "duration": 787,
    "start_time": "2021-08-09T18:35:21.218Z"
   },
   {
    "duration": 29530,
    "start_time": "2021-08-09T18:35:29.729Z"
   },
   {
    "duration": 689,
    "start_time": "2021-08-09T18:36:02.284Z"
   },
   {
    "duration": 23,
    "start_time": "2021-08-09T18:36:19.618Z"
   },
   {
    "duration": 482,
    "start_time": "2021-08-09T18:36:21.225Z"
   },
   {
    "duration": 475,
    "start_time": "2021-08-09T18:36:28.490Z"
   },
   {
    "duration": 482,
    "start_time": "2021-08-09T18:36:34.059Z"
   },
   {
    "duration": 47,
    "start_time": "2021-08-09T18:37:09.324Z"
   },
   {
    "duration": 30,
    "start_time": "2021-08-09T18:37:09.483Z"
   },
   {
    "duration": 6,
    "start_time": "2021-08-09T18:37:09.939Z"
   },
   {
    "duration": 8,
    "start_time": "2021-08-09T18:37:10.370Z"
   },
   {
    "duration": 11,
    "start_time": "2021-08-09T18:37:10.962Z"
   },
   {
    "duration": 12,
    "start_time": "2021-08-09T18:37:11.795Z"
   },
   {
    "duration": 13,
    "start_time": "2021-08-09T18:37:12.771Z"
   },
   {
    "duration": 36,
    "start_time": "2021-08-09T18:37:13.795Z"
   },
   {
    "duration": 11,
    "start_time": "2021-08-09T18:37:14.219Z"
   },
   {
    "duration": 9,
    "start_time": "2021-08-09T18:37:14.834Z"
   },
   {
    "duration": 13,
    "start_time": "2021-08-09T18:37:15.850Z"
   },
   {
    "duration": 29,
    "start_time": "2021-08-09T18:37:17.427Z"
   },
   {
    "duration": 556,
    "start_time": "2021-08-09T18:37:18.810Z"
   },
   {
    "duration": 21,
    "start_time": "2021-08-09T18:37:19.531Z"
   },
   {
    "duration": 25,
    "start_time": "2021-08-09T18:37:22.074Z"
   },
   {
    "duration": 742,
    "start_time": "2021-08-09T18:37:26.819Z"
   },
   {
    "duration": 1952,
    "start_time": "2021-08-09T18:37:32.853Z"
   },
   {
    "duration": 44,
    "start_time": "2021-08-09T18:37:51.828Z"
   },
   {
    "duration": 32,
    "start_time": "2021-08-09T18:37:51.980Z"
   },
   {
    "duration": 6,
    "start_time": "2021-08-09T18:37:52.744Z"
   },
   {
    "duration": 7,
    "start_time": "2021-08-09T18:37:52.835Z"
   },
   {
    "duration": 10,
    "start_time": "2021-08-09T18:37:52.903Z"
   },
   {
    "duration": 13,
    "start_time": "2021-08-09T18:37:53.033Z"
   },
   {
    "duration": 13,
    "start_time": "2021-08-09T18:37:53.131Z"
   },
   {
    "duration": 35,
    "start_time": "2021-08-09T18:37:53.232Z"
   },
   {
    "duration": 11,
    "start_time": "2021-08-09T18:37:53.270Z"
   },
   {
    "duration": 7,
    "start_time": "2021-08-09T18:37:53.332Z"
   },
   {
    "duration": 12,
    "start_time": "2021-08-09T18:37:53.429Z"
   },
   {
    "duration": 28,
    "start_time": "2021-08-09T18:37:53.528Z"
   },
   {
    "duration": 566,
    "start_time": "2021-08-09T18:37:53.627Z"
   },
   {
    "duration": 22,
    "start_time": "2021-08-09T18:37:54.197Z"
   },
   {
    "duration": 25,
    "start_time": "2021-08-09T18:37:54.223Z"
   },
   {
    "duration": 513,
    "start_time": "2021-08-09T18:37:54.251Z"
   },
   {
    "duration": 1473,
    "start_time": "2021-08-09T18:37:58.828Z"
   },
   {
    "duration": 1545,
    "start_time": "2021-08-09T18:38:07.996Z"
   },
   {
    "duration": 1471,
    "start_time": "2021-08-09T18:38:17.820Z"
   },
   {
    "duration": 25,
    "start_time": "2021-08-09T18:38:37.349Z"
   },
   {
    "duration": 3002,
    "start_time": "2021-08-09T18:38:37.596Z"
   },
   {
    "duration": 24,
    "start_time": "2021-08-09T18:39:04.958Z"
   },
   {
    "duration": 1514,
    "start_time": "2021-08-09T18:39:05.181Z"
   },
   {
    "duration": 1470,
    "start_time": "2021-08-09T18:39:21.253Z"
   },
   {
    "duration": 1533,
    "start_time": "2021-08-09T18:39:26.477Z"
   },
   {
    "duration": 178,
    "start_time": "2021-08-09T18:46:53.030Z"
   },
   {
    "duration": 39,
    "start_time": "2021-08-09T18:47:54.727Z"
   },
   {
    "duration": 40,
    "start_time": "2021-08-09T18:48:09.351Z"
   },
   {
    "duration": 30,
    "start_time": "2021-08-09T18:48:15.824Z"
   },
   {
    "duration": 30,
    "start_time": "2021-08-09T18:48:28.367Z"
   },
   {
    "duration": 21,
    "start_time": "2021-08-09T18:49:19.208Z"
   },
   {
    "duration": 6,
    "start_time": "2021-08-09T18:49:54.857Z"
   },
   {
    "duration": 927,
    "start_time": "2021-08-09T18:50:02.137Z"
   },
   {
    "duration": 941,
    "start_time": "2021-08-09T18:50:54.595Z"
   },
   {
    "duration": 22,
    "start_time": "2021-08-09T18:50:59.002Z"
   },
   {
    "duration": 21,
    "start_time": "2021-08-09T18:51:06.219Z"
   },
   {
    "duration": 20,
    "start_time": "2021-08-09T18:51:15.507Z"
   },
   {
    "duration": 21,
    "start_time": "2021-08-09T18:51:22.618Z"
   },
   {
    "duration": 1219,
    "start_time": "2021-08-09T18:52:15.123Z"
   },
   {
    "duration": 8422,
    "start_time": "2021-08-09T18:52:41.516Z"
   },
   {
    "duration": 14,
    "start_time": "2021-08-09T18:53:34.034Z"
   },
   {
    "duration": 22,
    "start_time": "2021-08-09T18:53:42.457Z"
   },
   {
    "duration": 4742,
    "start_time": "2021-08-09T18:53:58.862Z"
   },
   {
    "duration": 3608,
    "start_time": "2021-08-09T18:54:33.262Z"
   },
   {
    "duration": 4733,
    "start_time": "2021-08-09T18:55:53.961Z"
   },
   {
    "duration": 5095,
    "start_time": "2021-08-09T18:56:51.393Z"
   },
   {
    "duration": 1257,
    "start_time": "2021-08-09T18:58:37.505Z"
   },
   {
    "duration": 315,
    "start_time": "2021-08-09T18:58:40.938Z"
   },
   {
    "duration": 326,
    "start_time": "2021-08-09T18:59:03.963Z"
   },
   {
    "duration": 5008,
    "start_time": "2021-08-09T18:59:48.836Z"
   },
   {
    "duration": 994,
    "start_time": "2021-08-10T09:38:41.348Z"
   },
   {
    "duration": 31,
    "start_time": "2021-08-10T09:38:42.344Z"
   },
   {
    "duration": 6,
    "start_time": "2021-08-10T09:38:43.868Z"
   },
   {
    "duration": 8,
    "start_time": "2021-08-10T09:38:46.875Z"
   },
   {
    "duration": 10,
    "start_time": "2021-08-10T09:38:47.852Z"
   },
   {
    "duration": 12,
    "start_time": "2021-08-10T09:38:49.403Z"
   },
   {
    "duration": 15,
    "start_time": "2021-08-10T09:38:50.506Z"
   },
   {
    "duration": 37,
    "start_time": "2021-08-10T09:38:51.848Z"
   },
   {
    "duration": 10,
    "start_time": "2021-08-10T09:38:52.402Z"
   },
   {
    "duration": 7,
    "start_time": "2021-08-10T09:38:53.328Z"
   },
   {
    "duration": 13,
    "start_time": "2021-08-10T09:38:54.694Z"
   },
   {
    "duration": 29,
    "start_time": "2021-08-10T09:38:56.696Z"
   },
   {
    "duration": 561,
    "start_time": "2021-08-10T09:38:59.211Z"
   },
   {
    "duration": 31,
    "start_time": "2021-08-10T09:39:03.432Z"
   },
   {
    "duration": 42,
    "start_time": "2021-08-10T09:39:14.834Z"
   },
   {
    "duration": 1622,
    "start_time": "2021-08-10T09:39:17.625Z"
   },
   {
    "duration": 1113,
    "start_time": "2021-08-10T09:41:36.819Z"
   },
   {
    "duration": 4951,
    "start_time": "2021-08-10T09:41:48.936Z"
   },
   {
    "duration": 1087,
    "start_time": "2021-08-10T09:41:59.892Z"
   },
   {
    "duration": 1216,
    "start_time": "2021-08-10T09:42:22.743Z"
   },
   {
    "duration": 2118,
    "start_time": "2021-08-10T09:42:29.233Z"
   },
   {
    "duration": 1141,
    "start_time": "2021-08-10T09:42:32.170Z"
   },
   {
    "duration": 764,
    "start_time": "2021-08-10T09:43:31.033Z"
   },
   {
    "duration": 1361,
    "start_time": "2021-08-10T09:43:41.965Z"
   },
   {
    "duration": 1370,
    "start_time": "2021-08-10T09:43:54.516Z"
   },
   {
    "duration": 1347,
    "start_time": "2021-08-10T09:44:04.086Z"
   },
   {
    "duration": 1282,
    "start_time": "2021-08-10T09:44:12.086Z"
   },
   {
    "duration": 1231,
    "start_time": "2021-08-10T09:44:21.025Z"
   },
   {
    "duration": 1208,
    "start_time": "2021-08-10T09:44:38.096Z"
   },
   {
    "duration": 1828,
    "start_time": "2021-08-10T09:44:49.109Z"
   },
   {
    "duration": 1291,
    "start_time": "2021-08-10T09:44:57.290Z"
   },
   {
    "duration": 1257,
    "start_time": "2021-08-10T09:45:04.779Z"
   },
   {
    "duration": 1480,
    "start_time": "2021-08-10T09:45:14.194Z"
   },
   {
    "duration": 1472,
    "start_time": "2021-08-10T09:45:20.701Z"
   },
   {
    "duration": 1739,
    "start_time": "2021-08-10T09:45:38.409Z"
   },
   {
    "duration": 32,
    "start_time": "2021-08-10T09:45:58.708Z"
   },
   {
    "duration": 30,
    "start_time": "2021-08-10T09:46:02.235Z"
   },
   {
    "duration": 1981,
    "start_time": "2021-08-10T09:46:31.576Z"
   },
   {
    "duration": 2511,
    "start_time": "2021-08-10T09:46:47.878Z"
   },
   {
    "duration": 2609,
    "start_time": "2021-08-10T09:47:24.211Z"
   },
   {
    "duration": 2969,
    "start_time": "2021-08-10T09:47:33.137Z"
   },
   {
    "duration": 1728,
    "start_time": "2021-08-10T09:47:44.030Z"
   },
   {
    "duration": 1385,
    "start_time": "2021-08-10T09:47:49.119Z"
   },
   {
    "duration": 2652,
    "start_time": "2021-08-10T09:47:59.999Z"
   },
   {
    "duration": 2646,
    "start_time": "2021-08-10T09:48:15.352Z"
   },
   {
    "duration": 2694,
    "start_time": "2021-08-10T09:48:24.198Z"
   },
   {
    "duration": 3074,
    "start_time": "2021-08-10T09:48:35.867Z"
   },
   {
    "duration": 2676,
    "start_time": "2021-08-10T09:48:54.992Z"
   },
   {
    "duration": 4971,
    "start_time": "2021-08-10T09:49:41.886Z"
   },
   {
    "duration": 4629,
    "start_time": "2021-08-10T09:49:57.061Z"
   },
   {
    "duration": 2790,
    "start_time": "2021-08-10T09:50:08.730Z"
   },
   {
    "duration": 2423,
    "start_time": "2021-08-10T09:50:22.784Z"
   },
   {
    "duration": 2250,
    "start_time": "2021-08-10T09:50:33.876Z"
   },
   {
    "duration": 2487,
    "start_time": "2021-08-10T09:50:55.289Z"
   },
   {
    "duration": 2453,
    "start_time": "2021-08-10T09:51:05.536Z"
   },
   {
    "duration": 2679,
    "start_time": "2021-08-10T09:51:18.242Z"
   },
   {
    "duration": 3080,
    "start_time": "2021-08-10T09:51:34.260Z"
   },
   {
    "duration": 3138,
    "start_time": "2021-08-10T09:51:53.492Z"
   },
   {
    "duration": 3232,
    "start_time": "2021-08-10T09:52:52.892Z"
   },
   {
    "duration": 3297,
    "start_time": "2021-08-10T09:53:10.030Z"
   },
   {
    "duration": 22,
    "start_time": "2021-08-10T09:53:52.949Z"
   },
   {
    "duration": 4185,
    "start_time": "2021-08-10T09:53:53.489Z"
   },
   {
    "duration": 23,
    "start_time": "2021-08-10T09:54:37.098Z"
   },
   {
    "duration": 3026,
    "start_time": "2021-08-10T09:54:37.735Z"
   },
   {
    "duration": 303,
    "start_time": "2021-08-10T09:55:46.720Z"
   },
   {
    "duration": 2313,
    "start_time": "2021-08-10T09:56:09.695Z"
   },
   {
    "duration": 2290,
    "start_time": "2021-08-10T09:56:17.165Z"
   },
   {
    "duration": 932,
    "start_time": "2021-08-10T16:35:37.712Z"
   },
   {
    "duration": 32,
    "start_time": "2021-08-10T16:35:38.647Z"
   },
   {
    "duration": 6,
    "start_time": "2021-08-10T16:35:39.871Z"
   },
   {
    "duration": 8,
    "start_time": "2021-08-10T16:35:40.855Z"
   },
   {
    "duration": 10,
    "start_time": "2021-08-10T16:35:41.591Z"
   },
   {
    "duration": 12,
    "start_time": "2021-08-10T16:35:42.901Z"
   },
   {
    "duration": 14,
    "start_time": "2021-08-10T16:35:43.303Z"
   },
   {
    "duration": 35,
    "start_time": "2021-08-10T16:35:43.936Z"
   },
   {
    "duration": 11,
    "start_time": "2021-08-10T16:35:44.143Z"
   },
   {
    "duration": 8,
    "start_time": "2021-08-10T16:35:44.599Z"
   },
   {
    "duration": 11,
    "start_time": "2021-08-10T16:35:45.255Z"
   },
   {
    "duration": 29,
    "start_time": "2021-08-10T16:35:46.218Z"
   },
   {
    "duration": 539,
    "start_time": "2021-08-10T16:35:46.623Z"
   },
   {
    "duration": 20,
    "start_time": "2021-08-10T16:35:47.165Z"
   },
   {
    "duration": 32,
    "start_time": "2021-08-10T16:35:48.151Z"
   },
   {
    "duration": 1437,
    "start_time": "2021-08-10T16:35:48.432Z"
   },
   {
    "duration": 33,
    "start_time": "2021-08-10T16:35:50.391Z"
   },
   {
    "duration": 20,
    "start_time": "2021-08-10T16:35:51.152Z"
   },
   {
    "duration": 2905,
    "start_time": "2021-08-10T16:35:51.375Z"
   },
   {
    "duration": 2298,
    "start_time": "2021-08-10T16:35:54.282Z"
   },
   {
    "duration": 46,
    "start_time": "2021-08-10T17:03:29.146Z"
   },
   {
    "duration": 30,
    "start_time": "2021-08-10T17:03:29.647Z"
   },
   {
    "duration": 6,
    "start_time": "2021-08-10T17:03:29.755Z"
   },
   {
    "duration": 8,
    "start_time": "2021-08-10T17:03:30.148Z"
   },
   {
    "duration": 26,
    "start_time": "2021-08-10T17:03:30.159Z"
   },
   {
    "duration": 22,
    "start_time": "2021-08-10T17:03:30.188Z"
   },
   {
    "duration": 16,
    "start_time": "2021-08-10T17:03:30.213Z"
   },
   {
    "duration": 39,
    "start_time": "2021-08-10T17:03:30.240Z"
   },
   {
    "duration": 11,
    "start_time": "2021-08-10T17:03:30.281Z"
   },
   {
    "duration": 8,
    "start_time": "2021-08-10T17:03:30.351Z"
   },
   {
    "duration": 12,
    "start_time": "2021-08-10T17:03:30.439Z"
   },
   {
    "duration": 31,
    "start_time": "2021-08-10T17:03:31.218Z"
   },
   {
    "duration": 551,
    "start_time": "2021-08-10T17:03:34.095Z"
   },
   {
    "duration": 21,
    "start_time": "2021-08-10T17:03:34.649Z"
   },
   {
    "duration": 26,
    "start_time": "2021-08-10T17:03:34.674Z"
   },
   {
    "duration": 1435,
    "start_time": "2021-08-10T17:03:34.704Z"
   },
   {
    "duration": 37,
    "start_time": "2021-08-10T17:03:36.142Z"
   },
   {
    "duration": 19,
    "start_time": "2021-08-10T17:03:37.478Z"
   },
   {
    "duration": 3017,
    "start_time": "2021-08-10T17:03:38.937Z"
   },
   {
    "duration": 2218,
    "start_time": "2021-08-10T17:03:41.957Z"
   },
   {
    "duration": 2578,
    "start_time": "2021-08-10T17:04:15.812Z"
   },
   {
    "duration": 1928,
    "start_time": "2021-08-10T17:04:20.072Z"
   },
   {
    "duration": 2851,
    "start_time": "2021-08-10T17:04:26.244Z"
   },
   {
    "duration": 1876,
    "start_time": "2021-08-10T17:04:29.098Z"
   },
   {
    "duration": 1931,
    "start_time": "2021-08-10T17:07:14.981Z"
   },
   {
    "duration": 855,
    "start_time": "2021-08-10T21:52:02.191Z"
   },
   {
    "duration": 36,
    "start_time": "2021-08-10T21:52:03.049Z"
   },
   {
    "duration": 936,
    "start_time": "2021-08-11T10:24:20.421Z"
   },
   {
    "duration": 32,
    "start_time": "2021-08-11T10:24:21.360Z"
   },
   {
    "duration": 6,
    "start_time": "2021-08-11T10:24:21.395Z"
   },
   {
    "duration": 8,
    "start_time": "2021-08-11T10:24:21.711Z"
   },
   {
    "duration": 10,
    "start_time": "2021-08-11T10:24:22.087Z"
   },
   {
    "duration": 12,
    "start_time": "2021-08-11T10:24:22.809Z"
   },
   {
    "duration": 17,
    "start_time": "2021-08-11T10:24:23.394Z"
   },
   {
    "duration": 50,
    "start_time": "2021-08-11T10:24:24.003Z"
   },
   {
    "duration": 14,
    "start_time": "2021-08-11T10:24:24.223Z"
   },
   {
    "duration": 7,
    "start_time": "2021-08-11T10:24:25.062Z"
   },
   {
    "duration": 11,
    "start_time": "2021-08-11T10:24:25.975Z"
   },
   {
    "duration": 30,
    "start_time": "2021-08-11T10:24:26.645Z"
   },
   {
    "duration": 583,
    "start_time": "2021-08-11T10:24:27.339Z"
   },
   {
    "duration": 20,
    "start_time": "2021-08-11T10:24:27.924Z"
   },
   {
    "duration": 29,
    "start_time": "2021-08-11T10:24:28.565Z"
   },
   {
    "duration": 1477,
    "start_time": "2021-08-11T10:24:28.775Z"
   },
   {
    "duration": 29,
    "start_time": "2021-08-11T10:24:33.780Z"
   },
   {
    "duration": 20,
    "start_time": "2021-08-11T10:24:35.100Z"
   },
   {
    "duration": 2815,
    "start_time": "2021-08-11T10:24:35.469Z"
   },
   {
    "duration": 2084,
    "start_time": "2021-08-11T10:24:38.287Z"
   },
   {
    "duration": 2882,
    "start_time": "2021-08-11T10:24:50.214Z"
   },
   {
    "duration": 2542,
    "start_time": "2021-08-11T10:25:17.815Z"
   },
   {
    "duration": 2760,
    "start_time": "2021-08-11T10:26:24.504Z"
   },
   {
    "duration": 1864,
    "start_time": "2021-08-11T10:29:13.712Z"
   },
   {
    "duration": 461,
    "start_time": "2021-08-11T10:42:53.306Z"
   },
   {
    "duration": 345,
    "start_time": "2021-08-11T10:43:05.507Z"
   },
   {
    "duration": 355,
    "start_time": "2021-08-11T10:43:14.901Z"
   },
   {
    "duration": 323,
    "start_time": "2021-08-11T10:43:26.332Z"
   },
   {
    "duration": 282,
    "start_time": "2021-08-11T10:43:58.884Z"
   },
   {
    "duration": 361,
    "start_time": "2021-08-11T10:44:08.980Z"
   },
   {
    "duration": 541,
    "start_time": "2021-08-11T10:44:20.206Z"
   },
   {
    "duration": 534,
    "start_time": "2021-08-11T10:44:23.306Z"
   },
   {
    "duration": 584,
    "start_time": "2021-08-11T10:44:25.741Z"
   },
   {
    "duration": 662,
    "start_time": "2021-08-11T10:44:28.107Z"
   },
   {
    "duration": 273,
    "start_time": "2021-08-11T10:44:39.501Z"
   },
   {
    "duration": 413,
    "start_time": "2021-08-11T10:45:13.929Z"
   },
   {
    "duration": 422,
    "start_time": "2021-08-11T10:45:20.835Z"
   },
   {
    "duration": 291,
    "start_time": "2021-08-11T10:45:45.300Z"
   },
   {
    "duration": 15,
    "start_time": "2021-08-11T10:46:08.104Z"
   },
   {
    "duration": 262,
    "start_time": "2021-08-11T10:46:33.529Z"
   },
   {
    "duration": 412,
    "start_time": "2021-08-11T10:46:53.069Z"
   },
   {
    "duration": 394,
    "start_time": "2021-08-11T10:47:04.387Z"
   },
   {
    "duration": 300,
    "start_time": "2021-08-11T10:47:38.424Z"
   },
   {
    "duration": 18,
    "start_time": "2021-08-11T10:47:57.347Z"
   },
   {
    "duration": 28,
    "start_time": "2021-08-11T10:48:34.815Z"
   },
   {
    "duration": 486,
    "start_time": "2021-08-11T10:48:54.557Z"
   },
   {
    "duration": 331,
    "start_time": "2021-08-11T10:49:03.010Z"
   },
   {
    "duration": 352,
    "start_time": "2021-08-11T10:49:23.898Z"
   },
   {
    "duration": 302,
    "start_time": "2021-08-11T10:49:30.672Z"
   },
   {
    "duration": 293,
    "start_time": "2021-08-11T10:49:46.798Z"
   },
   {
    "duration": 91,
    "start_time": "2021-08-11T10:50:21.620Z"
   },
   {
    "duration": 411,
    "start_time": "2021-08-11T10:50:27.395Z"
   },
   {
    "duration": 280,
    "start_time": "2021-08-11T10:51:59.387Z"
   },
   {
    "duration": 855,
    "start_time": "2021-08-11T10:52:25.748Z"
   },
   {
    "duration": 6703,
    "start_time": "2021-08-11T10:53:23.775Z"
   },
   {
    "duration": 312,
    "start_time": "2021-08-11T10:53:33.010Z"
   },
   {
    "duration": 817,
    "start_time": "2021-08-11T10:54:44.115Z"
   },
   {
    "duration": 919,
    "start_time": "2021-08-11T10:54:52.484Z"
   },
   {
    "duration": 606,
    "start_time": "2021-08-11T10:55:31.631Z"
   },
   {
    "duration": 676,
    "start_time": "2021-08-11T10:55:49.669Z"
   },
   {
    "duration": 625,
    "start_time": "2021-08-11T10:56:01.287Z"
   },
   {
    "duration": 648,
    "start_time": "2021-08-11T10:56:12.943Z"
   },
   {
    "duration": 614,
    "start_time": "2021-08-11T10:56:19.098Z"
   },
   {
    "duration": 1596,
    "start_time": "2021-08-11T10:56:43.548Z"
   },
   {
    "duration": 577,
    "start_time": "2021-08-11T10:57:09.995Z"
   },
   {
    "duration": 658,
    "start_time": "2021-08-11T10:57:42.953Z"
   },
   {
    "duration": 588,
    "start_time": "2021-08-11T10:58:10.414Z"
   },
   {
    "duration": 15,
    "start_time": "2021-08-11T10:59:17.324Z"
   },
   {
    "duration": 675,
    "start_time": "2021-08-11T11:00:29.790Z"
   },
   {
    "duration": 54,
    "start_time": "2021-08-11T11:00:43.132Z"
   },
   {
    "duration": 53,
    "start_time": "2021-08-11T11:00:46.820Z"
   },
   {
    "duration": 582,
    "start_time": "2021-08-11T11:00:59.596Z"
   },
   {
    "duration": 646,
    "start_time": "2021-08-11T11:01:30.982Z"
   },
   {
    "duration": 618,
    "start_time": "2021-08-11T11:01:47.746Z"
   },
   {
    "duration": 24,
    "start_time": "2021-08-11T11:02:16.123Z"
   },
   {
    "duration": 23,
    "start_time": "2021-08-11T11:02:26.222Z"
   },
   {
    "duration": 95,
    "start_time": "2021-08-11T11:02:50.117Z"
   },
   {
    "duration": 26,
    "start_time": "2021-08-11T11:03:06.663Z"
   },
   {
    "duration": 25,
    "start_time": "2021-08-11T11:03:16.570Z"
   },
   {
    "duration": 22,
    "start_time": "2021-08-11T11:03:29.628Z"
   },
   {
    "duration": 22,
    "start_time": "2021-08-11T11:03:36.681Z"
   },
   {
    "duration": 21,
    "start_time": "2021-08-11T11:03:50.370Z"
   },
   {
    "duration": 29,
    "start_time": "2021-08-11T11:08:58.277Z"
   },
   {
    "duration": 29,
    "start_time": "2021-08-11T11:09:07.405Z"
   },
   {
    "duration": 49,
    "start_time": "2021-08-11T11:10:05.737Z"
   },
   {
    "duration": 49,
    "start_time": "2021-08-11T11:10:49.860Z"
   },
   {
    "duration": 48,
    "start_time": "2021-08-11T11:11:21.029Z"
   },
   {
    "duration": 612,
    "start_time": "2021-08-11T11:13:32.315Z"
   },
   {
    "duration": 631,
    "start_time": "2021-08-11T11:13:39.737Z"
   },
   {
    "duration": 742,
    "start_time": "2021-08-11T11:15:29.998Z"
   },
   {
    "duration": 635,
    "start_time": "2021-08-11T11:16:04.415Z"
   },
   {
    "duration": 723,
    "start_time": "2021-08-11T11:18:54.543Z"
   },
   {
    "duration": 36367,
    "start_time": "2021-08-11T11:19:17.695Z"
   },
   {
    "duration": 328,
    "start_time": "2021-08-11T11:20:18.005Z"
   },
   {
    "duration": 95,
    "start_time": "2021-08-11T11:20:29.364Z"
   },
   {
    "duration": 329,
    "start_time": "2021-08-11T11:20:31.993Z"
   },
   {
    "duration": 334,
    "start_time": "2021-08-11T11:20:40.015Z"
   },
   {
    "duration": 314,
    "start_time": "2021-08-11T11:20:54.629Z"
   },
   {
    "duration": 328,
    "start_time": "2021-08-11T11:21:10.173Z"
   },
   {
    "duration": 941,
    "start_time": "2021-08-11T11:21:40.631Z"
   },
   {
    "duration": 324,
    "start_time": "2021-08-11T11:21:52.595Z"
   },
   {
    "duration": 888,
    "start_time": "2021-08-11T13:14:22.355Z"
   },
   {
    "duration": 33,
    "start_time": "2021-08-11T13:14:23.246Z"
   },
   {
    "duration": 9,
    "start_time": "2021-08-11T13:14:24.459Z"
   },
   {
    "duration": 7,
    "start_time": "2021-08-11T13:14:25.240Z"
   },
   {
    "duration": 10,
    "start_time": "2021-08-11T13:14:25.818Z"
   },
   {
    "duration": 13,
    "start_time": "2021-08-11T13:14:27.142Z"
   },
   {
    "duration": 13,
    "start_time": "2021-08-11T13:14:28.163Z"
   },
   {
    "duration": 36,
    "start_time": "2021-08-11T13:14:29.513Z"
   },
   {
    "duration": 10,
    "start_time": "2021-08-11T13:14:30.012Z"
   },
   {
    "duration": 8,
    "start_time": "2021-08-11T13:14:30.634Z"
   },
   {
    "duration": 13,
    "start_time": "2021-08-11T13:14:31.821Z"
   },
   {
    "duration": 29,
    "start_time": "2021-08-11T13:14:32.922Z"
   },
   {
    "duration": 558,
    "start_time": "2021-08-11T13:14:34.009Z"
   },
   {
    "duration": 20,
    "start_time": "2021-08-11T13:14:35.149Z"
   },
   {
    "duration": 33,
    "start_time": "2021-08-11T13:14:38.178Z"
   },
   {
    "duration": 1489,
    "start_time": "2021-08-11T13:14:39.335Z"
   },
   {
    "duration": 30,
    "start_time": "2021-08-11T13:17:41.550Z"
   },
   {
    "duration": 22,
    "start_time": "2021-08-11T13:17:42.684Z"
   },
   {
    "duration": 2650,
    "start_time": "2021-08-11T13:17:43.055Z"
   },
   {
    "duration": 1850,
    "start_time": "2021-08-11T13:17:45.709Z"
   },
   {
    "duration": 571,
    "start_time": "2021-08-11T13:17:50.194Z"
   },
   {
    "duration": 710,
    "start_time": "2021-08-11T13:17:55.480Z"
   },
   {
    "duration": 585,
    "start_time": "2021-08-11T13:17:56.195Z"
   },
   {
    "duration": 21,
    "start_time": "2021-08-11T13:17:56.872Z"
   },
   {
    "duration": 30,
    "start_time": "2021-08-11T13:19:52.656Z"
   },
   {
    "duration": 21,
    "start_time": "2021-08-11T13:19:53.695Z"
   },
   {
    "duration": 2722,
    "start_time": "2021-08-11T13:19:54.085Z"
   },
   {
    "duration": 1954,
    "start_time": "2021-08-11T13:19:56.810Z"
   },
   {
    "duration": 691,
    "start_time": "2021-08-11T13:19:58.767Z"
   },
   {
    "duration": 646,
    "start_time": "2021-08-11T13:19:59.460Z"
   },
   {
    "duration": 617,
    "start_time": "2021-08-11T13:20:00.108Z"
   },
   {
    "duration": 35,
    "start_time": "2021-08-11T13:20:00.728Z"
   },
   {
    "duration": 50,
    "start_time": "2021-08-11T13:20:00.766Z"
   },
   {
    "duration": 629,
    "start_time": "2021-08-11T13:20:01.365Z"
   },
   {
    "duration": 714,
    "start_time": "2021-08-11T13:20:02.849Z"
   },
   {
    "duration": 629,
    "start_time": "2021-08-11T13:20:03.566Z"
   },
   {
    "duration": 314,
    "start_time": "2021-08-11T13:20:04.968Z"
   },
   {
    "duration": 319,
    "start_time": "2021-08-11T13:20:05.462Z"
   },
   {
    "duration": 1113,
    "start_time": "2021-08-11T13:23:50.993Z"
   },
   {
    "duration": 653,
    "start_time": "2021-08-11T13:24:04.693Z"
   },
   {
    "duration": 719,
    "start_time": "2021-08-11T13:26:55.480Z"
   },
   {
    "duration": 815,
    "start_time": "2021-08-11T13:27:22.575Z"
   },
   {
    "duration": 682,
    "start_time": "2021-08-11T13:27:35.352Z"
   },
   {
    "duration": 701,
    "start_time": "2021-08-11T13:27:44.094Z"
   },
   {
    "duration": 723,
    "start_time": "2021-08-11T13:28:00.507Z"
   },
   {
    "duration": 687,
    "start_time": "2021-08-11T13:28:53.611Z"
   },
   {
    "duration": 707,
    "start_time": "2021-08-11T13:29:07.800Z"
   },
   {
    "duration": 741,
    "start_time": "2021-08-11T13:29:47.313Z"
   },
   {
    "duration": 686,
    "start_time": "2021-08-11T13:30:04.899Z"
   },
   {
    "duration": 696,
    "start_time": "2021-08-11T13:30:11.341Z"
   },
   {
    "duration": 692,
    "start_time": "2021-08-11T13:30:23.814Z"
   },
   {
    "duration": 670,
    "start_time": "2021-08-11T13:30:26.789Z"
   },
   {
    "duration": 668,
    "start_time": "2021-08-11T13:30:53.034Z"
   },
   {
    "duration": 742,
    "start_time": "2021-08-11T13:31:05.715Z"
   },
   {
    "duration": 691,
    "start_time": "2021-08-11T13:31:22.041Z"
   },
   {
    "duration": 709,
    "start_time": "2021-08-11T13:31:32.303Z"
   },
   {
    "duration": 675,
    "start_time": "2021-08-11T13:31:43.879Z"
   },
   {
    "duration": 676,
    "start_time": "2021-08-11T13:31:53.497Z"
   },
   {
    "duration": 742,
    "start_time": "2021-08-11T13:31:58.602Z"
   },
   {
    "duration": 692,
    "start_time": "2021-08-11T13:32:41.262Z"
   },
   {
    "duration": 674,
    "start_time": "2021-08-11T13:32:55.414Z"
   },
   {
    "duration": 44,
    "start_time": "2021-08-11T13:44:35.320Z"
   },
   {
    "duration": 338,
    "start_time": "2021-08-11T13:44:45.005Z"
   },
   {
    "duration": 351,
    "start_time": "2021-08-11T13:44:57.461Z"
   },
   {
    "duration": 397,
    "start_time": "2021-08-11T13:47:43.948Z"
   },
   {
    "duration": 352,
    "start_time": "2021-08-11T13:48:00.229Z"
   },
   {
    "duration": 252,
    "start_time": "2021-08-11T13:48:33.575Z"
   },
   {
    "duration": 337,
    "start_time": "2021-08-11T13:48:55.106Z"
   },
   {
    "duration": 242,
    "start_time": "2021-08-11T13:49:01.865Z"
   },
   {
    "duration": 22,
    "start_time": "2021-08-11T13:52:34.810Z"
   },
   {
    "duration": 79,
    "start_time": "2021-08-11T13:53:15.572Z"
   },
   {
    "duration": 85,
    "start_time": "2021-08-11T13:53:21.492Z"
   },
   {
    "duration": 270,
    "start_time": "2021-08-11T13:53:37.989Z"
   },
   {
    "duration": 25,
    "start_time": "2021-08-11T13:53:42.899Z"
   },
   {
    "duration": 259,
    "start_time": "2021-08-11T13:55:40.092Z"
   },
   {
    "duration": 26,
    "start_time": "2021-08-11T13:55:55.310Z"
   },
   {
    "duration": 276,
    "start_time": "2021-08-11T13:56:14.287Z"
   },
   {
    "duration": 334,
    "start_time": "2021-08-11T13:56:21.888Z"
   },
   {
    "duration": 290,
    "start_time": "2021-08-11T13:56:24.760Z"
   },
   {
    "duration": 119,
    "start_time": "2021-08-11T13:56:47.280Z"
   },
   {
    "duration": 278,
    "start_time": "2021-08-11T13:57:00.743Z"
   },
   {
    "duration": 80,
    "start_time": "2021-08-11T13:57:09.802Z"
   },
   {
    "duration": 85,
    "start_time": "2021-08-11T13:58:59.591Z"
   },
   {
    "duration": 83,
    "start_time": "2021-08-11T13:59:20.642Z"
   },
   {
    "duration": 25,
    "start_time": "2021-08-11T14:00:15.228Z"
   },
   {
    "duration": 260,
    "start_time": "2021-08-11T14:00:44.075Z"
   },
   {
    "duration": 330,
    "start_time": "2021-08-11T14:01:02.389Z"
   },
   {
    "duration": 268,
    "start_time": "2021-08-11T14:01:14.800Z"
   },
   {
    "duration": 378,
    "start_time": "2021-08-11T14:02:05.402Z"
   },
   {
    "duration": 282,
    "start_time": "2021-08-11T14:03:02.255Z"
   },
   {
    "duration": 280,
    "start_time": "2021-08-11T14:03:15.394Z"
   },
   {
    "duration": 7136,
    "start_time": "2021-08-11T14:03:31.366Z"
   },
   {
    "duration": 264,
    "start_time": "2021-08-11T14:03:39.973Z"
   },
   {
    "duration": 394,
    "start_time": "2021-08-11T14:03:48.501Z"
   },
   {
    "duration": 269,
    "start_time": "2021-08-11T14:03:55.119Z"
   },
   {
    "duration": 279,
    "start_time": "2021-08-11T14:04:01.192Z"
   },
   {
    "duration": 338,
    "start_time": "2021-08-11T14:09:55.851Z"
   },
   {
    "duration": 430,
    "start_time": "2021-08-11T14:10:20.210Z"
   },
   {
    "duration": 279,
    "start_time": "2021-08-11T14:10:40.670Z"
   },
   {
    "duration": 7462,
    "start_time": "2021-08-11T14:11:32.642Z"
   },
   {
    "duration": 7465,
    "start_time": "2021-08-11T14:11:56.885Z"
   },
   {
    "duration": 434,
    "start_time": "2021-08-11T14:12:26.453Z"
   },
   {
    "duration": 423,
    "start_time": "2021-08-11T14:12:37.489Z"
   },
   {
    "duration": 398,
    "start_time": "2021-08-11T14:13:04.969Z"
   },
   {
    "duration": 257,
    "start_time": "2021-08-11T14:13:35.841Z"
   },
   {
    "duration": 288,
    "start_time": "2021-08-11T14:13:48.615Z"
   },
   {
    "duration": 7,
    "start_time": "2021-08-11T14:18:32.406Z"
   },
   {
    "duration": 626,
    "start_time": "2021-08-11T16:15:56.919Z"
   },
   {
    "duration": 23,
    "start_time": "2021-08-11T16:15:57.547Z"
   },
   {
    "duration": 5,
    "start_time": "2021-08-11T16:15:57.571Z"
   },
   {
    "duration": 5,
    "start_time": "2021-08-11T16:15:57.585Z"
   },
   {
    "duration": 13,
    "start_time": "2021-08-11T16:15:57.592Z"
   },
   {
    "duration": 14,
    "start_time": "2021-08-11T16:15:57.606Z"
   },
   {
    "duration": 9,
    "start_time": "2021-08-11T16:15:57.622Z"
   },
   {
    "duration": 26,
    "start_time": "2021-08-11T16:15:57.633Z"
   },
   {
    "duration": 30,
    "start_time": "2021-08-11T16:15:57.660Z"
   },
   {
    "duration": 9,
    "start_time": "2021-08-11T16:15:57.692Z"
   },
   {
    "duration": 9,
    "start_time": "2021-08-11T16:15:57.744Z"
   },
   {
    "duration": 19,
    "start_time": "2021-08-11T16:15:57.835Z"
   },
   {
    "duration": 352,
    "start_time": "2021-08-11T16:15:57.936Z"
   },
   {
    "duration": 14,
    "start_time": "2021-08-11T16:15:58.290Z"
   },
   {
    "duration": 18,
    "start_time": "2021-08-11T16:15:58.306Z"
   },
   {
    "duration": 979,
    "start_time": "2021-08-11T16:15:58.325Z"
   },
   {
    "duration": 20,
    "start_time": "2021-08-11T16:15:59.305Z"
   },
   {
    "duration": 13,
    "start_time": "2021-08-11T16:15:59.327Z"
   },
   {
    "duration": 1738,
    "start_time": "2021-08-11T16:15:59.341Z"
   },
   {
    "duration": 1210,
    "start_time": "2021-08-11T16:16:01.086Z"
   },
   {
    "duration": 382,
    "start_time": "2021-08-11T16:16:02.298Z"
   },
   {
    "duration": 510,
    "start_time": "2021-08-11T16:16:02.682Z"
   },
   {
    "duration": 401,
    "start_time": "2021-08-11T16:16:03.194Z"
   },
   {
    "duration": 16,
    "start_time": "2021-08-11T16:16:03.597Z"
   },
   {
    "duration": 36,
    "start_time": "2021-08-11T16:16:03.615Z"
   },
   {
    "duration": 437,
    "start_time": "2021-08-11T16:16:03.653Z"
   },
   {
    "duration": 423,
    "start_time": "2021-08-11T16:16:04.092Z"
   },
   {
    "duration": 424,
    "start_time": "2021-08-11T16:16:04.517Z"
   },
   {
    "duration": 534,
    "start_time": "2021-08-11T16:16:04.944Z"
   },
   {
    "duration": 188,
    "start_time": "2021-08-11T16:16:06.498Z"
   },
   {
    "duration": 178,
    "start_time": "2021-08-11T16:16:07.226Z"
   },
   {
    "duration": 173,
    "start_time": "2021-08-11T16:16:07.546Z"
   },
   {
    "duration": 192,
    "start_time": "2021-08-11T16:16:08.770Z"
   },
   {
    "duration": 200,
    "start_time": "2021-08-11T16:16:09.074Z"
   },
   {
    "duration": 201,
    "start_time": "2021-08-11T16:16:09.386Z"
   },
   {
    "duration": 5,
    "start_time": "2021-08-11T16:16:11.985Z"
   },
   {
    "duration": 3260,
    "start_time": "2021-08-11T16:19:49.151Z"
   },
   {
    "duration": 3070,
    "start_time": "2021-08-11T16:19:53.207Z"
   },
   {
    "duration": 66,
    "start_time": "2021-08-11T16:20:11.832Z"
   },
   {
    "duration": 3209,
    "start_time": "2021-08-11T16:23:38.442Z"
   },
   {
    "duration": 3311,
    "start_time": "2021-08-11T16:24:17.291Z"
   },
   {
    "duration": 202,
    "start_time": "2021-08-11T16:25:40.141Z"
   },
   {
    "duration": 208,
    "start_time": "2021-08-11T16:27:15.926Z"
   },
   {
    "duration": 193,
    "start_time": "2021-08-11T16:27:53.831Z"
   },
   {
    "duration": 4429,
    "start_time": "2021-08-11T16:51:11.375Z"
   },
   {
    "duration": 430,
    "start_time": "2021-08-11T16:51:43.361Z"
   },
   {
    "duration": 466,
    "start_time": "2021-08-11T16:53:41.218Z"
   },
   {
    "duration": 456,
    "start_time": "2021-08-11T16:53:56.658Z"
   },
   {
    "duration": 531,
    "start_time": "2021-08-11T16:54:02.395Z"
   },
   {
    "duration": 673,
    "start_time": "2021-08-11T16:54:22.923Z"
   },
   {
    "duration": 727,
    "start_time": "2021-08-11T16:55:23.204Z"
   },
   {
    "duration": 488,
    "start_time": "2021-08-11T16:55:39.036Z"
   },
   {
    "duration": 484,
    "start_time": "2021-08-11T16:56:08.284Z"
   },
   {
    "duration": 1249,
    "start_time": "2021-08-11T16:57:33.359Z"
   },
   {
    "duration": 57,
    "start_time": "2021-08-11T16:57:57.544Z"
   },
   {
    "duration": 496,
    "start_time": "2021-08-11T16:58:03.574Z"
   },
   {
    "duration": 563,
    "start_time": "2021-08-11T16:58:11.135Z"
   },
   {
    "duration": 506,
    "start_time": "2021-08-11T16:58:47.863Z"
   },
   {
    "duration": 508,
    "start_time": "2021-08-11T16:59:21.711Z"
   },
   {
    "duration": 489,
    "start_time": "2021-08-11T16:59:26.447Z"
   },
   {
    "duration": 490,
    "start_time": "2021-08-11T16:59:30.496Z"
   },
   {
    "duration": 506,
    "start_time": "2021-08-11T17:00:02.697Z"
   },
   {
    "duration": 611,
    "start_time": "2021-08-11T17:00:11.121Z"
   },
   {
    "duration": 507,
    "start_time": "2021-08-11T17:00:46.521Z"
   },
   {
    "duration": 710,
    "start_time": "2021-08-11T17:03:38.284Z"
   },
   {
    "duration": 693,
    "start_time": "2021-08-11T17:03:47.572Z"
   },
   {
    "duration": 498,
    "start_time": "2021-08-11T17:03:57.012Z"
   },
   {
    "duration": 851,
    "start_time": "2021-08-11T17:09:37.970Z"
   },
   {
    "duration": 499,
    "start_time": "2021-08-11T17:09:49.051Z"
   },
   {
    "duration": 503,
    "start_time": "2021-08-11T17:09:52.796Z"
   },
   {
    "duration": 521,
    "start_time": "2021-08-11T17:11:39.669Z"
   },
   {
    "duration": 506,
    "start_time": "2021-08-11T17:11:45.637Z"
   },
   {
    "duration": 591,
    "start_time": "2021-08-11T17:11:49.797Z"
   },
   {
    "duration": 500,
    "start_time": "2021-08-11T17:12:13.485Z"
   },
   {
    "duration": 501,
    "start_time": "2021-08-11T17:12:16.941Z"
   },
   {
    "duration": 524,
    "start_time": "2021-08-11T17:12:19.469Z"
   },
   {
    "duration": 499,
    "start_time": "2021-08-11T17:12:35.526Z"
   },
   {
    "duration": 566,
    "start_time": "2021-08-11T17:12:43.031Z"
   },
   {
    "duration": 508,
    "start_time": "2021-08-11T17:12:46.086Z"
   },
   {
    "duration": 530,
    "start_time": "2021-08-11T17:13:01.118Z"
   },
   {
    "duration": 538,
    "start_time": "2021-08-11T17:13:05.798Z"
   },
   {
    "duration": 502,
    "start_time": "2021-08-11T17:13:15.014Z"
   },
   {
    "duration": 503,
    "start_time": "2021-08-11T17:13:26.295Z"
   },
   {
    "duration": 586,
    "start_time": "2021-08-11T17:13:35.319Z"
   },
   {
    "duration": 538,
    "start_time": "2021-08-11T17:14:13.280Z"
   },
   {
    "duration": 495,
    "start_time": "2021-08-11T17:14:34.360Z"
   },
   {
    "duration": 514,
    "start_time": "2021-08-11T17:15:28.994Z"
   },
   {
    "duration": 508,
    "start_time": "2021-08-11T17:15:45.217Z"
   },
   {
    "duration": 589,
    "start_time": "2021-08-11T17:15:50.217Z"
   },
   {
    "duration": 512,
    "start_time": "2021-08-11T17:15:54.721Z"
   },
   {
    "duration": 510,
    "start_time": "2021-08-11T17:16:43.586Z"
   },
   {
    "duration": 505,
    "start_time": "2021-08-11T17:16:56.973Z"
   },
   {
    "duration": 501,
    "start_time": "2021-08-11T17:17:03.786Z"
   },
   {
    "duration": 503,
    "start_time": "2021-08-11T17:17:07.867Z"
   },
   {
    "duration": 611,
    "start_time": "2021-08-11T17:17:27.251Z"
   },
   {
    "duration": 518,
    "start_time": "2021-08-11T17:18:06.811Z"
   },
   {
    "duration": 523,
    "start_time": "2021-08-11T17:18:19.435Z"
   },
   {
    "duration": 527,
    "start_time": "2021-08-11T17:18:21.683Z"
   },
   {
    "duration": 539,
    "start_time": "2021-08-11T17:18:24.068Z"
   },
   {
    "duration": 64,
    "start_time": "2021-08-11T17:20:33.702Z"
   },
   {
    "duration": 58,
    "start_time": "2021-08-11T17:20:37.974Z"
   },
   {
    "duration": 58,
    "start_time": "2021-08-11T17:20:50.397Z"
   },
   {
    "duration": 607,
    "start_time": "2021-08-11T17:21:16.903Z"
   },
   {
    "duration": 517,
    "start_time": "2021-08-11T17:21:51.433Z"
   },
   {
    "duration": 512,
    "start_time": "2021-08-11T17:22:06.808Z"
   },
   {
    "duration": 545,
    "start_time": "2021-08-11T17:22:22.568Z"
   },
   {
    "duration": 505,
    "start_time": "2021-08-11T17:22:52.449Z"
   },
   {
    "duration": 518,
    "start_time": "2021-08-11T17:22:57.744Z"
   },
   {
    "duration": 652,
    "start_time": "2021-08-11T17:23:33.177Z"
   },
   {
    "duration": 516,
    "start_time": "2021-08-11T17:23:38.817Z"
   },
   {
    "duration": 682,
    "start_time": "2021-08-11T17:24:37.738Z"
   },
   {
    "duration": 653,
    "start_time": "2021-08-11T17:25:19.922Z"
   },
   {
    "duration": 529,
    "start_time": "2021-08-11T17:25:25.378Z"
   },
   {
    "duration": 617,
    "start_time": "2021-08-11T17:25:36.619Z"
   },
   {
    "duration": 663,
    "start_time": "2021-08-11T17:25:42.364Z"
   },
   {
    "duration": 662,
    "start_time": "2021-08-11T17:26:14.092Z"
   },
   {
    "duration": 675,
    "start_time": "2021-08-11T17:26:33.188Z"
   },
   {
    "duration": 660,
    "start_time": "2021-08-11T17:27:13.478Z"
   },
   {
    "duration": 579,
    "start_time": "2021-08-11T17:27:38.781Z"
   },
   {
    "duration": 574,
    "start_time": "2021-08-11T17:27:47.302Z"
   },
   {
    "duration": 495,
    "start_time": "2021-08-11T17:27:52.541Z"
   },
   {
    "duration": 675,
    "start_time": "2021-08-11T17:28:18.807Z"
   },
   {
    "duration": 512,
    "start_time": "2021-08-11T17:28:40.414Z"
   },
   {
    "duration": 62,
    "start_time": "2021-08-11T17:28:52.311Z"
   },
   {
    "duration": 55,
    "start_time": "2021-08-11T17:28:56.906Z"
   },
   {
    "duration": 63,
    "start_time": "2021-08-11T17:29:01.030Z"
   },
   {
    "duration": 661,
    "start_time": "2021-08-11T17:29:06.054Z"
   },
   {
    "duration": 86,
    "start_time": "2021-08-11T17:29:17.872Z"
   },
   {
    "duration": 59,
    "start_time": "2021-08-11T17:29:22.767Z"
   },
   {
    "duration": 63,
    "start_time": "2021-08-11T17:29:58.648Z"
   },
   {
    "duration": 645,
    "start_time": "2021-08-11T17:30:02.032Z"
   },
   {
    "duration": 520,
    "start_time": "2021-08-11T17:30:07.688Z"
   },
   {
    "duration": 59,
    "start_time": "2021-08-11T17:30:54.073Z"
   },
   {
    "duration": 517,
    "start_time": "2021-08-11T17:31:06.449Z"
   },
   {
    "duration": 541,
    "start_time": "2021-08-11T17:31:24.073Z"
   },
   {
    "duration": 477,
    "start_time": "2021-08-11T17:31:42.042Z"
   },
   {
    "duration": 8,
    "start_time": "2021-08-11T17:32:23.417Z"
   },
   {
    "duration": 7,
    "start_time": "2021-08-11T17:32:29.107Z"
   },
   {
    "duration": 8,
    "start_time": "2021-08-11T17:32:32.865Z"
   },
   {
    "duration": 495,
    "start_time": "2021-08-11T17:32:39.542Z"
   },
   {
    "duration": 8,
    "start_time": "2021-08-11T17:32:46.747Z"
   },
   {
    "duration": 7,
    "start_time": "2021-08-11T17:32:51.714Z"
   },
   {
    "duration": 7,
    "start_time": "2021-08-11T17:32:56.897Z"
   },
   {
    "duration": 190,
    "start_time": "2021-08-11T17:33:20.811Z"
   },
   {
    "duration": 681,
    "start_time": "2021-08-11T17:34:31.684Z"
   },
   {
    "duration": 539,
    "start_time": "2021-08-11T17:34:51.390Z"
   },
   {
    "duration": 519,
    "start_time": "2021-08-11T17:35:11.381Z"
   },
   {
    "duration": 655,
    "start_time": "2021-08-11T17:35:31.016Z"
   },
   {
    "duration": 550,
    "start_time": "2021-08-11T17:35:34.757Z"
   },
   {
    "duration": 594,
    "start_time": "2021-08-11T17:36:01.518Z"
   },
   {
    "duration": 7,
    "start_time": "2021-08-11T17:36:10.590Z"
   },
   {
    "duration": 7,
    "start_time": "2021-08-11T17:36:13.894Z"
   },
   {
    "duration": 7,
    "start_time": "2021-08-11T17:36:15.269Z"
   },
   {
    "duration": 176,
    "start_time": "2021-08-11T17:45:54.769Z"
   },
   {
    "duration": 361,
    "start_time": "2021-08-11T17:46:17.785Z"
   },
   {
    "duration": 21,
    "start_time": "2021-08-11T17:46:18.289Z"
   },
   {
    "duration": 5,
    "start_time": "2021-08-11T17:46:18.384Z"
   },
   {
    "duration": 6,
    "start_time": "2021-08-11T17:46:18.483Z"
   },
   {
    "duration": 8,
    "start_time": "2021-08-11T17:46:18.557Z"
   },
   {
    "duration": 9,
    "start_time": "2021-08-11T17:46:18.692Z"
   },
   {
    "duration": 9,
    "start_time": "2021-08-11T17:46:18.784Z"
   },
   {
    "duration": 23,
    "start_time": "2021-08-11T17:46:18.879Z"
   },
   {
    "duration": 7,
    "start_time": "2021-08-11T17:46:18.915Z"
   },
   {
    "duration": 5,
    "start_time": "2021-08-11T17:46:18.989Z"
   },
   {
    "duration": 9,
    "start_time": "2021-08-11T17:46:19.082Z"
   },
   {
    "duration": 20,
    "start_time": "2021-08-11T17:46:19.187Z"
   },
   {
    "duration": 369,
    "start_time": "2021-08-11T17:46:19.283Z"
   },
   {
    "duration": 31,
    "start_time": "2021-08-11T17:46:19.655Z"
   },
   {
    "duration": 17,
    "start_time": "2021-08-11T17:46:19.688Z"
   },
   {
    "duration": 1057,
    "start_time": "2021-08-11T17:46:19.707Z"
   },
   {
    "duration": 28,
    "start_time": "2021-08-11T17:46:20.766Z"
   },
   {
    "duration": 15,
    "start_time": "2021-08-11T17:46:20.796Z"
   },
   {
    "duration": 1796,
    "start_time": "2021-08-11T17:46:20.812Z"
   },
   {
    "duration": 1405,
    "start_time": "2021-08-11T17:46:22.611Z"
   },
   {
    "duration": 413,
    "start_time": "2021-08-11T17:46:24.018Z"
   },
   {
    "duration": 433,
    "start_time": "2021-08-11T17:46:24.433Z"
   },
   {
    "duration": 411,
    "start_time": "2021-08-11T17:46:24.868Z"
   },
   {
    "duration": 17,
    "start_time": "2021-08-11T17:46:25.281Z"
   },
   {
    "duration": 37,
    "start_time": "2021-08-11T17:46:25.300Z"
   },
   {
    "duration": 454,
    "start_time": "2021-08-11T17:46:25.339Z"
   },
   {
    "duration": 436,
    "start_time": "2021-08-11T17:46:25.795Z"
   },
   {
    "duration": 439,
    "start_time": "2021-08-11T17:46:26.232Z"
   },
   {
    "duration": 608,
    "start_time": "2021-08-11T17:46:26.674Z"
   },
   {
    "duration": 522,
    "start_time": "2021-08-11T17:46:27.285Z"
   },
   {
    "duration": 7,
    "start_time": "2021-08-11T17:46:27.808Z"
   },
   {
    "duration": 18,
    "start_time": "2021-08-11T17:46:27.817Z"
   },
   {
    "duration": 7,
    "start_time": "2021-08-11T17:46:27.837Z"
   },
   {
    "duration": 519,
    "start_time": "2021-08-11T17:46:27.846Z"
   },
   {
    "duration": 6,
    "start_time": "2021-08-11T17:46:28.367Z"
   },
   {
    "duration": 14,
    "start_time": "2021-08-11T17:46:28.375Z"
   },
   {
    "duration": 10,
    "start_time": "2021-08-11T17:46:28.391Z"
   },
   {
    "duration": 5,
    "start_time": "2021-08-11T17:46:28.403Z"
   },
   {
    "duration": 3317,
    "start_time": "2021-08-11T17:46:28.409Z"
   },
   {
    "duration": 558,
    "start_time": "2021-08-11T17:46:31.728Z"
   },
   {
    "duration": 8,
    "start_time": "2021-08-11T17:46:32.289Z"
   },
   {
    "duration": 8,
    "start_time": "2021-08-11T17:46:32.299Z"
   },
   {
    "duration": 9,
    "start_time": "2021-08-11T17:46:32.309Z"
   },
   {
    "duration": 12,
    "start_time": "2021-08-11T17:46:32.320Z"
   },
   {
    "duration": 11,
    "start_time": "2021-08-11T17:47:04.306Z"
   },
   {
    "duration": 14,
    "start_time": "2021-08-11T17:48:20.267Z"
   },
   {
    "duration": 15,
    "start_time": "2021-08-11T17:49:26.877Z"
   },
   {
    "duration": 15,
    "start_time": "2021-08-11T17:50:00.133Z"
   },
   {
    "duration": 21,
    "start_time": "2021-08-11T17:50:09.221Z"
   },
   {
    "duration": 14,
    "start_time": "2021-08-11T17:50:16.285Z"
   },
   {
    "duration": 15,
    "start_time": "2021-08-11T17:55:22.978Z"
   },
   {
    "duration": 36,
    "start_time": "2021-08-11T18:09:44.654Z"
   },
   {
    "duration": 20,
    "start_time": "2021-08-11T18:09:44.694Z"
   },
   {
    "duration": 5,
    "start_time": "2021-08-11T18:09:44.801Z"
   },
   {
    "duration": 6,
    "start_time": "2021-08-11T18:09:44.898Z"
   },
   {
    "duration": 7,
    "start_time": "2021-08-11T18:09:44.973Z"
   },
   {
    "duration": 9,
    "start_time": "2021-08-11T18:09:45.098Z"
   },
   {
    "duration": 10,
    "start_time": "2021-08-11T18:09:45.183Z"
   },
   {
    "duration": 23,
    "start_time": "2021-08-11T18:09:45.270Z"
   },
   {
    "duration": 7,
    "start_time": "2021-08-11T18:09:45.306Z"
   },
   {
    "duration": 5,
    "start_time": "2021-08-11T18:09:45.373Z"
   },
   {
    "duration": 10,
    "start_time": "2021-08-11T18:09:45.473Z"
   },
   {
    "duration": 19,
    "start_time": "2021-08-11T18:09:45.583Z"
   },
   {
    "duration": 363,
    "start_time": "2021-08-11T18:09:45.673Z"
   },
   {
    "duration": 14,
    "start_time": "2021-08-11T18:09:46.038Z"
   },
   {
    "duration": 33,
    "start_time": "2021-08-11T18:09:46.053Z"
   },
   {
    "duration": 1013,
    "start_time": "2021-08-11T18:09:46.088Z"
   },
   {
    "duration": 20,
    "start_time": "2021-08-11T18:09:47.103Z"
   },
   {
    "duration": 13,
    "start_time": "2021-08-11T18:09:47.125Z"
   },
   {
    "duration": 1738,
    "start_time": "2021-08-11T18:09:47.139Z"
   },
   {
    "duration": 1190,
    "start_time": "2021-08-11T18:09:48.880Z"
   },
   {
    "duration": 370,
    "start_time": "2021-08-11T18:09:50.072Z"
   },
   {
    "duration": 544,
    "start_time": "2021-08-11T18:09:50.443Z"
   },
   {
    "duration": 391,
    "start_time": "2021-08-11T18:09:50.989Z"
   },
   {
    "duration": 15,
    "start_time": "2021-08-11T18:09:51.381Z"
   },
   {
    "duration": 32,
    "start_time": "2021-08-11T18:09:51.398Z"
   },
   {
    "duration": 431,
    "start_time": "2021-08-11T18:09:51.432Z"
   },
   {
    "duration": 408,
    "start_time": "2021-08-11T18:09:51.865Z"
   },
   {
    "duration": 412,
    "start_time": "2021-08-11T18:09:52.275Z"
   },
   {
    "duration": 448,
    "start_time": "2021-08-11T18:09:52.690Z"
   },
   {
    "duration": 600,
    "start_time": "2021-08-11T18:09:53.140Z"
   },
   {
    "duration": 7,
    "start_time": "2021-08-11T18:09:53.742Z"
   },
   {
    "duration": 11,
    "start_time": "2021-08-11T18:09:53.750Z"
   },
   {
    "duration": 24,
    "start_time": "2021-08-11T18:09:53.762Z"
   },
   {
    "duration": 508,
    "start_time": "2021-08-11T18:09:53.788Z"
   },
   {
    "duration": 6,
    "start_time": "2021-08-11T18:09:54.298Z"
   },
   {
    "duration": 8,
    "start_time": "2021-08-11T18:09:54.306Z"
   },
   {
    "duration": 9,
    "start_time": "2021-08-11T18:09:54.316Z"
   },
   {
    "duration": 7,
    "start_time": "2021-08-11T18:09:54.327Z"
   },
   {
    "duration": 3349,
    "start_time": "2021-08-11T18:09:54.336Z"
   },
   {
    "duration": 555,
    "start_time": "2021-08-11T18:09:57.687Z"
   },
   {
    "duration": 7,
    "start_time": "2021-08-11T18:09:58.244Z"
   },
   {
    "duration": 9,
    "start_time": "2021-08-11T18:09:58.252Z"
   },
   {
    "duration": 22,
    "start_time": "2021-08-11T18:09:58.263Z"
   },
   {
    "duration": 13,
    "start_time": "2021-08-11T18:09:58.287Z"
   },
   {
    "duration": 13,
    "start_time": "2021-08-11T18:09:58.302Z"
   },
   {
    "duration": 39,
    "start_time": "2021-08-11T18:23:30.919Z"
   },
   {
    "duration": 21,
    "start_time": "2021-08-11T18:23:30.960Z"
   },
   {
    "duration": 5,
    "start_time": "2021-08-11T18:23:31.049Z"
   },
   {
    "duration": 6,
    "start_time": "2021-08-11T18:23:31.150Z"
   },
   {
    "duration": 9,
    "start_time": "2021-08-11T18:23:31.211Z"
   },
   {
    "duration": 11,
    "start_time": "2021-08-11T18:23:31.357Z"
   },
   {
    "duration": 16,
    "start_time": "2021-08-11T18:23:31.444Z"
   },
   {
    "duration": 38,
    "start_time": "2021-08-11T18:23:31.548Z"
   },
   {
    "duration": 11,
    "start_time": "2021-08-11T18:23:31.590Z"
   },
   {
    "duration": 8,
    "start_time": "2021-08-11T18:23:31.653Z"
   },
   {
    "duration": 13,
    "start_time": "2021-08-11T18:23:31.738Z"
   },
   {
    "duration": 30,
    "start_time": "2021-08-11T18:23:31.838Z"
   },
   {
    "duration": 384,
    "start_time": "2021-08-11T18:23:31.944Z"
   },
   {
    "duration": 14,
    "start_time": "2021-08-11T18:23:32.330Z"
   },
   {
    "duration": 25,
    "start_time": "2021-08-11T18:23:32.346Z"
   },
   {
    "duration": 982,
    "start_time": "2021-08-11T18:23:32.373Z"
   },
   {
    "duration": 34,
    "start_time": "2021-08-11T18:23:33.358Z"
   },
   {
    "duration": 14,
    "start_time": "2021-08-11T18:23:33.394Z"
   },
   {
    "duration": 1887,
    "start_time": "2021-08-11T18:23:33.410Z"
   },
   {
    "duration": 1195,
    "start_time": "2021-08-11T18:23:35.300Z"
   },
   {
    "duration": 382,
    "start_time": "2021-08-11T18:23:36.497Z"
   },
   {
    "duration": 553,
    "start_time": "2021-08-11T18:23:36.884Z"
   },
   {
    "duration": 391,
    "start_time": "2021-08-11T18:23:37.439Z"
   },
   {
    "duration": 17,
    "start_time": "2021-08-11T18:23:37.832Z"
   },
   {
    "duration": 58,
    "start_time": "2021-08-11T18:23:37.851Z"
   },
   {
    "duration": 428,
    "start_time": "2021-08-11T18:23:37.911Z"
   },
   {
    "duration": 428,
    "start_time": "2021-08-11T18:23:38.341Z"
   },
   {
    "duration": 419,
    "start_time": "2021-08-11T18:23:38.771Z"
   },
   {
    "duration": 456,
    "start_time": "2021-08-11T18:23:39.194Z"
   },
   {
    "duration": 514,
    "start_time": "2021-08-11T18:23:39.652Z"
   },
   {
    "duration": 7,
    "start_time": "2021-08-11T18:23:40.168Z"
   },
   {
    "duration": 20,
    "start_time": "2021-08-11T18:23:40.177Z"
   },
   {
    "duration": 22,
    "start_time": "2021-08-11T18:23:40.199Z"
   },
   {
    "duration": 643,
    "start_time": "2021-08-11T18:23:40.223Z"
   },
   {
    "duration": 7,
    "start_time": "2021-08-11T18:23:40.868Z"
   },
   {
    "duration": 17,
    "start_time": "2021-08-11T18:23:40.884Z"
   },
   {
    "duration": 22,
    "start_time": "2021-08-11T18:23:40.903Z"
   },
   {
    "duration": 26,
    "start_time": "2021-08-11T18:23:40.926Z"
   },
   {
    "duration": 3659,
    "start_time": "2021-08-11T18:23:40.954Z"
   },
   {
    "duration": 593,
    "start_time": "2021-08-11T18:23:44.614Z"
   },
   {
    "duration": 8,
    "start_time": "2021-08-11T18:23:45.208Z"
   },
   {
    "duration": 11,
    "start_time": "2021-08-11T18:23:45.218Z"
   },
   {
    "duration": 10,
    "start_time": "2021-08-11T18:23:45.231Z"
   },
   {
    "duration": 15,
    "start_time": "2021-08-11T18:23:45.243Z"
   },
   {
    "duration": 37,
    "start_time": "2021-08-11T18:23:45.260Z"
   },
   {
    "duration": 1115,
    "start_time": "2021-08-11T18:24:12.487Z"
   },
   {
    "duration": 23,
    "start_time": "2021-08-11T18:24:14.153Z"
   },
   {
    "duration": 5,
    "start_time": "2021-08-11T18:24:14.717Z"
   },
   {
    "duration": 7,
    "start_time": "2021-08-11T18:24:14.829Z"
   },
   {
    "duration": 8,
    "start_time": "2021-08-11T18:24:14.885Z"
   },
   {
    "duration": 9,
    "start_time": "2021-08-11T18:24:15.020Z"
   },
   {
    "duration": 10,
    "start_time": "2021-08-11T18:24:15.115Z"
   },
   {
    "duration": 24,
    "start_time": "2021-08-11T18:24:15.219Z"
   },
   {
    "duration": 9,
    "start_time": "2021-08-11T18:24:15.259Z"
   },
   {
    "duration": 6,
    "start_time": "2021-08-11T18:24:15.322Z"
   },
   {
    "duration": 8,
    "start_time": "2021-08-11T18:24:15.418Z"
   },
   {
    "duration": 20,
    "start_time": "2021-08-11T18:24:15.514Z"
   },
   {
    "duration": 364,
    "start_time": "2021-08-11T18:24:15.612Z"
   },
   {
    "duration": 18,
    "start_time": "2021-08-11T18:24:15.978Z"
   },
   {
    "duration": 20,
    "start_time": "2021-08-11T18:24:15.998Z"
   },
   {
    "duration": 951,
    "start_time": "2021-08-11T18:24:16.019Z"
   },
   {
    "duration": 31,
    "start_time": "2021-08-11T18:24:16.972Z"
   },
   {
    "duration": 14,
    "start_time": "2021-08-11T18:24:17.005Z"
   },
   {
    "duration": 1749,
    "start_time": "2021-08-11T18:24:17.021Z"
   },
   {
    "duration": 1266,
    "start_time": "2021-08-11T18:24:18.772Z"
   },
   {
    "duration": 397,
    "start_time": "2021-08-11T18:24:20.040Z"
   },
   {
    "duration": 425,
    "start_time": "2021-08-11T18:24:20.439Z"
   },
   {
    "duration": 398,
    "start_time": "2021-08-11T18:24:20.865Z"
   },
   {
    "duration": 28,
    "start_time": "2021-08-11T18:24:21.264Z"
   },
   {
    "duration": 32,
    "start_time": "2021-08-11T18:24:21.294Z"
   },
   {
    "duration": 521,
    "start_time": "2021-08-11T18:24:21.328Z"
   },
   {
    "duration": 441,
    "start_time": "2021-08-11T18:24:21.851Z"
   },
   {
    "duration": 422,
    "start_time": "2021-08-11T18:24:22.294Z"
   },
   {
    "duration": 483,
    "start_time": "2021-08-11T18:24:22.719Z"
   },
   {
    "duration": 811,
    "start_time": "2021-08-11T18:24:23.204Z"
   },
   {
    "duration": 8,
    "start_time": "2021-08-11T18:24:24.018Z"
   },
   {
    "duration": 9,
    "start_time": "2021-08-11T18:24:24.028Z"
   },
   {
    "duration": 8,
    "start_time": "2021-08-11T18:24:24.039Z"
   },
   {
    "duration": 651,
    "start_time": "2021-08-11T18:24:24.049Z"
   },
   {
    "duration": 8,
    "start_time": "2021-08-11T18:24:24.702Z"
   },
   {
    "duration": 11,
    "start_time": "2021-08-11T18:24:24.712Z"
   },
   {
    "duration": 9,
    "start_time": "2021-08-11T18:24:24.725Z"
   },
   {
    "duration": 6,
    "start_time": "2021-08-11T18:24:24.735Z"
   },
   {
    "duration": 3385,
    "start_time": "2021-08-11T18:24:24.742Z"
   },
   {
    "duration": 568,
    "start_time": "2021-08-11T18:24:28.128Z"
   },
   {
    "duration": 7,
    "start_time": "2021-08-11T18:24:28.698Z"
   },
   {
    "duration": 11,
    "start_time": "2021-08-11T18:24:28.706Z"
   },
   {
    "duration": 8,
    "start_time": "2021-08-11T18:24:28.719Z"
   },
   {
    "duration": 19,
    "start_time": "2021-08-11T18:24:28.728Z"
   },
   {
    "duration": 40,
    "start_time": "2021-08-11T18:24:28.748Z"
   },
   {
    "duration": 1133,
    "start_time": "2021-08-11T20:47:55.507Z"
   },
   {
    "duration": 21,
    "start_time": "2021-08-11T20:47:56.642Z"
   },
   {
    "duration": 5,
    "start_time": "2021-08-11T20:47:56.666Z"
   },
   {
    "duration": 6,
    "start_time": "2021-08-11T20:47:56.673Z"
   },
   {
    "duration": 8,
    "start_time": "2021-08-11T20:47:56.681Z"
   },
   {
    "duration": 11,
    "start_time": "2021-08-11T20:47:56.691Z"
   },
   {
    "duration": 45,
    "start_time": "2021-08-11T20:47:56.703Z"
   },
   {
    "duration": 22,
    "start_time": "2021-08-11T20:47:56.751Z"
   },
   {
    "duration": 7,
    "start_time": "2021-08-11T20:47:56.775Z"
   },
   {
    "duration": 4,
    "start_time": "2021-08-11T20:47:56.784Z"
   },
   {
    "duration": 8,
    "start_time": "2021-08-11T20:47:56.790Z"
   },
   {
    "duration": 50,
    "start_time": "2021-08-11T20:47:56.799Z"
   },
   {
    "duration": 312,
    "start_time": "2021-08-11T20:47:56.851Z"
   },
   {
    "duration": 13,
    "start_time": "2021-08-11T20:47:57.165Z"
   },
   {
    "duration": 21,
    "start_time": "2021-08-11T20:47:57.180Z"
   },
   {
    "duration": 794,
    "start_time": "2021-08-11T20:47:57.203Z"
   },
   {
    "duration": 18,
    "start_time": "2021-08-11T20:47:57.999Z"
   },
   {
    "duration": 24,
    "start_time": "2021-08-11T20:47:58.019Z"
   },
   {
    "duration": 1537,
    "start_time": "2021-08-11T20:47:58.045Z"
   },
   {
    "duration": 1067,
    "start_time": "2021-08-11T20:47:59.584Z"
   },
   {
    "duration": 332,
    "start_time": "2021-08-11T20:48:00.653Z"
   },
   {
    "duration": 357,
    "start_time": "2021-08-11T20:48:00.986Z"
   },
   {
    "duration": 358,
    "start_time": "2021-08-11T20:48:01.346Z"
   },
   {
    "duration": 17,
    "start_time": "2021-08-11T20:48:01.706Z"
   },
   {
    "duration": 147,
    "start_time": "2021-08-11T20:48:01.725Z"
   },
   {
    "duration": 429,
    "start_time": "2021-08-11T20:48:01.873Z"
   },
   {
    "duration": 382,
    "start_time": "2021-08-11T20:48:02.304Z"
   },
   {
    "duration": 355,
    "start_time": "2021-08-11T20:48:02.687Z"
   },
   {
    "duration": 390,
    "start_time": "2021-08-11T20:48:03.044Z"
   },
   {
    "duration": 1392,
    "start_time": "2021-08-11T20:48:03.435Z"
   },
   {
    "duration": 13,
    "start_time": "2021-08-11T20:48:04.829Z"
   },
   {
    "duration": 14,
    "start_time": "2021-08-11T20:48:04.843Z"
   },
   {
    "duration": 10,
    "start_time": "2021-08-11T20:48:04.859Z"
   },
   {
    "duration": 454,
    "start_time": "2021-08-11T20:48:04.871Z"
   },
   {
    "duration": 6,
    "start_time": "2021-08-11T20:48:05.327Z"
   },
   {
    "duration": 5,
    "start_time": "2021-08-11T20:48:05.341Z"
   },
   {
    "duration": 10,
    "start_time": "2021-08-11T20:48:05.348Z"
   },
   {
    "duration": 14,
    "start_time": "2021-08-11T20:48:05.359Z"
   },
   {
    "duration": 3182,
    "start_time": "2021-08-11T20:48:05.374Z"
   },
   {
    "duration": 488,
    "start_time": "2021-08-11T20:48:08.557Z"
   },
   {
    "duration": 7,
    "start_time": "2021-08-11T20:48:09.046Z"
   },
   {
    "duration": 25,
    "start_time": "2021-08-11T20:48:09.054Z"
   },
   {
    "duration": 21,
    "start_time": "2021-08-11T20:48:09.080Z"
   },
   {
    "duration": 27,
    "start_time": "2021-08-11T20:48:09.102Z"
   },
   {
    "duration": 26,
    "start_time": "2021-08-11T20:48:09.130Z"
   },
   {
    "duration": 1405,
    "start_time": "2021-08-12T10:29:51.966Z"
   },
   {
    "duration": 35,
    "start_time": "2021-08-12T10:29:53.374Z"
   },
   {
    "duration": 6192,
    "start_time": "2021-08-12T10:35:50.351Z"
   },
   {
    "duration": 47,
    "start_time": "2021-08-12T10:36:05.792Z"
   },
   {
    "duration": 29,
    "start_time": "2021-08-12T10:36:05.999Z"
   },
   {
    "duration": 7,
    "start_time": "2021-08-12T10:36:06.761Z"
   },
   {
    "duration": 7,
    "start_time": "2021-08-12T10:36:06.858Z"
   },
   {
    "duration": 10,
    "start_time": "2021-08-12T10:36:06.968Z"
   },
   {
    "duration": 14,
    "start_time": "2021-08-12T10:36:07.066Z"
   },
   {
    "duration": 14,
    "start_time": "2021-08-12T10:36:07.178Z"
   },
   {
    "duration": 34,
    "start_time": "2021-08-12T10:36:07.252Z"
   },
   {
    "duration": 10,
    "start_time": "2021-08-12T10:36:07.288Z"
   },
   {
    "duration": 7,
    "start_time": "2021-08-12T10:36:07.402Z"
   },
   {
    "duration": 11,
    "start_time": "2021-08-12T10:36:07.487Z"
   },
   {
    "duration": 28,
    "start_time": "2021-08-12T10:36:08.649Z"
   },
   {
    "duration": 10,
    "start_time": "2021-08-12T10:36:10.324Z"
   },
   {
    "duration": 3,
    "start_time": "2021-08-12T10:36:23.347Z"
   },
   {
    "duration": 6,
    "start_time": "2021-08-12T10:37:03.488Z"
   },
   {
    "duration": 570,
    "start_time": "2021-08-12T10:37:04.644Z"
   },
   {
    "duration": 21,
    "start_time": "2021-08-12T10:37:13.537Z"
   },
   {
    "duration": 22,
    "start_time": "2021-08-12T10:37:16.018Z"
   },
   {
    "duration": 1456,
    "start_time": "2021-08-12T10:37:18.158Z"
   },
   {
    "duration": 106,
    "start_time": "2021-08-12T10:39:35.451Z"
   },
   {
    "duration": 552,
    "start_time": "2021-08-12T10:40:24.522Z"
   },
   {
    "duration": 664,
    "start_time": "2021-08-12T10:41:13.808Z"
   },
   {
    "duration": 825,
    "start_time": "2021-08-12T10:41:40.044Z"
   },
   {
    "duration": 326,
    "start_time": "2021-08-12T10:41:54.626Z"
   },
   {
    "duration": 554,
    "start_time": "2021-08-12T10:42:02.093Z"
   },
   {
    "duration": 33,
    "start_time": "2021-08-12T10:44:23.043Z"
   },
   {
    "duration": 21,
    "start_time": "2021-08-12T10:44:30.903Z"
   },
   {
    "duration": 2491,
    "start_time": "2021-08-12T10:44:45.109Z"
   },
   {
    "duration": 236,
    "start_time": "2021-08-12T10:47:02.643Z"
   },
   {
    "duration": 214,
    "start_time": "2021-08-12T10:47:27.262Z"
   },
   {
    "duration": 339,
    "start_time": "2021-08-12T10:47:51.358Z"
   },
   {
    "duration": 251,
    "start_time": "2021-08-12T10:48:13.100Z"
   },
   {
    "duration": 6011,
    "start_time": "2021-08-12T10:49:26.822Z"
   },
   {
    "duration": 6932,
    "start_time": "2021-08-12T10:49:59.815Z"
   },
   {
    "duration": 515,
    "start_time": "2021-08-12T10:50:36.587Z"
   },
   {
    "duration": 2804,
    "start_time": "2021-08-12T10:51:17.393Z"
   },
   {
    "duration": 2592,
    "start_time": "2021-08-12T10:51:36.515Z"
   },
   {
    "duration": 2931,
    "start_time": "2021-08-12T10:52:30.794Z"
   },
   {
    "duration": 794,
    "start_time": "2021-08-12T10:53:58.315Z"
   },
   {
    "duration": 667,
    "start_time": "2021-08-12T10:55:24.213Z"
   },
   {
    "duration": 642,
    "start_time": "2021-08-12T10:55:27.472Z"
   },
   {
    "duration": 262,
    "start_time": "2021-08-12T10:55:59.269Z"
   },
   {
    "duration": 18555,
    "start_time": "2021-08-12T10:56:13.437Z"
   },
   {
    "duration": 2423,
    "start_time": "2021-08-12T10:56:45.952Z"
   },
   {
    "duration": 704,
    "start_time": "2021-08-12T10:57:55.306Z"
   },
   {
    "duration": 481,
    "start_time": "2021-08-12T10:58:23.906Z"
   },
   {
    "duration": 677,
    "start_time": "2021-08-12T10:58:31.057Z"
   },
   {
    "duration": 649,
    "start_time": "2021-08-12T11:00:52.114Z"
   },
   {
    "duration": 642,
    "start_time": "2021-08-12T11:00:58.284Z"
   },
   {
    "duration": 775,
    "start_time": "2021-08-12T11:07:53.594Z"
   },
   {
    "duration": 801,
    "start_time": "2021-08-12T11:08:32.476Z"
   },
   {
    "duration": 864,
    "start_time": "2021-08-12T11:08:51.254Z"
   },
   {
    "duration": 755,
    "start_time": "2021-08-12T11:08:57.438Z"
   },
   {
    "duration": 812,
    "start_time": "2021-08-12T11:09:34.206Z"
   },
   {
    "duration": 1334,
    "start_time": "2021-08-12T11:12:06.948Z"
   },
   {
    "duration": 26,
    "start_time": "2021-08-12T11:12:13.478Z"
   },
   {
    "duration": 46,
    "start_time": "2021-08-12T11:12:50.688Z"
   },
   {
    "duration": 844,
    "start_time": "2021-08-12T11:13:33.242Z"
   },
   {
    "duration": 781,
    "start_time": "2021-08-12T11:15:19.291Z"
   },
   {
    "duration": 692,
    "start_time": "2021-08-12T11:15:45.556Z"
   },
   {
    "duration": 679,
    "start_time": "2021-08-12T11:16:17.043Z"
   },
   {
    "duration": 38,
    "start_time": "2021-08-12T11:16:28.840Z"
   },
   {
    "duration": 329,
    "start_time": "2021-08-12T11:16:41.277Z"
   },
   {
    "duration": 318,
    "start_time": "2021-08-12T11:17:23.910Z"
   },
   {
    "duration": 316,
    "start_time": "2021-08-12T11:19:57.280Z"
   },
   {
    "duration": 343,
    "start_time": "2021-08-12T11:20:09.982Z"
   },
   {
    "duration": 1423,
    "start_time": "2021-08-12T11:22:41.819Z"
   },
   {
    "duration": 11,
    "start_time": "2021-08-12T11:22:55.319Z"
   },
   {
    "duration": 10,
    "start_time": "2021-08-12T11:22:55.950Z"
   },
   {
    "duration": 10,
    "start_time": "2021-08-12T11:22:56.540Z"
   },
   {
    "duration": 867,
    "start_time": "2021-08-12T11:23:02.425Z"
   },
   {
    "duration": 11,
    "start_time": "2021-08-12T11:23:08.345Z"
   },
   {
    "duration": 11,
    "start_time": "2021-08-12T11:23:08.515Z"
   },
   {
    "duration": 10,
    "start_time": "2021-08-12T11:23:08.700Z"
   },
   {
    "duration": 312,
    "start_time": "2021-08-12T11:24:03.723Z"
   },
   {
    "duration": 309,
    "start_time": "2021-08-12T11:24:23.876Z"
   },
   {
    "duration": 1355,
    "start_time": "2021-08-12T11:24:32.407Z"
   },
   {
    "duration": 5,
    "start_time": "2021-08-12T11:25:05.409Z"
   },
   {
    "duration": 218,
    "start_time": "2021-08-12T11:25:15.465Z"
   },
   {
    "duration": 287,
    "start_time": "2021-08-12T11:26:29.190Z"
   },
   {
    "duration": 2512,
    "start_time": "2021-08-12T11:27:02.276Z"
   },
   {
    "duration": 1159,
    "start_time": "2021-08-12T11:27:13.799Z"
   },
   {
    "duration": 1459,
    "start_time": "2021-08-12T13:42:11.822Z"
   },
   {
    "duration": 34,
    "start_time": "2021-08-12T13:42:13.284Z"
   },
   {
    "duration": 8,
    "start_time": "2021-08-12T13:42:13.321Z"
   },
   {
    "duration": 31,
    "start_time": "2021-08-12T13:42:13.332Z"
   },
   {
    "duration": 9,
    "start_time": "2021-08-12T13:42:13.366Z"
   },
   {
    "duration": 42,
    "start_time": "2021-08-12T13:42:13.377Z"
   },
   {
    "duration": 12,
    "start_time": "2021-08-12T13:42:13.421Z"
   },
   {
    "duration": 47,
    "start_time": "2021-08-12T13:42:13.436Z"
   },
   {
    "duration": 11,
    "start_time": "2021-08-12T13:42:13.486Z"
   },
   {
    "duration": 7,
    "start_time": "2021-08-12T13:42:13.499Z"
   },
   {
    "duration": 18,
    "start_time": "2021-08-12T13:42:13.509Z"
   },
   {
    "duration": 34,
    "start_time": "2021-08-12T13:42:13.529Z"
   },
   {
    "duration": 24,
    "start_time": "2021-08-12T13:42:13.566Z"
   },
   {
    "duration": 561,
    "start_time": "2021-08-12T13:42:13.593Z"
   },
   {
    "duration": 26,
    "start_time": "2021-08-12T13:42:14.156Z"
   },
   {
    "duration": 22,
    "start_time": "2021-08-12T13:42:14.184Z"
   },
   {
    "duration": 1480,
    "start_time": "2021-08-12T13:42:14.209Z"
   },
   {
    "duration": 584,
    "start_time": "2021-08-12T13:42:15.693Z"
   },
   {
    "duration": 25,
    "start_time": "2021-08-12T13:42:16.280Z"
   },
   {
    "duration": 22,
    "start_time": "2021-08-12T13:42:16.307Z"
   },
   {
    "duration": 2401,
    "start_time": "2021-08-12T13:42:16.363Z"
   },
   {
    "duration": 2731,
    "start_time": "2021-08-12T13:42:18.766Z"
   },
   {
    "duration": 934,
    "start_time": "2021-08-12T13:42:21.500Z"
   },
   {
    "duration": 738,
    "start_time": "2021-08-12T13:42:22.437Z"
   },
   {
    "duration": 742,
    "start_time": "2021-08-12T13:42:23.177Z"
   },
   {
    "duration": 20,
    "start_time": "2021-08-12T13:42:23.921Z"
   },
   {
    "duration": 159,
    "start_time": "2021-08-12T13:42:23.944Z"
   },
   {
    "duration": 799,
    "start_time": "2021-08-12T13:42:24.107Z"
   },
   {
    "duration": 811,
    "start_time": "2021-08-12T13:42:24.909Z"
   },
   {
    "duration": 696,
    "start_time": "2021-08-12T13:42:25.722Z"
   },
   {
    "duration": 324,
    "start_time": "2021-08-12T13:42:26.421Z"
   },
   {
    "duration": 1461,
    "start_time": "2021-08-12T13:42:26.748Z"
   },
   {
    "duration": 15,
    "start_time": "2021-08-12T13:42:28.212Z"
   },
   {
    "duration": 33,
    "start_time": "2021-08-12T13:42:28.230Z"
   },
   {
    "duration": 11,
    "start_time": "2021-08-12T13:42:28.267Z"
   },
   {
    "duration": 942,
    "start_time": "2021-08-12T13:42:28.282Z"
   },
   {
    "duration": 10,
    "start_time": "2021-08-12T13:42:29.226Z"
   },
   {
    "duration": 28,
    "start_time": "2021-08-12T13:42:29.238Z"
   },
   {
    "duration": 12,
    "start_time": "2021-08-12T13:42:29.269Z"
   },
   {
    "duration": 10,
    "start_time": "2021-08-12T13:42:29.284Z"
   },
   {
    "duration": 2337,
    "start_time": "2021-08-12T13:42:29.296Z"
   },
   {
    "duration": 813,
    "start_time": "2021-08-12T13:42:31.635Z"
   },
   {
    "duration": 19,
    "start_time": "2021-08-12T13:42:32.450Z"
   },
   {
    "duration": 13,
    "start_time": "2021-08-12T13:42:32.472Z"
   },
   {
    "duration": 15,
    "start_time": "2021-08-12T13:42:32.488Z"
   },
   {
    "duration": 7,
    "start_time": "2021-08-12T13:43:33.016Z"
   },
   {
    "duration": 2535,
    "start_time": "2021-08-12T13:43:39.407Z"
   },
   {
    "duration": 812,
    "start_time": "2021-08-12T13:43:45.242Z"
   },
   {
    "duration": 6,
    "start_time": "2021-08-12T13:44:33.415Z"
   },
   {
    "duration": 2411,
    "start_time": "2021-08-12T13:44:34.284Z"
   },
   {
    "duration": 809,
    "start_time": "2021-08-12T13:44:36.698Z"
   },
   {
    "duration": 11,
    "start_time": "2021-08-12T13:44:37.509Z"
   },
   {
    "duration": 18,
    "start_time": "2021-08-12T13:44:37.523Z"
   },
   {
    "duration": 10,
    "start_time": "2021-08-12T13:44:38.067Z"
   },
   {
    "duration": 29,
    "start_time": "2021-08-12T13:48:23.237Z"
   },
   {
    "duration": 85,
    "start_time": "2021-08-12T13:48:46.209Z"
   },
   {
    "duration": 21,
    "start_time": "2021-08-12T13:49:18.150Z"
   },
   {
    "duration": 20,
    "start_time": "2021-08-12T13:51:50.009Z"
   },
   {
    "duration": 1601,
    "start_time": "2021-08-12T14:03:13.123Z"
   },
   {
    "duration": 44,
    "start_time": "2021-08-12T14:03:14.727Z"
   },
   {
    "duration": 10,
    "start_time": "2021-08-12T14:03:14.848Z"
   },
   {
    "duration": 7,
    "start_time": "2021-08-12T14:03:16.282Z"
   },
   {
    "duration": 10,
    "start_time": "2021-08-12T14:03:16.380Z"
   },
   {
    "duration": 13,
    "start_time": "2021-08-12T14:03:16.483Z"
   },
   {
    "duration": 12,
    "start_time": "2021-08-12T14:03:16.564Z"
   },
   {
    "duration": 36,
    "start_time": "2021-08-12T14:03:16.679Z"
   },
   {
    "duration": 11,
    "start_time": "2021-08-12T14:03:16.718Z"
   },
   {
    "duration": 7,
    "start_time": "2021-08-12T14:03:16.803Z"
   },
   {
    "duration": 15,
    "start_time": "2021-08-12T14:03:16.883Z"
   },
   {
    "duration": 3,
    "start_time": "2021-08-12T14:03:17.041Z"
   },
   {
    "duration": 11,
    "start_time": "2021-08-12T14:03:17.120Z"
   },
   {
    "duration": 561,
    "start_time": "2021-08-12T14:03:17.201Z"
   },
   {
    "duration": 21,
    "start_time": "2021-08-12T14:03:17.764Z"
   },
   {
    "duration": 23,
    "start_time": "2021-08-12T14:03:17.788Z"
   },
   {
    "duration": 1539,
    "start_time": "2021-08-12T14:03:17.813Z"
   },
   {
    "duration": 601,
    "start_time": "2021-08-12T14:03:19.361Z"
   },
   {
    "duration": 26,
    "start_time": "2021-08-12T14:03:19.964Z"
   },
   {
    "duration": 25,
    "start_time": "2021-08-12T14:03:19.993Z"
   },
   {
    "duration": 2515,
    "start_time": "2021-08-12T14:03:20.020Z"
   },
   {
    "duration": 1915,
    "start_time": "2021-08-12T14:03:22.537Z"
   },
   {
    "duration": 686,
    "start_time": "2021-08-12T14:03:24.462Z"
   },
   {
    "duration": 736,
    "start_time": "2021-08-12T14:03:25.152Z"
   },
   {
    "duration": 763,
    "start_time": "2021-08-12T14:03:25.891Z"
   },
   {
    "duration": 20,
    "start_time": "2021-08-12T14:03:26.661Z"
   },
   {
    "duration": 47,
    "start_time": "2021-08-12T14:03:26.683Z"
   },
   {
    "duration": 788,
    "start_time": "2021-08-12T14:03:26.761Z"
   },
   {
    "duration": 989,
    "start_time": "2021-08-12T14:03:27.552Z"
   },
   {
    "duration": 697,
    "start_time": "2021-08-12T14:03:28.544Z"
   },
   {
    "duration": 332,
    "start_time": "2021-08-12T14:03:29.243Z"
   },
   {
    "duration": 1384,
    "start_time": "2021-08-12T14:03:29.577Z"
   },
   {
    "duration": 11,
    "start_time": "2021-08-12T14:03:30.964Z"
   },
   {
    "duration": 36,
    "start_time": "2021-08-12T14:03:30.978Z"
   },
   {
    "duration": 31,
    "start_time": "2021-08-12T14:03:31.017Z"
   },
   {
    "duration": 1204,
    "start_time": "2021-08-12T14:03:31.051Z"
   },
   {
    "duration": 14,
    "start_time": "2021-08-12T14:03:32.263Z"
   },
   {
    "duration": 17,
    "start_time": "2021-08-12T14:03:32.280Z"
   },
   {
    "duration": 14,
    "start_time": "2021-08-12T14:03:32.304Z"
   },
   {
    "duration": 43,
    "start_time": "2021-08-12T14:03:32.321Z"
   },
   {
    "duration": 3522,
    "start_time": "2021-08-12T14:03:32.367Z"
   },
   {
    "duration": 1318,
    "start_time": "2021-08-12T14:03:35.892Z"
   },
   {
    "duration": 14,
    "start_time": "2021-08-12T14:03:37.213Z"
   },
   {
    "duration": 34,
    "start_time": "2021-08-12T14:03:37.230Z"
   },
   {
    "duration": 23,
    "start_time": "2021-08-12T14:03:37.267Z"
   },
   {
    "duration": 29,
    "start_time": "2021-08-12T14:03:37.294Z"
   },
   {
    "duration": 50,
    "start_time": "2021-08-12T14:03:37.326Z"
   },
   {
    "duration": 1049,
    "start_time": "2021-08-12T17:21:11.402Z"
   },
   {
    "duration": 21,
    "start_time": "2021-08-12T17:21:12.453Z"
   },
   {
    "duration": 4,
    "start_time": "2021-08-12T17:21:12.476Z"
   },
   {
    "duration": 12,
    "start_time": "2021-08-12T17:21:12.482Z"
   },
   {
    "duration": 13,
    "start_time": "2021-08-12T17:21:12.495Z"
   },
   {
    "duration": 22,
    "start_time": "2021-08-12T17:21:12.510Z"
   },
   {
    "duration": 15,
    "start_time": "2021-08-12T17:21:12.533Z"
   },
   {
    "duration": 24,
    "start_time": "2021-08-12T17:21:12.550Z"
   },
   {
    "duration": 7,
    "start_time": "2021-08-12T17:21:12.575Z"
   },
   {
    "duration": 4,
    "start_time": "2021-08-12T17:21:12.584Z"
   },
   {
    "duration": 14,
    "start_time": "2021-08-12T17:21:12.590Z"
   },
   {
    "duration": 8,
    "start_time": "2021-08-12T17:21:12.606Z"
   },
   {
    "duration": 13,
    "start_time": "2021-08-12T17:21:12.615Z"
   },
   {
    "duration": 320,
    "start_time": "2021-08-12T17:21:12.641Z"
   },
   {
    "duration": 14,
    "start_time": "2021-08-12T17:21:12.963Z"
   },
   {
    "duration": 15,
    "start_time": "2021-08-12T17:21:12.979Z"
   },
   {
    "duration": 845,
    "start_time": "2021-08-12T17:21:12.996Z"
   },
   {
    "duration": 389,
    "start_time": "2021-08-12T17:21:13.843Z"
   },
   {
    "duration": 22,
    "start_time": "2021-08-12T17:21:14.234Z"
   },
   {
    "duration": 14,
    "start_time": "2021-08-12T17:21:14.257Z"
   },
   {
    "duration": 1384,
    "start_time": "2021-08-12T17:21:14.273Z"
   },
   {
    "duration": 326,
    "start_time": "2021-08-12T17:21:46.392Z"
   },
   {
    "duration": 299,
    "start_time": "2021-08-12T17:21:55.845Z"
   },
   {
    "duration": 23,
    "start_time": "2021-08-12T17:22:02.428Z"
   },
   {
    "duration": 36,
    "start_time": "2021-08-12T17:24:13.828Z"
   },
   {
    "duration": 20,
    "start_time": "2021-08-12T17:24:13.865Z"
   },
   {
    "duration": 5,
    "start_time": "2021-08-12T17:24:13.887Z"
   },
   {
    "duration": 11,
    "start_time": "2021-08-12T17:24:13.894Z"
   },
   {
    "duration": 36,
    "start_time": "2021-08-12T17:24:13.906Z"
   },
   {
    "duration": 11,
    "start_time": "2021-08-12T17:24:13.944Z"
   },
   {
    "duration": 9,
    "start_time": "2021-08-12T17:24:13.956Z"
   },
   {
    "duration": 21,
    "start_time": "2021-08-12T17:24:13.967Z"
   },
   {
    "duration": 7,
    "start_time": "2021-08-12T17:24:13.990Z"
   },
   {
    "duration": 10,
    "start_time": "2021-08-12T17:24:13.998Z"
   },
   {
    "duration": 8,
    "start_time": "2021-08-12T17:24:14.040Z"
   },
   {
    "duration": 6,
    "start_time": "2021-08-12T17:24:14.050Z"
   },
   {
    "duration": 8,
    "start_time": "2021-08-12T17:24:14.057Z"
   },
   {
    "duration": 314,
    "start_time": "2021-08-12T17:24:14.067Z"
   },
   {
    "duration": 13,
    "start_time": "2021-08-12T17:24:14.382Z"
   },
   {
    "duration": 16,
    "start_time": "2021-08-12T17:24:14.397Z"
   },
   {
    "duration": 815,
    "start_time": "2021-08-12T17:24:14.414Z"
   },
   {
    "duration": 325,
    "start_time": "2021-08-12T17:24:15.231Z"
   },
   {
    "duration": 16,
    "start_time": "2021-08-12T17:24:15.557Z"
   },
   {
    "duration": 13,
    "start_time": "2021-08-12T17:24:15.575Z"
   },
   {
    "duration": 1331,
    "start_time": "2021-08-12T17:24:15.590Z"
   },
   {
    "duration": 30,
    "start_time": "2021-08-12T17:24:16.923Z"
   },
   {
    "duration": 1020,
    "start_time": "2021-08-12T17:24:16.956Z"
   },
   {
    "duration": 368,
    "start_time": "2021-08-12T17:24:17.977Z"
   },
   {
    "duration": 453,
    "start_time": "2021-08-12T17:24:39.915Z"
   }
  ],
  "kernelspec": {
   "display_name": "Python 3",
   "language": "python",
   "name": "python3"
  },
  "language_info": {
   "codemirror_mode": {
    "name": "ipython",
    "version": 3
   },
   "file_extension": ".py",
   "mimetype": "text/x-python",
   "name": "python",
   "nbconvert_exporter": "python",
   "pygments_lexer": "ipython3",
   "version": "3.7.6"
  },
  "toc": {
   "base_numbering": 1,
   "nav_menu": {
    "height": "238px",
    "width": "314px"
   },
   "number_sections": true,
   "sideBar": true,
   "skip_h1_title": true,
   "title_cell": "Table of Contents",
   "title_sidebar": "Contents",
   "toc_cell": false,
   "toc_position": {},
   "toc_section_display": true,
   "toc_window_display": true
  }
 },
 "nbformat": 4,
 "nbformat_minor": 2
}
